{
  "nbformat": 4,
  "nbformat_minor": 0,
  "metadata": {
    "colab": {
      "provenance": [],
      "collapsed_sections": [],
      "authorship_tag": "ABX9TyM1LP4sh3/0VAB+W+Jg2ttK",
      "include_colab_link": true
    },
    "kernelspec": {
      "name": "python3",
      "display_name": "Python 3"
    },
    "language_info": {
      "name": "python"
    }
  },
  "cells": [
    {
      "cell_type": "markdown",
      "metadata": {
        "id": "view-in-github",
        "colab_type": "text"
      },
      "source": [
        "<a href=\"https://colab.research.google.com/github/dhivya4/Inceptz/blob/main/Drug200.ipynb\" target=\"_parent\"><img src=\"https://colab.research.google.com/assets/colab-badge.svg\" alt=\"Open In Colab\"/></a>"
      ]
    },
    {
      "cell_type": "code",
      "execution_count": 2,
      "metadata": {
        "id": "WMZwzOV_YKP4"
      },
      "outputs": [],
      "source": [
        "import numpy as np\n",
        "import pandas as pd\n",
        "from sklearn.model_selection import train_test_split\n",
        "from sklearn.naive_bayes import GaussianNB\n",
        "from sklearn.neighbors import KNeighborsClassifier\n",
        "from sklearn.preprocessing import StandardScaler\n",
        "from sklearn.metrics import accuracy_score, precision_score, confusion_matrix, classification_report"
      ]
    },
    {
      "cell_type": "code",
      "source": [
        "df = pd.read_csv(\"https://raw.githubusercontent.com/balaji2v/Inceptez_Batch19/main/drug200.csv\")"
      ],
      "metadata": {
        "id": "OArF-xZSY75h"
      },
      "execution_count": 3,
      "outputs": []
    },
    {
      "cell_type": "code",
      "source": [
        "df.describe(include='all').T"
      ],
      "metadata": {
        "colab": {
          "base_uri": "https://localhost:8080/",
          "height": 238
        },
        "id": "59tWzO4MZqzU",
        "outputId": "9247de2b-24c9-407b-f7e4-1df6739cd9c7"
      },
      "execution_count": 6,
      "outputs": [
        {
          "output_type": "execute_result",
          "data": {
            "text/plain": [
              "             count unique    top freq       mean        std    min      25%  \\\n",
              "Age          200.0    NaN    NaN  NaN     44.315  16.544315   15.0     31.0   \n",
              "Sex            200      2      M  104        NaN        NaN    NaN      NaN   \n",
              "BP             200      3   HIGH   77        NaN        NaN    NaN      NaN   \n",
              "Cholesterol    200      2   HIGH  103        NaN        NaN    NaN      NaN   \n",
              "Na_to_K      200.0    NaN    NaN  NaN  16.084485   7.223956  6.269  10.4455   \n",
              "Drug           200      5  DrugY   91        NaN        NaN    NaN      NaN   \n",
              "\n",
              "                 50%    75%     max  \n",
              "Age             45.0   58.0    74.0  \n",
              "Sex              NaN    NaN     NaN  \n",
              "BP               NaN    NaN     NaN  \n",
              "Cholesterol      NaN    NaN     NaN  \n",
              "Na_to_K      13.9365  19.38  38.247  \n",
              "Drug             NaN    NaN     NaN  "
            ],
            "text/html": [
              "\n",
              "  <div id=\"df-ce0a5b28-540c-491a-a892-2733e33bcc56\">\n",
              "    <div class=\"colab-df-container\">\n",
              "      <div>\n",
              "<style scoped>\n",
              "    .dataframe tbody tr th:only-of-type {\n",
              "        vertical-align: middle;\n",
              "    }\n",
              "\n",
              "    .dataframe tbody tr th {\n",
              "        vertical-align: top;\n",
              "    }\n",
              "\n",
              "    .dataframe thead th {\n",
              "        text-align: right;\n",
              "    }\n",
              "</style>\n",
              "<table border=\"1\" class=\"dataframe\">\n",
              "  <thead>\n",
              "    <tr style=\"text-align: right;\">\n",
              "      <th></th>\n",
              "      <th>count</th>\n",
              "      <th>unique</th>\n",
              "      <th>top</th>\n",
              "      <th>freq</th>\n",
              "      <th>mean</th>\n",
              "      <th>std</th>\n",
              "      <th>min</th>\n",
              "      <th>25%</th>\n",
              "      <th>50%</th>\n",
              "      <th>75%</th>\n",
              "      <th>max</th>\n",
              "    </tr>\n",
              "  </thead>\n",
              "  <tbody>\n",
              "    <tr>\n",
              "      <th>Age</th>\n",
              "      <td>200.0</td>\n",
              "      <td>NaN</td>\n",
              "      <td>NaN</td>\n",
              "      <td>NaN</td>\n",
              "      <td>44.315</td>\n",
              "      <td>16.544315</td>\n",
              "      <td>15.0</td>\n",
              "      <td>31.0</td>\n",
              "      <td>45.0</td>\n",
              "      <td>58.0</td>\n",
              "      <td>74.0</td>\n",
              "    </tr>\n",
              "    <tr>\n",
              "      <th>Sex</th>\n",
              "      <td>200</td>\n",
              "      <td>2</td>\n",
              "      <td>M</td>\n",
              "      <td>104</td>\n",
              "      <td>NaN</td>\n",
              "      <td>NaN</td>\n",
              "      <td>NaN</td>\n",
              "      <td>NaN</td>\n",
              "      <td>NaN</td>\n",
              "      <td>NaN</td>\n",
              "      <td>NaN</td>\n",
              "    </tr>\n",
              "    <tr>\n",
              "      <th>BP</th>\n",
              "      <td>200</td>\n",
              "      <td>3</td>\n",
              "      <td>HIGH</td>\n",
              "      <td>77</td>\n",
              "      <td>NaN</td>\n",
              "      <td>NaN</td>\n",
              "      <td>NaN</td>\n",
              "      <td>NaN</td>\n",
              "      <td>NaN</td>\n",
              "      <td>NaN</td>\n",
              "      <td>NaN</td>\n",
              "    </tr>\n",
              "    <tr>\n",
              "      <th>Cholesterol</th>\n",
              "      <td>200</td>\n",
              "      <td>2</td>\n",
              "      <td>HIGH</td>\n",
              "      <td>103</td>\n",
              "      <td>NaN</td>\n",
              "      <td>NaN</td>\n",
              "      <td>NaN</td>\n",
              "      <td>NaN</td>\n",
              "      <td>NaN</td>\n",
              "      <td>NaN</td>\n",
              "      <td>NaN</td>\n",
              "    </tr>\n",
              "    <tr>\n",
              "      <th>Na_to_K</th>\n",
              "      <td>200.0</td>\n",
              "      <td>NaN</td>\n",
              "      <td>NaN</td>\n",
              "      <td>NaN</td>\n",
              "      <td>16.084485</td>\n",
              "      <td>7.223956</td>\n",
              "      <td>6.269</td>\n",
              "      <td>10.4455</td>\n",
              "      <td>13.9365</td>\n",
              "      <td>19.38</td>\n",
              "      <td>38.247</td>\n",
              "    </tr>\n",
              "    <tr>\n",
              "      <th>Drug</th>\n",
              "      <td>200</td>\n",
              "      <td>5</td>\n",
              "      <td>DrugY</td>\n",
              "      <td>91</td>\n",
              "      <td>NaN</td>\n",
              "      <td>NaN</td>\n",
              "      <td>NaN</td>\n",
              "      <td>NaN</td>\n",
              "      <td>NaN</td>\n",
              "      <td>NaN</td>\n",
              "      <td>NaN</td>\n",
              "    </tr>\n",
              "  </tbody>\n",
              "</table>\n",
              "</div>\n",
              "      <button class=\"colab-df-convert\" onclick=\"convertToInteractive('df-ce0a5b28-540c-491a-a892-2733e33bcc56')\"\n",
              "              title=\"Convert this dataframe to an interactive table.\"\n",
              "              style=\"display:none;\">\n",
              "        \n",
              "  <svg xmlns=\"http://www.w3.org/2000/svg\" height=\"24px\"viewBox=\"0 0 24 24\"\n",
              "       width=\"24px\">\n",
              "    <path d=\"M0 0h24v24H0V0z\" fill=\"none\"/>\n",
              "    <path d=\"M18.56 5.44l.94 2.06.94-2.06 2.06-.94-2.06-.94-.94-2.06-.94 2.06-2.06.94zm-11 1L8.5 8.5l.94-2.06 2.06-.94-2.06-.94L8.5 2.5l-.94 2.06-2.06.94zm10 10l.94 2.06.94-2.06 2.06-.94-2.06-.94-.94-2.06-.94 2.06-2.06.94z\"/><path d=\"M17.41 7.96l-1.37-1.37c-.4-.4-.92-.59-1.43-.59-.52 0-1.04.2-1.43.59L10.3 9.45l-7.72 7.72c-.78.78-.78 2.05 0 2.83L4 21.41c.39.39.9.59 1.41.59.51 0 1.02-.2 1.41-.59l7.78-7.78 2.81-2.81c.8-.78.8-2.07 0-2.86zM5.41 20L4 18.59l7.72-7.72 1.47 1.35L5.41 20z\"/>\n",
              "  </svg>\n",
              "      </button>\n",
              "      \n",
              "  <style>\n",
              "    .colab-df-container {\n",
              "      display:flex;\n",
              "      flex-wrap:wrap;\n",
              "      gap: 12px;\n",
              "    }\n",
              "\n",
              "    .colab-df-convert {\n",
              "      background-color: #E8F0FE;\n",
              "      border: none;\n",
              "      border-radius: 50%;\n",
              "      cursor: pointer;\n",
              "      display: none;\n",
              "      fill: #1967D2;\n",
              "      height: 32px;\n",
              "      padding: 0 0 0 0;\n",
              "      width: 32px;\n",
              "    }\n",
              "\n",
              "    .colab-df-convert:hover {\n",
              "      background-color: #E2EBFA;\n",
              "      box-shadow: 0px 1px 2px rgba(60, 64, 67, 0.3), 0px 1px 3px 1px rgba(60, 64, 67, 0.15);\n",
              "      fill: #174EA6;\n",
              "    }\n",
              "\n",
              "    [theme=dark] .colab-df-convert {\n",
              "      background-color: #3B4455;\n",
              "      fill: #D2E3FC;\n",
              "    }\n",
              "\n",
              "    [theme=dark] .colab-df-convert:hover {\n",
              "      background-color: #434B5C;\n",
              "      box-shadow: 0px 1px 3px 1px rgba(0, 0, 0, 0.15);\n",
              "      filter: drop-shadow(0px 1px 2px rgba(0, 0, 0, 0.3));\n",
              "      fill: #FFFFFF;\n",
              "    }\n",
              "  </style>\n",
              "\n",
              "      <script>\n",
              "        const buttonEl =\n",
              "          document.querySelector('#df-ce0a5b28-540c-491a-a892-2733e33bcc56 button.colab-df-convert');\n",
              "        buttonEl.style.display =\n",
              "          google.colab.kernel.accessAllowed ? 'block' : 'none';\n",
              "\n",
              "        async function convertToInteractive(key) {\n",
              "          const element = document.querySelector('#df-ce0a5b28-540c-491a-a892-2733e33bcc56');\n",
              "          const dataTable =\n",
              "            await google.colab.kernel.invokeFunction('convertToInteractive',\n",
              "                                                     [key], {});\n",
              "          if (!dataTable) return;\n",
              "\n",
              "          const docLinkHtml = 'Like what you see? Visit the ' +\n",
              "            '<a target=\"_blank\" href=https://colab.research.google.com/notebooks/data_table.ipynb>data table notebook</a>'\n",
              "            + ' to learn more about interactive tables.';\n",
              "          element.innerHTML = '';\n",
              "          dataTable['output_type'] = 'display_data';\n",
              "          await google.colab.output.renderOutput(dataTable, element);\n",
              "          const docLink = document.createElement('div');\n",
              "          docLink.innerHTML = docLinkHtml;\n",
              "          element.appendChild(docLink);\n",
              "        }\n",
              "      </script>\n",
              "    </div>\n",
              "  </div>\n",
              "  "
            ]
          },
          "metadata": {},
          "execution_count": 6
        }
      ]
    },
    {
      "cell_type": "code",
      "source": [
        "df.shape"
      ],
      "metadata": {
        "colab": {
          "base_uri": "https://localhost:8080/"
        },
        "id": "p7dxHLkrZNKE",
        "outputId": "b87b08d2-5756-465d-914d-8eae11f19d07"
      },
      "execution_count": 4,
      "outputs": [
        {
          "output_type": "execute_result",
          "data": {
            "text/plain": [
              "(200, 6)"
            ]
          },
          "metadata": {},
          "execution_count": 4
        }
      ]
    },
    {
      "cell_type": "code",
      "source": [
        "df.head()"
      ],
      "metadata": {
        "colab": {
          "base_uri": "https://localhost:8080/",
          "height": 206
        },
        "id": "5QavuY2oZWXi",
        "outputId": "fd1ff598-81ea-4f0c-e024-64e1e96ef26a"
      },
      "execution_count": 5,
      "outputs": [
        {
          "output_type": "execute_result",
          "data": {
            "text/plain": [
              "   Age Sex      BP Cholesterol  Na_to_K   Drug\n",
              "0   23   F    HIGH        HIGH   25.355  DrugY\n",
              "1   47   M     LOW        HIGH   13.093  drugC\n",
              "2   47   M     LOW        HIGH   10.114  drugC\n",
              "3   28   F  NORMAL        HIGH    7.798  drugX\n",
              "4   61   F     LOW        HIGH   18.043  DrugY"
            ],
            "text/html": [
              "\n",
              "  <div id=\"df-237e5447-f487-480c-8bd7-3b5327aa496b\">\n",
              "    <div class=\"colab-df-container\">\n",
              "      <div>\n",
              "<style scoped>\n",
              "    .dataframe tbody tr th:only-of-type {\n",
              "        vertical-align: middle;\n",
              "    }\n",
              "\n",
              "    .dataframe tbody tr th {\n",
              "        vertical-align: top;\n",
              "    }\n",
              "\n",
              "    .dataframe thead th {\n",
              "        text-align: right;\n",
              "    }\n",
              "</style>\n",
              "<table border=\"1\" class=\"dataframe\">\n",
              "  <thead>\n",
              "    <tr style=\"text-align: right;\">\n",
              "      <th></th>\n",
              "      <th>Age</th>\n",
              "      <th>Sex</th>\n",
              "      <th>BP</th>\n",
              "      <th>Cholesterol</th>\n",
              "      <th>Na_to_K</th>\n",
              "      <th>Drug</th>\n",
              "    </tr>\n",
              "  </thead>\n",
              "  <tbody>\n",
              "    <tr>\n",
              "      <th>0</th>\n",
              "      <td>23</td>\n",
              "      <td>F</td>\n",
              "      <td>HIGH</td>\n",
              "      <td>HIGH</td>\n",
              "      <td>25.355</td>\n",
              "      <td>DrugY</td>\n",
              "    </tr>\n",
              "    <tr>\n",
              "      <th>1</th>\n",
              "      <td>47</td>\n",
              "      <td>M</td>\n",
              "      <td>LOW</td>\n",
              "      <td>HIGH</td>\n",
              "      <td>13.093</td>\n",
              "      <td>drugC</td>\n",
              "    </tr>\n",
              "    <tr>\n",
              "      <th>2</th>\n",
              "      <td>47</td>\n",
              "      <td>M</td>\n",
              "      <td>LOW</td>\n",
              "      <td>HIGH</td>\n",
              "      <td>10.114</td>\n",
              "      <td>drugC</td>\n",
              "    </tr>\n",
              "    <tr>\n",
              "      <th>3</th>\n",
              "      <td>28</td>\n",
              "      <td>F</td>\n",
              "      <td>NORMAL</td>\n",
              "      <td>HIGH</td>\n",
              "      <td>7.798</td>\n",
              "      <td>drugX</td>\n",
              "    </tr>\n",
              "    <tr>\n",
              "      <th>4</th>\n",
              "      <td>61</td>\n",
              "      <td>F</td>\n",
              "      <td>LOW</td>\n",
              "      <td>HIGH</td>\n",
              "      <td>18.043</td>\n",
              "      <td>DrugY</td>\n",
              "    </tr>\n",
              "  </tbody>\n",
              "</table>\n",
              "</div>\n",
              "      <button class=\"colab-df-convert\" onclick=\"convertToInteractive('df-237e5447-f487-480c-8bd7-3b5327aa496b')\"\n",
              "              title=\"Convert this dataframe to an interactive table.\"\n",
              "              style=\"display:none;\">\n",
              "        \n",
              "  <svg xmlns=\"http://www.w3.org/2000/svg\" height=\"24px\"viewBox=\"0 0 24 24\"\n",
              "       width=\"24px\">\n",
              "    <path d=\"M0 0h24v24H0V0z\" fill=\"none\"/>\n",
              "    <path d=\"M18.56 5.44l.94 2.06.94-2.06 2.06-.94-2.06-.94-.94-2.06-.94 2.06-2.06.94zm-11 1L8.5 8.5l.94-2.06 2.06-.94-2.06-.94L8.5 2.5l-.94 2.06-2.06.94zm10 10l.94 2.06.94-2.06 2.06-.94-2.06-.94-.94-2.06-.94 2.06-2.06.94z\"/><path d=\"M17.41 7.96l-1.37-1.37c-.4-.4-.92-.59-1.43-.59-.52 0-1.04.2-1.43.59L10.3 9.45l-7.72 7.72c-.78.78-.78 2.05 0 2.83L4 21.41c.39.39.9.59 1.41.59.51 0 1.02-.2 1.41-.59l7.78-7.78 2.81-2.81c.8-.78.8-2.07 0-2.86zM5.41 20L4 18.59l7.72-7.72 1.47 1.35L5.41 20z\"/>\n",
              "  </svg>\n",
              "      </button>\n",
              "      \n",
              "  <style>\n",
              "    .colab-df-container {\n",
              "      display:flex;\n",
              "      flex-wrap:wrap;\n",
              "      gap: 12px;\n",
              "    }\n",
              "\n",
              "    .colab-df-convert {\n",
              "      background-color: #E8F0FE;\n",
              "      border: none;\n",
              "      border-radius: 50%;\n",
              "      cursor: pointer;\n",
              "      display: none;\n",
              "      fill: #1967D2;\n",
              "      height: 32px;\n",
              "      padding: 0 0 0 0;\n",
              "      width: 32px;\n",
              "    }\n",
              "\n",
              "    .colab-df-convert:hover {\n",
              "      background-color: #E2EBFA;\n",
              "      box-shadow: 0px 1px 2px rgba(60, 64, 67, 0.3), 0px 1px 3px 1px rgba(60, 64, 67, 0.15);\n",
              "      fill: #174EA6;\n",
              "    }\n",
              "\n",
              "    [theme=dark] .colab-df-convert {\n",
              "      background-color: #3B4455;\n",
              "      fill: #D2E3FC;\n",
              "    }\n",
              "\n",
              "    [theme=dark] .colab-df-convert:hover {\n",
              "      background-color: #434B5C;\n",
              "      box-shadow: 0px 1px 3px 1px rgba(0, 0, 0, 0.15);\n",
              "      filter: drop-shadow(0px 1px 2px rgba(0, 0, 0, 0.3));\n",
              "      fill: #FFFFFF;\n",
              "    }\n",
              "  </style>\n",
              "\n",
              "      <script>\n",
              "        const buttonEl =\n",
              "          document.querySelector('#df-237e5447-f487-480c-8bd7-3b5327aa496b button.colab-df-convert');\n",
              "        buttonEl.style.display =\n",
              "          google.colab.kernel.accessAllowed ? 'block' : 'none';\n",
              "\n",
              "        async function convertToInteractive(key) {\n",
              "          const element = document.querySelector('#df-237e5447-f487-480c-8bd7-3b5327aa496b');\n",
              "          const dataTable =\n",
              "            await google.colab.kernel.invokeFunction('convertToInteractive',\n",
              "                                                     [key], {});\n",
              "          if (!dataTable) return;\n",
              "\n",
              "          const docLinkHtml = 'Like what you see? Visit the ' +\n",
              "            '<a target=\"_blank\" href=https://colab.research.google.com/notebooks/data_table.ipynb>data table notebook</a>'\n",
              "            + ' to learn more about interactive tables.';\n",
              "          element.innerHTML = '';\n",
              "          dataTable['output_type'] = 'display_data';\n",
              "          await google.colab.output.renderOutput(dataTable, element);\n",
              "          const docLink = document.createElement('div');\n",
              "          docLink.innerHTML = docLinkHtml;\n",
              "          element.appendChild(docLink);\n",
              "        }\n",
              "      </script>\n",
              "    </div>\n",
              "  </div>\n",
              "  "
            ]
          },
          "metadata": {},
          "execution_count": 5
        }
      ]
    },
    {
      "cell_type": "code",
      "source": [
        "for var in df.columns:\n",
        "    \n",
        "    print(df[var].value_counts())"
      ],
      "metadata": {
        "colab": {
          "base_uri": "https://localhost:8080/"
        },
        "id": "JJ8x28DIZves",
        "outputId": "8d914e1d-6c8b-4e73-823d-23900d426227"
      },
      "execution_count": 7,
      "outputs": [
        {
          "output_type": "stream",
          "name": "stdout",
          "text": [
            "47    8\n",
            "23    7\n",
            "28    7\n",
            "49    7\n",
            "39    6\n",
            "32    6\n",
            "50    5\n",
            "37    5\n",
            "58    5\n",
            "60    5\n",
            "22    5\n",
            "34    4\n",
            "72    4\n",
            "51    4\n",
            "42    4\n",
            "26    4\n",
            "24    4\n",
            "74    4\n",
            "67    4\n",
            "68    4\n",
            "61    4\n",
            "56    4\n",
            "20    4\n",
            "36    4\n",
            "45    4\n",
            "41    4\n",
            "31    4\n",
            "43    4\n",
            "65    4\n",
            "57    4\n",
            "53    3\n",
            "40    3\n",
            "70    3\n",
            "59    3\n",
            "16    3\n",
            "38    3\n",
            "15    3\n",
            "69    3\n",
            "35    3\n",
            "18    3\n",
            "64    3\n",
            "52    2\n",
            "55    2\n",
            "62    2\n",
            "19    2\n",
            "29    2\n",
            "66    2\n",
            "73    2\n",
            "46    2\n",
            "48    2\n",
            "54    1\n",
            "17    1\n",
            "33    1\n",
            "63    1\n",
            "30    1\n",
            "21    1\n",
            "25    1\n",
            "Name: Age, dtype: int64\n",
            "M    104\n",
            "F     96\n",
            "Name: Sex, dtype: int64\n",
            "HIGH      77\n",
            "LOW       64\n",
            "NORMAL    59\n",
            "Name: BP, dtype: int64\n",
            "HIGH      103\n",
            "NORMAL     97\n",
            "Name: Cholesterol, dtype: int64\n",
            "12.006    2\n",
            "18.295    2\n",
            "25.355    1\n",
            "11.939    1\n",
            "16.347    1\n",
            "         ..\n",
            "24.658    1\n",
            "24.276    1\n",
            "13.967    1\n",
            "19.675    1\n",
            "11.349    1\n",
            "Name: Na_to_K, Length: 198, dtype: int64\n",
            "DrugY    91\n",
            "drugX    54\n",
            "drugA    23\n",
            "drugC    16\n",
            "drugB    16\n",
            "Name: Drug, dtype: int64\n"
          ]
        }
      ]
    },
    {
      "cell_type": "code",
      "source": [
        "df.info()"
      ],
      "metadata": {
        "colab": {
          "base_uri": "https://localhost:8080/"
        },
        "id": "ydc88Ks1a83Z",
        "outputId": "9ac94fd3-8c16-49cb-b92d-eeb252710afa"
      },
      "execution_count": 12,
      "outputs": [
        {
          "output_type": "stream",
          "name": "stdout",
          "text": [
            "<class 'pandas.core.frame.DataFrame'>\n",
            "RangeIndex: 200 entries, 0 to 199\n",
            "Data columns (total 6 columns):\n",
            " #   Column       Non-Null Count  Dtype  \n",
            "---  ------       --------------  -----  \n",
            " 0   Age          200 non-null    int64  \n",
            " 1   Sex          200 non-null    object \n",
            " 2   BP           200 non-null    object \n",
            " 3   Cholesterol  200 non-null    object \n",
            " 4   Na_to_K      200 non-null    float64\n",
            " 5   Drug         200 non-null    object \n",
            "dtypes: float64(1), int64(1), object(4)\n",
            "memory usage: 9.5+ KB\n"
          ]
        }
      ]
    },
    {
      "cell_type": "code",
      "source": [
        "df.isnull().sum()"
      ],
      "metadata": {
        "colab": {
          "base_uri": "https://localhost:8080/"
        },
        "id": "FpV7AdA8cJIT",
        "outputId": "8da0a709-45bb-4ab8-a8c6-128efa63c4d2"
      },
      "execution_count": 13,
      "outputs": [
        {
          "output_type": "execute_result",
          "data": {
            "text/plain": [
              "Age            0\n",
              "Sex            0\n",
              "BP             0\n",
              "Cholesterol    0\n",
              "Na_to_K        0\n",
              "Drug           0\n",
              "dtype: int64"
            ]
          },
          "metadata": {},
          "execution_count": 13
        }
      ]
    },
    {
      "cell_type": "code",
      "source": [
        "cols = ['Sex','BP','Cholesterol','Drug']"
      ],
      "metadata": {
        "id": "uoHIkf5xmN3Z"
      },
      "execution_count": 28,
      "outputs": []
    },
    {
      "cell_type": "code",
      "source": [
        "from sklearn.preprocessing import LabelEncoder\n",
        "df[cols] = df[cols].apply(LabelEncoder().fit_transform)"
      ],
      "metadata": {
        "id": "zThTnmrodG4E"
      },
      "execution_count": 29,
      "outputs": []
    },
    {
      "cell_type": "code",
      "source": [
        "X = df[['Age','Sex','BP','Cholesterol','Na_to_K']]\n",
        "Y = df[['Drug']]"
      ],
      "metadata": {
        "id": "4pmaMKDemskI"
      },
      "execution_count": 30,
      "outputs": []
    },
    {
      "cell_type": "code",
      "source": [
        "from sklearn.preprocessing import StandardScaler\n",
        "sc = StandardScaler()"
      ],
      "metadata": {
        "id": "DeRHfHB7oM3K"
      },
      "execution_count": 31,
      "outputs": []
    },
    {
      "cell_type": "code",
      "source": [
        "X_train, X_test,Y_train, Y_test = train_test_split(X, Y, test_size=0.3, random_state=1)"
      ],
      "metadata": {
        "id": "tWtusVY7qC9g"
      },
      "execution_count": 32,
      "outputs": []
    },
    {
      "cell_type": "code",
      "source": [
        "X_train_scaler = sc.fit(X_train)\n",
        "X_train_trans_scaler = sc.fit_transform(X_train)"
      ],
      "metadata": {
        "id": "Ikntki9xqND9"
      },
      "execution_count": 33,
      "outputs": []
    },
    {
      "cell_type": "code",
      "source": [
        "X_train_trans_scaler"
      ],
      "metadata": {
        "colab": {
          "base_uri": "https://localhost:8080/"
        },
        "id": "A0e_uFxHqV9V",
        "outputId": "635ff8c4-551f-443a-e344-58a7577eaaf3"
      },
      "execution_count": 34,
      "outputs": [
        {
          "output_type": "execute_result",
          "data": {
            "text/plain": [
              "array([[ 1.39698536,  0.93094934,  1.41004   ,  1.1055416 , -1.20952998],\n",
              "       [-1.6008373 ,  0.93094934,  1.41004   ,  1.1055416 , -0.79159284],\n",
              "       [-1.48092439, -1.07417231, -1.08876506, -0.90453403, -0.11244499],\n",
              "       [ 0.37772565,  0.93094934,  1.41004   ,  1.1055416 ,  0.32290619],\n",
              "       [-0.04196952,  0.93094934, -1.08876506, -0.90453403,  0.04428143],\n",
              "       [-1.30105503, -1.07417231,  1.41004   , -0.90453403, -1.4359126 ],\n",
              "       [-0.52162114,  0.93094934,  1.41004   ,  1.1055416 , -1.52298283],\n",
              "       [-0.40170824,  0.93094934,  0.16063747,  1.1055416 , -1.34884236],\n",
              "       [-1.24109858,  0.93094934,  1.41004   , -0.90453403,  1.55930356],\n",
              "       [-0.88135986,  0.93094934, -1.08876506, -0.90453403, -0.26917142],\n",
              "       [ 1.45694181, -1.07417231, -1.08876506,  1.1055416 , -0.94831927],\n",
              "       [ 0.1978563 , -1.07417231,  0.16063747, -0.90453403, -1.01797546],\n",
              "       [-0.46166469, -1.07417231, -1.08876506,  1.1055416 ,  0.2880781 ],\n",
              "       [ 0.91733373, -1.07417231,  0.16063747, -0.90453403, -0.86124903],\n",
              "       [ 0.85737728, -1.07417231,  0.16063747, -0.90453403,  1.35033499],\n",
              "       [ 1.27707245, -1.07417231,  0.16063747,  1.1055416 , -0.06020285],\n",
              "       [-0.04196952,  0.93094934,  0.16063747, -0.90453403,  0.23583596],\n",
              "       [-0.22183888, -1.07417231,  1.41004   , -0.90453403, -0.98314736],\n",
              "       [-0.10192597, -1.07417231,  0.16063747,  1.1055416 ,  1.47223332],\n",
              "       [-0.94131631,  0.93094934,  1.41004   , -0.90453403,  1.38516309],\n",
              "       [-0.40170824,  0.93094934,  0.16063747,  1.1055416 ,  0.44480453],\n",
              "       [ 1.09720309,  0.93094934,  1.41004   , -0.90453403,  0.42739048],\n",
              "       [ 1.217116  ,  0.93094934,  1.41004   , -0.90453403, -1.55781093],\n",
              "       [-0.5815776 ,  0.93094934,  1.41004   , -0.90453403,  1.03688214],\n",
              "       [-1.24109858,  0.93094934, -1.08876506, -0.90453403, -1.50556879],\n",
              "       [ 1.81668053, -1.07417231,  0.16063747, -0.90453403,  1.00205404],\n",
              "       [-0.7014905 , -1.07417231,  0.16063747, -0.90453403, -1.12245974],\n",
              "       [ 0.3177692 ,  0.93094934,  0.16063747,  1.1055416 , -0.0776169 ],\n",
              "       [ 0.1978563 ,  0.93094934, -1.08876506, -0.90453403, -0.89607713],\n",
              "       [ 1.33702891, -1.07417231,  1.41004   ,  1.1055416 , -1.48815474],\n",
              "       [-1.72075021, -1.07417231, -1.08876506,  1.1055416 ,  0.46221857],\n",
              "       [-0.7014905 ,  0.93094934, -1.08876506,  1.1055416 , -1.24435807],\n",
              "       [ 0.79742083, -1.07417231, -1.08876506,  1.1055416 , -1.0702176 ],\n",
              "       [ 1.57685472,  0.93094934, -1.08876506, -0.90453403, -1.10504569],\n",
              "       [ 1.69676762, -1.07417231,  0.16063747,  1.1055416 ,  0.14876572],\n",
              "       [ 0.73746437,  0.93094934,  1.41004   , -0.90453403, -1.36625641],\n",
              "       [ 0.73746437, -1.07417231,  0.16063747, -0.90453403, -0.51296808],\n",
              "       [ 0.49763856,  0.93094934,  1.41004   , -0.90453403, -1.08763165],\n",
              "       [ 1.03724664, -1.07417231,  0.16063747,  1.1055416 , -1.61005307],\n",
              "       [-0.16188242, -1.07417231,  0.16063747,  1.1055416 ,  0.68860119],\n",
              "       [-1.06122922,  0.93094934,  0.16063747,  1.1055416 ,  0.96722595],\n",
              "       [ 1.15715955,  0.93094934,  1.41004   , -0.90453403,  1.29809285],\n",
              "       [-0.16188242,  0.93094934, -1.08876506,  1.1055416 ,  0.20100786],\n",
              "       [ 0.67750792,  0.93094934,  1.41004   ,  1.1055416 , -1.66229521],\n",
              "       [ 0.1978563 ,  0.93094934,  0.16063747, -0.90453403, -0.96573332],\n",
              "       [ 1.57685472,  0.93094934, -1.08876506, -0.90453403,  0.02686739],\n",
              "       [ 0.91733373,  0.93094934, -1.08876506, -0.90453403, -0.00796071],\n",
              "       [ 0.3177692 ,  0.93094934, -1.08876506,  1.1055416 , -1.4010845 ],\n",
              "       [ 0.3177692 , -1.07417231,  1.41004   , -0.90453403,  0.37514834],\n",
              "       [-0.52162114,  0.93094934,  0.16063747,  1.1055416 , -1.31401426],\n",
              "       [-1.24109858, -1.07417231, -1.08876506, -0.90453403,  1.19360856],\n",
              "       [ 0.3177692 ,  0.93094934,  0.16063747, -0.90453403, -0.82642094],\n",
              "       [-1.06122922, -1.07417231, -1.08876506,  1.1055416 ,  0.79308547],\n",
              "       [ 1.45694181, -1.07417231,  1.41004   ,  1.1055416 ,  1.36774904],\n",
              "       [-1.06122922, -1.07417231,  0.16063747, -0.90453403,  0.09652358],\n",
              "       [ 0.79742083, -1.07417231,  1.41004   , -0.90453403,  0.11393762],\n",
              "       [-0.40170824, -1.07417231, -1.08876506,  1.1055416 ,  1.14136642],\n",
              "       [ 1.57685472, -1.07417231,  1.41004   , -0.90453403,  0.93239785],\n",
              "       [-0.40170824, -1.07417231, -1.08876506, -0.90453403, -0.18210118],\n",
              "       [ 1.39698536,  0.93094934,  0.16063747,  1.1055416 ,  0.9498119 ],\n",
              "       [-0.76144696,  0.93094934, -1.08876506,  1.1055416 ,  0.51446072],\n",
              "       [-0.88135986, -1.07417231, -1.08876506, -0.90453403,  1.48964737],\n",
              "       [-1.06122922, -1.07417231, -1.08876506,  1.1055416 , -0.35624166],\n",
              "       [-0.82140341, -1.07417231,  1.41004   , -0.90453403, -0.87866308],\n",
              "       [ 1.81668053,  0.93094934, -1.08876506,  1.1055416 ,  0.25325   ],\n",
              "       [ 1.51689827,  0.93094934,  0.16063747, -0.90453403,  0.27066405],\n",
              "       [-1.30105503, -1.07417231, -1.08876506,  1.1055416 ,  1.07171023],\n",
              "       [ 1.03724664,  0.93094934,  1.41004   , -0.90453403, -1.26177212],\n",
              "       [-1.66079375,  0.93094934, -1.08876506,  1.1055416 ,  0.74084333],\n",
              "       [ 0.1978563 , -1.07417231,  0.16063747, -0.90453403, -0.47813999],\n",
              "       [ 0.3177692 ,  0.93094934,  0.16063747,  1.1055416 , -0.7045226 ],\n",
              "       [-0.34175178, -1.07417231, -1.08876506,  1.1055416 , -0.61745237],\n",
              "       [-1.42096794, -1.07417231,  0.16063747,  1.1055416 , -0.49555404],\n",
              "       [-0.76144696,  0.93094934, -1.08876506,  1.1055416 , -0.46072594],\n",
              "       [-1.48092439, -1.07417231, -1.08876506,  1.1055416 ,  1.3155069 ],\n",
              "       [ 0.25781275, -1.07417231,  0.16063747, -0.90453403,  0.18359381],\n",
              "       [ 1.33702891,  0.93094934, -1.08876506, -0.90453403,  0.40997643],\n",
              "       [-0.04196952,  0.93094934,  0.16063747,  1.1055416 ,  0.84532762],\n",
              "       [-0.94131631, -1.07417231,  1.41004   , -0.90453403, -0.23434332],\n",
              "       [-1.30105503,  0.93094934, -1.08876506,  1.1055416 ,  1.43740523],\n",
              "       [ 1.45694181,  0.93094934, -1.08876506, -0.90453403, -0.72193665],\n",
              "       [ 1.81668053,  0.93094934,  0.16063747,  1.1055416 , -0.44331189],\n",
              "       [ 0.1978563 , -1.07417231,  1.41004   ,  1.1055416 , -1.69712331],\n",
              "       [ 1.27707245,  0.93094934, -1.08876506,  1.1055416 ,  1.66378784],\n",
              "       [ 0.97729019, -1.07417231, -1.08876506, -0.90453403, -0.12985904],\n",
              "       [-1.66079375, -1.07417231, -1.08876506,  1.1055416 ,  0.30549215],\n",
              "       [ 0.85737728, -1.07417231, -1.08876506,  1.1055416 ,  0.13135167],\n",
              "       [-1.36101149, -1.07417231, -1.08876506,  1.1055416 ,  1.45481928],\n",
              "       [-1.24109858,  0.93094934,  1.41004   , -0.90453403,  0.49704667],\n",
              "       [ 0.97729019,  0.93094934, -1.08876506, -0.90453403, -0.02537475],\n",
              "       [ 1.09720309,  0.93094934,  0.16063747,  1.1055416 ,  1.40257713],\n",
              "       [-0.76144696,  0.93094934, -1.08876506, -0.90453403,  1.52447547],\n",
              "       [-0.46166469, -1.07417231, -1.08876506, -0.90453403, -0.66969451],\n",
              "       [-1.24109858,  0.93094934,  1.41004   , -0.90453403, -0.39106975],\n",
              "       [-0.64153405, -1.07417231,  0.16063747, -0.90453403,  1.6115457 ],\n",
              "       [-0.94131631, -1.07417231,  1.41004   , -0.90453403, -1.54039688],\n",
              "       [-1.42096794, -1.07417231, -1.08876506, -0.90453403, -0.63486641],\n",
              "       [-0.94131631, -1.07417231,  0.16063747, -0.90453403,  0.89756976],\n",
              "       [-1.30105503,  0.93094934,  0.16063747, -0.90453403, -1.47074069],\n",
              "       [ 0.49763856,  0.93094934,  0.16063747,  1.1055416 ,  1.59413165],\n",
              "       [ 0.85737728,  0.93094934, -1.08876506, -0.90453403,  0.72342928],\n",
              "       [-1.54088085, -1.07417231,  1.41004   ,  1.1055416 , -1.38367045],\n",
              "       [-1.72075021,  0.93094934, -1.08876506,  1.1055416 ,  0.53187476],\n",
              "       [ 0.43768211,  0.93094934, -1.08876506, -0.90453403,  0.618945  ],\n",
              "       [ 1.75672408, -1.07417231, -1.08876506, -0.90453403,  0.63635905],\n",
              "       [ 0.97729019,  0.93094934,  1.41004   , -0.90453403,  0.21842191],\n",
              "       [-0.34175178, -1.07417231,  0.16063747,  1.1055416 ,  1.50706142],\n",
              "       [ 0.1978563 ,  0.93094934,  0.16063747,  1.1055416 ,  1.62895975],\n",
              "       [ 0.1978563 ,  0.93094934,  0.16063747, -0.90453403, -0.16468713],\n",
              "       [-0.22183888,  0.93094934, -1.08876506, -0.90453403,  1.41999118],\n",
              "       [ 0.1978563 ,  0.93094934,  0.16063747,  1.1055416 ,  1.54188951],\n",
              "       [-1.18114213,  0.93094934, -1.08876506,  1.1055416 , -1.22694403],\n",
              "       [ 0.07794339,  0.93094934,  0.16063747,  1.1055416 , -1.45332664],\n",
              "       [-0.16188242,  0.93094934,  0.16063747, -0.90453403, -0.68710856],\n",
              "       [-1.66079375,  0.93094934,  0.16063747, -0.90453403, -0.4084838 ],\n",
              "       [ 1.217116  , -1.07417231,  0.16063747,  1.1055416 ,  1.24585071],\n",
              "       [ 0.43768211, -1.07417231,  1.41004   , -0.90453403, -0.09503094],\n",
              "       [ 0.85737728, -1.07417231,  0.16063747, -0.90453403,  1.71602999],\n",
              "       [ 0.61755147,  0.93094934,  1.41004   , -0.90453403,  1.17619452],\n",
              "       [ 0.85737728, -1.07417231, -1.08876506, -0.90453403,  0.86274166],\n",
              "       [ 0.97729019,  0.93094934, -1.08876506,  1.1055416 , -1.41849855],\n",
              "       [ 0.55759501,  0.93094934,  0.16063747, -0.90453403,  1.10653833],\n",
              "       [-0.76144696,  0.93094934, -1.08876506,  1.1055416 , -0.65228046],\n",
              "       [ 1.51689827, -1.07417231,  1.41004   , -0.90453403, -1.0353895 ],\n",
              "       [-0.40170824, -1.07417231,  0.16063747,  1.1055416 , -0.4084838 ],\n",
              "       [ 0.07794339, -1.07417231, -1.08876506, -0.90453403, -0.28658547],\n",
              "       [ 0.79742083,  0.93094934,  0.16063747,  1.1055416 ,  0.77567143],\n",
              "       [-0.28179533,  0.93094934,  1.41004   , -0.90453403,  0.35773429],\n",
              "       [-0.94131631, -1.07417231, -1.08876506,  1.1055416 ,  0.70601524],\n",
              "       [-0.10192597, -1.07417231, -1.08876506, -0.90453403,  1.01946809],\n",
              "       [-0.94131631, -1.07417231,  1.41004   , -0.90453403,  0.88015571],\n",
              "       [-0.7014905 , -1.07417231,  1.41004   , -0.90453403, -1.59263902],\n",
              "       [-0.28179533,  0.93094934, -1.08876506, -0.90453403, -1.17470188],\n",
              "       [ 1.69676762,  0.93094934,  0.16063747, -0.90453403,  0.39256238],\n",
              "       [-0.7014905 , -1.07417231,  0.16063747,  1.1055416 , -0.77417879],\n",
              "       [-1.18114213,  0.93094934,  1.41004   , -0.90453403,  1.26326475],\n",
              "       [-0.52162114, -1.07417231, -1.08876506, -0.90453403, -0.21692928],\n",
              "       [-1.18114213, -1.07417231,  1.41004   , -0.90453403, -0.80900689],\n",
              "       [ 0.3177692 ,  0.93094934, -1.08876506,  1.1055416 , -1.71453735],\n",
              "       [-0.28179533,  0.93094934,  0.16063747,  1.1055416 ,  0.00945334]])"
            ]
          },
          "metadata": {},
          "execution_count": 34
        }
      ]
    },
    {
      "cell_type": "code",
      "source": [
        "X_train_trans_scaler.size"
      ],
      "metadata": {
        "colab": {
          "base_uri": "https://localhost:8080/"
        },
        "id": "NiV1nIxVq2WK",
        "outputId": "a2002c9a-43e3-4380-8e8f-f206d56e0ca4"
      },
      "execution_count": 35,
      "outputs": [
        {
          "output_type": "execute_result",
          "data": {
            "text/plain": [
              "700"
            ]
          },
          "metadata": {},
          "execution_count": 35
        }
      ]
    },
    {
      "cell_type": "code",
      "source": [
        "X_test_trans_scaler = sc.transform(X_test)\n",
        "\n",
        "X_test_trans_scaler.size"
      ],
      "metadata": {
        "colab": {
          "base_uri": "https://localhost:8080/"
        },
        "id": "5xvqICLOq6EL",
        "outputId": "d7fa0fff-b27e-4b0d-da89-f7fc5329f378"
      },
      "execution_count": 37,
      "outputs": [
        {
          "output_type": "execute_result",
          "data": {
            "text/plain": [
              "300"
            ]
          },
          "metadata": {},
          "execution_count": 37
        }
      ]
    },
    {
      "cell_type": "code",
      "source": [
        "gnb = GaussianNB()\n",
        "knn = KNeighborsClassifier()"
      ],
      "metadata": {
        "id": "seMMJwFurDaN"
      },
      "execution_count": 38,
      "outputs": []
    },
    {
      "cell_type": "code",
      "source": [
        "#fitting models and checking for classification metrics\n",
        "X_train, X_test,Y_train, Y_test = train_test_split(X, Y, test_size=0.3, random_state=1)\n",
        "for i in [gnb,knn]:\n",
        "  i.fit(X_train,Y_train)\n",
        "  pred = i.predict(X_test)\n",
        "  test_score = accuracy_score(Y_test,pred)\n",
        "  train_score = accuracy_score(Y_train,i.predict(X_train))\n",
        "  print(i)\n",
        "  print('Accuracy score for train data', accuracy_score(Y_test,pred))\n",
        "  print('Accuracy score for test data', accuracy_score(Y_train,i.predict(X_train)))\n",
        "  print(classification_report(Y_test,pred))\n",
        "  print(confusion_matrix(Y_test,pred))\n"
      ],
      "metadata": {
        "colab": {
          "base_uri": "https://localhost:8080/"
        },
        "id": "Zs5v0oz5rYAs",
        "outputId": "d369cc74-cb0e-4b03-ac7b-c6ce9ed9ce26"
      },
      "execution_count": 42,
      "outputs": [
        {
          "output_type": "stream",
          "name": "stdout",
          "text": [
            "GaussianNB()\n",
            "Accuracy score for train data 0.8\n",
            "Accuracy score for test data 0.8285714285714286\n",
            "              precision    recall  f1-score   support\n",
            "\n",
            "           0       1.00      0.59      0.74        27\n",
            "           1       0.50      1.00      0.67         4\n",
            "           2       0.62      0.83      0.71         6\n",
            "           3       0.44      1.00      0.62         4\n",
            "           4       1.00      1.00      1.00        19\n",
            "\n",
            "    accuracy                           0.80        60\n",
            "   macro avg       0.71      0.89      0.75        60\n",
            "weighted avg       0.89      0.80      0.81        60\n",
            "\n",
            "[[16  3  3  5  0]\n",
            " [ 0  4  0  0  0]\n",
            " [ 0  1  5  0  0]\n",
            " [ 0  0  0  4  0]\n",
            " [ 0  0  0  0 19]]\n",
            "KNeighborsClassifier()\n",
            "Accuracy score for train data 0.5166666666666667\n",
            "Accuracy score for test data 0.7642857142857142\n",
            "              precision    recall  f1-score   support\n",
            "\n",
            "           0       1.00      1.00      1.00        27\n",
            "           1       0.10      0.25      0.14         4\n",
            "           2       0.00      0.00      0.00         6\n",
            "           3       0.00      0.00      0.00         4\n",
            "           4       0.33      0.16      0.21        19\n",
            "\n",
            "    accuracy                           0.52        60\n",
            "   macro avg       0.29      0.28      0.27        60\n",
            "weighted avg       0.56      0.52      0.53        60\n",
            "\n",
            "[[27  0  0  0  0]\n",
            " [ 0  1  0  1  2]\n",
            " [ 0  0  0  4  2]\n",
            " [ 0  1  1  0  2]\n",
            " [ 0  8  4  4  3]]\n"
          ]
        },
        {
          "output_type": "stream",
          "name": "stderr",
          "text": [
            "/usr/local/lib/python3.7/dist-packages/sklearn/utils/validation.py:993: DataConversionWarning: A column-vector y was passed when a 1d array was expected. Please change the shape of y to (n_samples, ), for example using ravel().\n",
            "  y = column_or_1d(y, warn=True)\n",
            "/usr/local/lib/python3.7/dist-packages/sklearn/neighbors/_classification.py:198: DataConversionWarning: A column-vector y was passed when a 1d array was expected. Please change the shape of y to (n_samples,), for example using ravel().\n",
            "  return self._fit(X, y)\n"
          ]
        }
      ]
    }
  ]
}