{
  "nbformat": 4,
  "nbformat_minor": 0,
  "metadata": {
    "colab": {
      "provenance": [],
      "collapsed_sections": [],
      "authorship_tag": "ABX9TyP/rI8KE79iIXxj29ehrSm2",
      "include_colab_link": true
    },
    "kernelspec": {
      "name": "python3",
      "display_name": "Python 3"
    },
    "language_info": {
      "name": "python"
    }
  },
  "cells": [
    {
      "cell_type": "markdown",
      "metadata": {
        "id": "view-in-github",
        "colab_type": "text"
      },
      "source": [
        "<a href=\"https://colab.research.google.com/github/dhivya4/Inceptz/blob/main/sbwu_elections_predictions.ipynb\" target=\"_parent\"><img src=\"https://colab.research.google.com/assets/colab-badge.svg\" alt=\"Open In Colab\"/></a>"
      ]
    },
    {
      "cell_type": "code",
      "execution_count": 1,
      "metadata": {
        "id": "g89H29qf5x-b"
      },
      "outputs": [],
      "source": [
        "import numpy as np\n",
        "import pandas as pd\n",
        "from sklearn.model_selection import train_test_split\n",
        "from sklearn.neighbors import KNeighborsClassifier\n",
        "from sklearn.preprocessing import StandardScaler\n",
        "from sklearn.metrics import accuracy_score, precision_score, confusion_matrix, classification_report"
      ]
    },
    {
      "cell_type": "code",
      "source": [
        "df = pd.read_csv(\"https://raw.githubusercontent.com/balaji2v/Inceptez_Batch19/main/sbwu_elections.csv\")"
      ],
      "metadata": {
        "id": "Y_ld85IQ8VjU"
      },
      "execution_count": 2,
      "outputs": []
    },
    {
      "cell_type": "code",
      "source": [
        "df.shape"
      ],
      "metadata": {
        "colab": {
          "base_uri": "https://localhost:8080/"
        },
        "id": "t_EDsJDI8nGT",
        "outputId": "da4bc064-ab2e-4716-f1f3-c9ecfcb7bbad"
      },
      "execution_count": 3,
      "outputs": [
        {
          "output_type": "execute_result",
          "data": {
            "text/plain": [
              "(76, 10)"
            ]
          },
          "metadata": {},
          "execution_count": 3
        }
      ]
    },
    {
      "cell_type": "code",
      "source": [
        "df.head(100)"
      ],
      "metadata": {
        "colab": {
          "base_uri": "https://localhost:8080/",
          "height": 424
        },
        "id": "C9Jt_YJs9J7T",
        "outputId": "e6c6efbc-905c-40e6-a5ca-0ef107ff4440"
      },
      "execution_count": 8,
      "outputs": [
        {
          "output_type": "execute_result",
          "data": {
            "text/plain": [
              "                          Store           Location State RTWState  \\\n",
              "0             Camp Road Hamburg        Buffalo, NY    NY       No   \n",
              "1                   Genessee St        Buffalo, NY    NY       No   \n",
              "2                       Elmwood        Buffalo, NY    NY       No   \n",
              "3         Power & Baseline Road           Mesa, AZ    AZ      Yes   \n",
              "4             Sheridan & Bailey        Buffalo, NY    NY       No   \n",
              "..                          ...                ...   ...      ...   \n",
              "71              52 Curtiss Pkwy  Miami Springs, FL    FL      Yes   \n",
              "72          1980 Can Marco Blvd   Jacksonville, FL    FL      Yes   \n",
              "73          1700 W Nursery Road      Linthicum, MD    MD       No   \n",
              "74  San Jose Blvd & Ricky Drive   Jacksonville, FL    FL      Yes   \n",
              "75                 E Colfax Ave         Denver, CO    CO       No   \n",
              "\n",
              "   VoteCountDate  VotesYes  VotesNo  VoteTotal  Margin Result  \n",
              "0      12/9/2021         8       12         20   -0.20     No  \n",
              "1      12/9/2021        15        9         24    0.25    Yes  \n",
              "2      12/9/2021        19        8         27    0.41    Yes  \n",
              "3      2/25/2022        25        3         28    0.79    Yes  \n",
              "4       3/9/2022        15       12         27    0.11    Yes  \n",
              "..           ...       ...      ...        ...     ...    ...  \n",
              "71     5/10/2022        10        3         13    0.54    Yes  \n",
              "72     5/10/2022         8        1          9    0.78    Yes  \n",
              "73     5/10/2022        15        2         17    0.76    Yes  \n",
              "74     5/10/2022        10        7         17    0.18    Yes  \n",
              "75     5/10/2022        13        0         13    1.00    Yes  \n",
              "\n",
              "[76 rows x 10 columns]"
            ],
            "text/html": [
              "\n",
              "  <div id=\"df-bdd20e40-8a16-4bcd-ae51-fa780eee6f7c\">\n",
              "    <div class=\"colab-df-container\">\n",
              "      <div>\n",
              "<style scoped>\n",
              "    .dataframe tbody tr th:only-of-type {\n",
              "        vertical-align: middle;\n",
              "    }\n",
              "\n",
              "    .dataframe tbody tr th {\n",
              "        vertical-align: top;\n",
              "    }\n",
              "\n",
              "    .dataframe thead th {\n",
              "        text-align: right;\n",
              "    }\n",
              "</style>\n",
              "<table border=\"1\" class=\"dataframe\">\n",
              "  <thead>\n",
              "    <tr style=\"text-align: right;\">\n",
              "      <th></th>\n",
              "      <th>Store</th>\n",
              "      <th>Location</th>\n",
              "      <th>State</th>\n",
              "      <th>RTWState</th>\n",
              "      <th>VoteCountDate</th>\n",
              "      <th>VotesYes</th>\n",
              "      <th>VotesNo</th>\n",
              "      <th>VoteTotal</th>\n",
              "      <th>Margin</th>\n",
              "      <th>Result</th>\n",
              "    </tr>\n",
              "  </thead>\n",
              "  <tbody>\n",
              "    <tr>\n",
              "      <th>0</th>\n",
              "      <td>Camp Road Hamburg</td>\n",
              "      <td>Buffalo, NY</td>\n",
              "      <td>NY</td>\n",
              "      <td>No</td>\n",
              "      <td>12/9/2021</td>\n",
              "      <td>8</td>\n",
              "      <td>12</td>\n",
              "      <td>20</td>\n",
              "      <td>-0.20</td>\n",
              "      <td>No</td>\n",
              "    </tr>\n",
              "    <tr>\n",
              "      <th>1</th>\n",
              "      <td>Genessee St</td>\n",
              "      <td>Buffalo, NY</td>\n",
              "      <td>NY</td>\n",
              "      <td>No</td>\n",
              "      <td>12/9/2021</td>\n",
              "      <td>15</td>\n",
              "      <td>9</td>\n",
              "      <td>24</td>\n",
              "      <td>0.25</td>\n",
              "      <td>Yes</td>\n",
              "    </tr>\n",
              "    <tr>\n",
              "      <th>2</th>\n",
              "      <td>Elmwood</td>\n",
              "      <td>Buffalo, NY</td>\n",
              "      <td>NY</td>\n",
              "      <td>No</td>\n",
              "      <td>12/9/2021</td>\n",
              "      <td>19</td>\n",
              "      <td>8</td>\n",
              "      <td>27</td>\n",
              "      <td>0.41</td>\n",
              "      <td>Yes</td>\n",
              "    </tr>\n",
              "    <tr>\n",
              "      <th>3</th>\n",
              "      <td>Power &amp; Baseline Road</td>\n",
              "      <td>Mesa, AZ</td>\n",
              "      <td>AZ</td>\n",
              "      <td>Yes</td>\n",
              "      <td>2/25/2022</td>\n",
              "      <td>25</td>\n",
              "      <td>3</td>\n",
              "      <td>28</td>\n",
              "      <td>0.79</td>\n",
              "      <td>Yes</td>\n",
              "    </tr>\n",
              "    <tr>\n",
              "      <th>4</th>\n",
              "      <td>Sheridan &amp; Bailey</td>\n",
              "      <td>Buffalo, NY</td>\n",
              "      <td>NY</td>\n",
              "      <td>No</td>\n",
              "      <td>3/9/2022</td>\n",
              "      <td>15</td>\n",
              "      <td>12</td>\n",
              "      <td>27</td>\n",
              "      <td>0.11</td>\n",
              "      <td>Yes</td>\n",
              "    </tr>\n",
              "    <tr>\n",
              "      <th>...</th>\n",
              "      <td>...</td>\n",
              "      <td>...</td>\n",
              "      <td>...</td>\n",
              "      <td>...</td>\n",
              "      <td>...</td>\n",
              "      <td>...</td>\n",
              "      <td>...</td>\n",
              "      <td>...</td>\n",
              "      <td>...</td>\n",
              "      <td>...</td>\n",
              "    </tr>\n",
              "    <tr>\n",
              "      <th>71</th>\n",
              "      <td>52 Curtiss Pkwy</td>\n",
              "      <td>Miami Springs, FL</td>\n",
              "      <td>FL</td>\n",
              "      <td>Yes</td>\n",
              "      <td>5/10/2022</td>\n",
              "      <td>10</td>\n",
              "      <td>3</td>\n",
              "      <td>13</td>\n",
              "      <td>0.54</td>\n",
              "      <td>Yes</td>\n",
              "    </tr>\n",
              "    <tr>\n",
              "      <th>72</th>\n",
              "      <td>1980 Can Marco Blvd</td>\n",
              "      <td>Jacksonville, FL</td>\n",
              "      <td>FL</td>\n",
              "      <td>Yes</td>\n",
              "      <td>5/10/2022</td>\n",
              "      <td>8</td>\n",
              "      <td>1</td>\n",
              "      <td>9</td>\n",
              "      <td>0.78</td>\n",
              "      <td>Yes</td>\n",
              "    </tr>\n",
              "    <tr>\n",
              "      <th>73</th>\n",
              "      <td>1700 W Nursery Road</td>\n",
              "      <td>Linthicum, MD</td>\n",
              "      <td>MD</td>\n",
              "      <td>No</td>\n",
              "      <td>5/10/2022</td>\n",
              "      <td>15</td>\n",
              "      <td>2</td>\n",
              "      <td>17</td>\n",
              "      <td>0.76</td>\n",
              "      <td>Yes</td>\n",
              "    </tr>\n",
              "    <tr>\n",
              "      <th>74</th>\n",
              "      <td>San Jose Blvd &amp; Ricky Drive</td>\n",
              "      <td>Jacksonville, FL</td>\n",
              "      <td>FL</td>\n",
              "      <td>Yes</td>\n",
              "      <td>5/10/2022</td>\n",
              "      <td>10</td>\n",
              "      <td>7</td>\n",
              "      <td>17</td>\n",
              "      <td>0.18</td>\n",
              "      <td>Yes</td>\n",
              "    </tr>\n",
              "    <tr>\n",
              "      <th>75</th>\n",
              "      <td>E Colfax Ave</td>\n",
              "      <td>Denver, CO</td>\n",
              "      <td>CO</td>\n",
              "      <td>No</td>\n",
              "      <td>5/10/2022</td>\n",
              "      <td>13</td>\n",
              "      <td>0</td>\n",
              "      <td>13</td>\n",
              "      <td>1.00</td>\n",
              "      <td>Yes</td>\n",
              "    </tr>\n",
              "  </tbody>\n",
              "</table>\n",
              "<p>76 rows × 10 columns</p>\n",
              "</div>\n",
              "      <button class=\"colab-df-convert\" onclick=\"convertToInteractive('df-bdd20e40-8a16-4bcd-ae51-fa780eee6f7c')\"\n",
              "              title=\"Convert this dataframe to an interactive table.\"\n",
              "              style=\"display:none;\">\n",
              "        \n",
              "  <svg xmlns=\"http://www.w3.org/2000/svg\" height=\"24px\"viewBox=\"0 0 24 24\"\n",
              "       width=\"24px\">\n",
              "    <path d=\"M0 0h24v24H0V0z\" fill=\"none\"/>\n",
              "    <path d=\"M18.56 5.44l.94 2.06.94-2.06 2.06-.94-2.06-.94-.94-2.06-.94 2.06-2.06.94zm-11 1L8.5 8.5l.94-2.06 2.06-.94-2.06-.94L8.5 2.5l-.94 2.06-2.06.94zm10 10l.94 2.06.94-2.06 2.06-.94-2.06-.94-.94-2.06-.94 2.06-2.06.94z\"/><path d=\"M17.41 7.96l-1.37-1.37c-.4-.4-.92-.59-1.43-.59-.52 0-1.04.2-1.43.59L10.3 9.45l-7.72 7.72c-.78.78-.78 2.05 0 2.83L4 21.41c.39.39.9.59 1.41.59.51 0 1.02-.2 1.41-.59l7.78-7.78 2.81-2.81c.8-.78.8-2.07 0-2.86zM5.41 20L4 18.59l7.72-7.72 1.47 1.35L5.41 20z\"/>\n",
              "  </svg>\n",
              "      </button>\n",
              "      \n",
              "  <style>\n",
              "    .colab-df-container {\n",
              "      display:flex;\n",
              "      flex-wrap:wrap;\n",
              "      gap: 12px;\n",
              "    }\n",
              "\n",
              "    .colab-df-convert {\n",
              "      background-color: #E8F0FE;\n",
              "      border: none;\n",
              "      border-radius: 50%;\n",
              "      cursor: pointer;\n",
              "      display: none;\n",
              "      fill: #1967D2;\n",
              "      height: 32px;\n",
              "      padding: 0 0 0 0;\n",
              "      width: 32px;\n",
              "    }\n",
              "\n",
              "    .colab-df-convert:hover {\n",
              "      background-color: #E2EBFA;\n",
              "      box-shadow: 0px 1px 2px rgba(60, 64, 67, 0.3), 0px 1px 3px 1px rgba(60, 64, 67, 0.15);\n",
              "      fill: #174EA6;\n",
              "    }\n",
              "\n",
              "    [theme=dark] .colab-df-convert {\n",
              "      background-color: #3B4455;\n",
              "      fill: #D2E3FC;\n",
              "    }\n",
              "\n",
              "    [theme=dark] .colab-df-convert:hover {\n",
              "      background-color: #434B5C;\n",
              "      box-shadow: 0px 1px 3px 1px rgba(0, 0, 0, 0.15);\n",
              "      filter: drop-shadow(0px 1px 2px rgba(0, 0, 0, 0.3));\n",
              "      fill: #FFFFFF;\n",
              "    }\n",
              "  </style>\n",
              "\n",
              "      <script>\n",
              "        const buttonEl =\n",
              "          document.querySelector('#df-bdd20e40-8a16-4bcd-ae51-fa780eee6f7c button.colab-df-convert');\n",
              "        buttonEl.style.display =\n",
              "          google.colab.kernel.accessAllowed ? 'block' : 'none';\n",
              "\n",
              "        async function convertToInteractive(key) {\n",
              "          const element = document.querySelector('#df-bdd20e40-8a16-4bcd-ae51-fa780eee6f7c');\n",
              "          const dataTable =\n",
              "            await google.colab.kernel.invokeFunction('convertToInteractive',\n",
              "                                                     [key], {});\n",
              "          if (!dataTable) return;\n",
              "\n",
              "          const docLinkHtml = 'Like what you see? Visit the ' +\n",
              "            '<a target=\"_blank\" href=https://colab.research.google.com/notebooks/data_table.ipynb>data table notebook</a>'\n",
              "            + ' to learn more about interactive tables.';\n",
              "          element.innerHTML = '';\n",
              "          dataTable['output_type'] = 'display_data';\n",
              "          await google.colab.output.renderOutput(dataTable, element);\n",
              "          const docLink = document.createElement('div');\n",
              "          docLink.innerHTML = docLinkHtml;\n",
              "          element.appendChild(docLink);\n",
              "        }\n",
              "      </script>\n",
              "    </div>\n",
              "  </div>\n",
              "  "
            ]
          },
          "metadata": {},
          "execution_count": 8
        }
      ]
    },
    {
      "cell_type": "code",
      "source": [
        "df.describe(include='all').T"
      ],
      "metadata": {
        "colab": {
          "base_uri": "https://localhost:8080/",
          "height": 363
        },
        "id": "bfq9tcTb9aKq",
        "outputId": "c2c60d9c-ceb9-4805-ebe2-48fc775385d8"
      },
      "execution_count": 5,
      "outputs": [
        {
          "output_type": "execute_result",
          "data": {
            "text/plain": [
              "              count unique                top freq       mean        std  \\\n",
              "Store            76     76  Camp Road Hamburg    1        NaN        NaN   \n",
              "Location         76     47         Eugene, OR    8        NaN        NaN   \n",
              "State            76     18                 NY   17        NaN        NaN   \n",
              "RTWState         76      2                 No   49        NaN        NaN   \n",
              "VoteCountDate    76     29           5/3/2022   10        NaN        NaN   \n",
              "VotesYes       76.0    NaN                NaN  NaN  13.986842   7.399988   \n",
              "VotesNo        76.0    NaN                NaN  NaN   4.644737   6.202589   \n",
              "VoteTotal      76.0    NaN                NaN  NaN  18.631579  11.282839   \n",
              "Margin         76.0    NaN                NaN  NaN   0.561316   0.393695   \n",
              "Result           76      2                Yes   66        NaN        NaN   \n",
              "\n",
              "                min    25%    50%     75%   max  \n",
              "Store           NaN    NaN    NaN     NaN   NaN  \n",
              "Location        NaN    NaN    NaN     NaN   NaN  \n",
              "State           NaN    NaN    NaN     NaN   NaN  \n",
              "RTWState        NaN    NaN    NaN     NaN   NaN  \n",
              "VoteCountDate   NaN    NaN    NaN     NaN   NaN  \n",
              "VotesYes        4.0   9.75   12.5    17.0  46.0  \n",
              "VotesNo         0.0    1.0    2.5     7.0  36.0  \n",
              "VoteTotal       5.0   13.0   15.5    21.0  82.0  \n",
              "Margin        -0.31  0.225  0.685  0.8825   1.0  \n",
              "Result          NaN    NaN    NaN     NaN   NaN  "
            ],
            "text/html": [
              "\n",
              "  <div id=\"df-25a3c43d-2823-46ff-8b7c-e3b8683d44b3\">\n",
              "    <div class=\"colab-df-container\">\n",
              "      <div>\n",
              "<style scoped>\n",
              "    .dataframe tbody tr th:only-of-type {\n",
              "        vertical-align: middle;\n",
              "    }\n",
              "\n",
              "    .dataframe tbody tr th {\n",
              "        vertical-align: top;\n",
              "    }\n",
              "\n",
              "    .dataframe thead th {\n",
              "        text-align: right;\n",
              "    }\n",
              "</style>\n",
              "<table border=\"1\" class=\"dataframe\">\n",
              "  <thead>\n",
              "    <tr style=\"text-align: right;\">\n",
              "      <th></th>\n",
              "      <th>count</th>\n",
              "      <th>unique</th>\n",
              "      <th>top</th>\n",
              "      <th>freq</th>\n",
              "      <th>mean</th>\n",
              "      <th>std</th>\n",
              "      <th>min</th>\n",
              "      <th>25%</th>\n",
              "      <th>50%</th>\n",
              "      <th>75%</th>\n",
              "      <th>max</th>\n",
              "    </tr>\n",
              "  </thead>\n",
              "  <tbody>\n",
              "    <tr>\n",
              "      <th>Store</th>\n",
              "      <td>76</td>\n",
              "      <td>76</td>\n",
              "      <td>Camp Road Hamburg</td>\n",
              "      <td>1</td>\n",
              "      <td>NaN</td>\n",
              "      <td>NaN</td>\n",
              "      <td>NaN</td>\n",
              "      <td>NaN</td>\n",
              "      <td>NaN</td>\n",
              "      <td>NaN</td>\n",
              "      <td>NaN</td>\n",
              "    </tr>\n",
              "    <tr>\n",
              "      <th>Location</th>\n",
              "      <td>76</td>\n",
              "      <td>47</td>\n",
              "      <td>Eugene, OR</td>\n",
              "      <td>8</td>\n",
              "      <td>NaN</td>\n",
              "      <td>NaN</td>\n",
              "      <td>NaN</td>\n",
              "      <td>NaN</td>\n",
              "      <td>NaN</td>\n",
              "      <td>NaN</td>\n",
              "      <td>NaN</td>\n",
              "    </tr>\n",
              "    <tr>\n",
              "      <th>State</th>\n",
              "      <td>76</td>\n",
              "      <td>18</td>\n",
              "      <td>NY</td>\n",
              "      <td>17</td>\n",
              "      <td>NaN</td>\n",
              "      <td>NaN</td>\n",
              "      <td>NaN</td>\n",
              "      <td>NaN</td>\n",
              "      <td>NaN</td>\n",
              "      <td>NaN</td>\n",
              "      <td>NaN</td>\n",
              "    </tr>\n",
              "    <tr>\n",
              "      <th>RTWState</th>\n",
              "      <td>76</td>\n",
              "      <td>2</td>\n",
              "      <td>No</td>\n",
              "      <td>49</td>\n",
              "      <td>NaN</td>\n",
              "      <td>NaN</td>\n",
              "      <td>NaN</td>\n",
              "      <td>NaN</td>\n",
              "      <td>NaN</td>\n",
              "      <td>NaN</td>\n",
              "      <td>NaN</td>\n",
              "    </tr>\n",
              "    <tr>\n",
              "      <th>VoteCountDate</th>\n",
              "      <td>76</td>\n",
              "      <td>29</td>\n",
              "      <td>5/3/2022</td>\n",
              "      <td>10</td>\n",
              "      <td>NaN</td>\n",
              "      <td>NaN</td>\n",
              "      <td>NaN</td>\n",
              "      <td>NaN</td>\n",
              "      <td>NaN</td>\n",
              "      <td>NaN</td>\n",
              "      <td>NaN</td>\n",
              "    </tr>\n",
              "    <tr>\n",
              "      <th>VotesYes</th>\n",
              "      <td>76.0</td>\n",
              "      <td>NaN</td>\n",
              "      <td>NaN</td>\n",
              "      <td>NaN</td>\n",
              "      <td>13.986842</td>\n",
              "      <td>7.399988</td>\n",
              "      <td>4.0</td>\n",
              "      <td>9.75</td>\n",
              "      <td>12.5</td>\n",
              "      <td>17.0</td>\n",
              "      <td>46.0</td>\n",
              "    </tr>\n",
              "    <tr>\n",
              "      <th>VotesNo</th>\n",
              "      <td>76.0</td>\n",
              "      <td>NaN</td>\n",
              "      <td>NaN</td>\n",
              "      <td>NaN</td>\n",
              "      <td>4.644737</td>\n",
              "      <td>6.202589</td>\n",
              "      <td>0.0</td>\n",
              "      <td>1.0</td>\n",
              "      <td>2.5</td>\n",
              "      <td>7.0</td>\n",
              "      <td>36.0</td>\n",
              "    </tr>\n",
              "    <tr>\n",
              "      <th>VoteTotal</th>\n",
              "      <td>76.0</td>\n",
              "      <td>NaN</td>\n",
              "      <td>NaN</td>\n",
              "      <td>NaN</td>\n",
              "      <td>18.631579</td>\n",
              "      <td>11.282839</td>\n",
              "      <td>5.0</td>\n",
              "      <td>13.0</td>\n",
              "      <td>15.5</td>\n",
              "      <td>21.0</td>\n",
              "      <td>82.0</td>\n",
              "    </tr>\n",
              "    <tr>\n",
              "      <th>Margin</th>\n",
              "      <td>76.0</td>\n",
              "      <td>NaN</td>\n",
              "      <td>NaN</td>\n",
              "      <td>NaN</td>\n",
              "      <td>0.561316</td>\n",
              "      <td>0.393695</td>\n",
              "      <td>-0.31</td>\n",
              "      <td>0.225</td>\n",
              "      <td>0.685</td>\n",
              "      <td>0.8825</td>\n",
              "      <td>1.0</td>\n",
              "    </tr>\n",
              "    <tr>\n",
              "      <th>Result</th>\n",
              "      <td>76</td>\n",
              "      <td>2</td>\n",
              "      <td>Yes</td>\n",
              "      <td>66</td>\n",
              "      <td>NaN</td>\n",
              "      <td>NaN</td>\n",
              "      <td>NaN</td>\n",
              "      <td>NaN</td>\n",
              "      <td>NaN</td>\n",
              "      <td>NaN</td>\n",
              "      <td>NaN</td>\n",
              "    </tr>\n",
              "  </tbody>\n",
              "</table>\n",
              "</div>\n",
              "      <button class=\"colab-df-convert\" onclick=\"convertToInteractive('df-25a3c43d-2823-46ff-8b7c-e3b8683d44b3')\"\n",
              "              title=\"Convert this dataframe to an interactive table.\"\n",
              "              style=\"display:none;\">\n",
              "        \n",
              "  <svg xmlns=\"http://www.w3.org/2000/svg\" height=\"24px\"viewBox=\"0 0 24 24\"\n",
              "       width=\"24px\">\n",
              "    <path d=\"M0 0h24v24H0V0z\" fill=\"none\"/>\n",
              "    <path d=\"M18.56 5.44l.94 2.06.94-2.06 2.06-.94-2.06-.94-.94-2.06-.94 2.06-2.06.94zm-11 1L8.5 8.5l.94-2.06 2.06-.94-2.06-.94L8.5 2.5l-.94 2.06-2.06.94zm10 10l.94 2.06.94-2.06 2.06-.94-2.06-.94-.94-2.06-.94 2.06-2.06.94z\"/><path d=\"M17.41 7.96l-1.37-1.37c-.4-.4-.92-.59-1.43-.59-.52 0-1.04.2-1.43.59L10.3 9.45l-7.72 7.72c-.78.78-.78 2.05 0 2.83L4 21.41c.39.39.9.59 1.41.59.51 0 1.02-.2 1.41-.59l7.78-7.78 2.81-2.81c.8-.78.8-2.07 0-2.86zM5.41 20L4 18.59l7.72-7.72 1.47 1.35L5.41 20z\"/>\n",
              "  </svg>\n",
              "      </button>\n",
              "      \n",
              "  <style>\n",
              "    .colab-df-container {\n",
              "      display:flex;\n",
              "      flex-wrap:wrap;\n",
              "      gap: 12px;\n",
              "    }\n",
              "\n",
              "    .colab-df-convert {\n",
              "      background-color: #E8F0FE;\n",
              "      border: none;\n",
              "      border-radius: 50%;\n",
              "      cursor: pointer;\n",
              "      display: none;\n",
              "      fill: #1967D2;\n",
              "      height: 32px;\n",
              "      padding: 0 0 0 0;\n",
              "      width: 32px;\n",
              "    }\n",
              "\n",
              "    .colab-df-convert:hover {\n",
              "      background-color: #E2EBFA;\n",
              "      box-shadow: 0px 1px 2px rgba(60, 64, 67, 0.3), 0px 1px 3px 1px rgba(60, 64, 67, 0.15);\n",
              "      fill: #174EA6;\n",
              "    }\n",
              "\n",
              "    [theme=dark] .colab-df-convert {\n",
              "      background-color: #3B4455;\n",
              "      fill: #D2E3FC;\n",
              "    }\n",
              "\n",
              "    [theme=dark] .colab-df-convert:hover {\n",
              "      background-color: #434B5C;\n",
              "      box-shadow: 0px 1px 3px 1px rgba(0, 0, 0, 0.15);\n",
              "      filter: drop-shadow(0px 1px 2px rgba(0, 0, 0, 0.3));\n",
              "      fill: #FFFFFF;\n",
              "    }\n",
              "  </style>\n",
              "\n",
              "      <script>\n",
              "        const buttonEl =\n",
              "          document.querySelector('#df-25a3c43d-2823-46ff-8b7c-e3b8683d44b3 button.colab-df-convert');\n",
              "        buttonEl.style.display =\n",
              "          google.colab.kernel.accessAllowed ? 'block' : 'none';\n",
              "\n",
              "        async function convertToInteractive(key) {\n",
              "          const element = document.querySelector('#df-25a3c43d-2823-46ff-8b7c-e3b8683d44b3');\n",
              "          const dataTable =\n",
              "            await google.colab.kernel.invokeFunction('convertToInteractive',\n",
              "                                                     [key], {});\n",
              "          if (!dataTable) return;\n",
              "\n",
              "          const docLinkHtml = 'Like what you see? Visit the ' +\n",
              "            '<a target=\"_blank\" href=https://colab.research.google.com/notebooks/data_table.ipynb>data table notebook</a>'\n",
              "            + ' to learn more about interactive tables.';\n",
              "          element.innerHTML = '';\n",
              "          dataTable['output_type'] = 'display_data';\n",
              "          await google.colab.output.renderOutput(dataTable, element);\n",
              "          const docLink = document.createElement('div');\n",
              "          docLink.innerHTML = docLinkHtml;\n",
              "          element.appendChild(docLink);\n",
              "        }\n",
              "      </script>\n",
              "    </div>\n",
              "  </div>\n",
              "  "
            ]
          },
          "metadata": {},
          "execution_count": 5
        }
      ]
    },
    {
      "cell_type": "code",
      "source": [
        "newdf = df.drop(['State', 'RTWState'], axis=1)"
      ],
      "metadata": {
        "id": "bI2pUgERCFtp"
      },
      "execution_count": 13,
      "outputs": []
    },
    {
      "cell_type": "code",
      "source": [
        "newdf.info()"
      ],
      "metadata": {
        "colab": {
          "base_uri": "https://localhost:8080/"
        },
        "id": "LS4lIArIDllY",
        "outputId": "1fd089d8-20fe-40a8-bd39-9e589a23b25b"
      },
      "execution_count": 14,
      "outputs": [
        {
          "output_type": "stream",
          "name": "stdout",
          "text": [
            "<class 'pandas.core.frame.DataFrame'>\n",
            "RangeIndex: 76 entries, 0 to 75\n",
            "Data columns (total 8 columns):\n",
            " #   Column         Non-Null Count  Dtype  \n",
            "---  ------         --------------  -----  \n",
            " 0   Store          76 non-null     object \n",
            " 1   Location       76 non-null     object \n",
            " 2   VoteCountDate  76 non-null     object \n",
            " 3   VotesYes       76 non-null     int64  \n",
            " 4   VotesNo        76 non-null     int64  \n",
            " 5   VoteTotal      76 non-null     int64  \n",
            " 6   Margin         76 non-null     float64\n",
            " 7   Result         76 non-null     object \n",
            "dtypes: float64(1), int64(3), object(4)\n",
            "memory usage: 4.9+ KB\n"
          ]
        }
      ]
    },
    {
      "cell_type": "code",
      "source": [
        "for var in newdf.columns:\n",
        "    \n",
        "    print(newdf[var].value_counts())"
      ],
      "metadata": {
        "colab": {
          "base_uri": "https://localhost:8080/"
        },
        "id": "fLNTWuIgEGUv",
        "outputId": "8b81e699-b848-4c93-e49f-fe90b3f00872"
      },
      "execution_count": 15,
      "outputs": [
        {
          "output_type": "stream",
          "name": "stdout",
          "text": [
            "Camp Road Hamburg                   1\n",
            "Cooper Point Village                1\n",
            "Beth Israel                         1\n",
            "The Gardens                         1\n",
            "Wake Forest Rd and Six Forks Rd     1\n",
            "                                   ..\n",
            "Forest Hill Ave                     1\n",
            "Westchester Commons                 1\n",
            "Huguenot Village Shopping Center    1\n",
            "Huntsman Square                     1\n",
            "E Colfax Ave                        1\n",
            "Name: Store, Length: 76, dtype: int64\n",
            "Eugene, OR              8\n",
            "Buffalo, NY             7\n",
            "Boston, MA              5\n",
            "Richmond, VA            4\n",
            "Seattle, WA             3\n",
            "Ithaca, NY              3\n",
            "New York, NY            2\n",
            "Rochester, NY           2\n",
            "Jacksonville, FL        2\n",
            "Pittsburgh, PA          2\n",
            "Mesa, AZ                2\n",
            "Minneapolis, MN         1\n",
            "Brooklyn, NY            1\n",
            "Raleigh, NC             1\n",
            "Great Neck Plaza, NY    1\n",
            "Watertown, MA           1\n",
            "Farmville, VA           1\n",
            "Tallahassee, FL         1\n",
            "La Granga, IL           1\n",
            "Massapequa, NY          1\n",
            "Plover, WI              1\n",
            "Phoenix, AZ             1\n",
            "Avondale, AZ            1\n",
            "Summit, NJ              1\n",
            "Estero, FL              1\n",
            "Miami Springs, FL       1\n",
            "Linthicum, MD           1\n",
            "Hamilton, NJ            1\n",
            "St. Paul, MN            1\n",
            "Boone, NC               1\n",
            "Olympia, WA             1\n",
            "Knoxville, TN           1\n",
            "Overland Park, KS       1\n",
            "Springfield, VA         1\n",
            "Midlothian, VA          1\n",
            "Hialeah, FL             1\n",
            "Miami, FL               1\n",
            "Superior, CO            1\n",
            "Falls Church, VA        1\n",
            "Leesburg, VA            1\n",
            "Baltimore, MD           1\n",
            "Pennington, NJ          1\n",
            "Peoria, IL              1\n",
            "Cary, IL                1\n",
            "Oak Creek, WI           1\n",
            "Augusta, GA             1\n",
            "Denver, CO              1\n",
            "Name: Location, dtype: int64\n",
            "5/3/2022     10\n",
            "4/28/2022     6\n",
            "5/10/2022     5\n",
            "4/19/2022     5\n",
            "5/5/2022      4\n",
            "4/8/2022      4\n",
            "4/22/2022     4\n",
            "5/6/2022      3\n",
            "5/2/2022      3\n",
            "4/29/2022     3\n",
            "12/9/2021     3\n",
            "4/7/2022      3\n",
            "3/9/2022      2\n",
            "4/11/2022     2\n",
            "4/25/2022     2\n",
            "4/26/2022     2\n",
            "4/27/2022     2\n",
            "4/13/2022     2\n",
            "3/29/2022     1\n",
            "3/22/2022     1\n",
            "5/4/2022      1\n",
            "3/25/2022     1\n",
            "4/14/2022     1\n",
            "4/30/2022     1\n",
            "4/1/2022      1\n",
            "4/23/2022     1\n",
            "2/25/2022     1\n",
            "4/20/2022     1\n",
            "4/21/2022     1\n",
            "Name: VoteCountDate, dtype: int64\n",
            "10    8\n",
            "11    7\n",
            "15    7\n",
            "8     6\n",
            "17    6\n",
            "19    6\n",
            "13    5\n",
            "7     5\n",
            "12    4\n",
            "14    3\n",
            "5     3\n",
            "9     2\n",
            "6     2\n",
            "20    1\n",
            "22    1\n",
            "46    1\n",
            "38    1\n",
            "30    1\n",
            "24    1\n",
            "4     1\n",
            "26    1\n",
            "33    1\n",
            "18    1\n",
            "25    1\n",
            "16    1\n",
            "Name: VotesYes, dtype: int64\n",
            "1     14\n",
            "0     14\n",
            "3     12\n",
            "2     10\n",
            "8      4\n",
            "7      4\n",
            "12     3\n",
            "9      2\n",
            "10     2\n",
            "14     2\n",
            "5      2\n",
            "6      2\n",
            "11     1\n",
            "36     1\n",
            "27     1\n",
            "4      1\n",
            "21     1\n",
            "Name: VotesNo, dtype: int64\n",
            "13    9\n",
            "11    7\n",
            "17    6\n",
            "14    6\n",
            "15    5\n",
            "20    5\n",
            "27    5\n",
            "9     3\n",
            "19    3\n",
            "12    3\n",
            "21    3\n",
            "18    2\n",
            "10    2\n",
            "32    2\n",
            "25    2\n",
            "24    2\n",
            "7     2\n",
            "82    1\n",
            "26    1\n",
            "65    1\n",
            "16    1\n",
            "23    1\n",
            "31    1\n",
            "35    1\n",
            "28    1\n",
            "5     1\n",
            "Name: VoteTotal, dtype: int64\n",
            " 1.00    14\n",
            " 0.54     4\n",
            " 0.88     3\n",
            " 0.89     3\n",
            " 0.08     2\n",
            " 0.17     2\n",
            " 0.76     2\n",
            " 0.69     2\n",
            " 0.60     2\n",
            " 0.71     2\n",
            "-0.20     2\n",
            " 0.82     2\n",
            " 0.41     2\n",
            " 0.57     2\n",
            " 0.11     2\n",
            " 0.85     1\n",
            " 0.68     1\n",
            " 0.83     1\n",
            " 0.81     1\n",
            " 0.40     1\n",
            " 0.70     1\n",
            " 0.45     1\n",
            "-0.31     1\n",
            "-0.17     1\n",
            "-0.09     1\n",
            "-0.27     1\n",
            " 0.56     1\n",
            " 0.78     1\n",
            " 0.00     1\n",
            " 0.30     1\n",
            " 0.87     1\n",
            " 0.62     1\n",
            " 0.64     1\n",
            " 0.92     1\n",
            "-0.04     1\n",
            " 0.25     1\n",
            "-0.08     1\n",
            " 0.24     1\n",
            "-0.11     1\n",
            " 0.90     1\n",
            " 0.86     1\n",
            " 0.12     1\n",
            " 0.07     1\n",
            " 0.79     1\n",
            " 0.18     1\n",
            "Name: Margin, dtype: int64\n",
            "Yes    66\n",
            "No     10\n",
            "Name: Result, dtype: int64\n"
          ]
        }
      ]
    },
    {
      "cell_type": "code",
      "source": [
        "newdf.dtypes"
      ],
      "metadata": {
        "colab": {
          "base_uri": "https://localhost:8080/"
        },
        "id": "NxDkeA9tEq-X",
        "outputId": "3624dd30-5a87-4dfb-b2f8-cf6cead395e1"
      },
      "execution_count": 16,
      "outputs": [
        {
          "output_type": "execute_result",
          "data": {
            "text/plain": [
              "Store             object\n",
              "Location          object\n",
              "VoteCountDate     object\n",
              "VotesYes           int64\n",
              "VotesNo            int64\n",
              "VoteTotal          int64\n",
              "Margin           float64\n",
              "Result            object\n",
              "dtype: object"
            ]
          },
          "metadata": {},
          "execution_count": 16
        }
      ]
    },
    {
      "cell_type": "code",
      "source": [
        "newdf.head()"
      ],
      "metadata": {
        "colab": {
          "base_uri": "https://localhost:8080/",
          "height": 206
        },
        "id": "lbN2ymXVGn41",
        "outputId": "d12851c0-fb0e-4950-facc-fbf887512b9f"
      },
      "execution_count": 17,
      "outputs": [
        {
          "output_type": "execute_result",
          "data": {
            "text/plain": [
              "                   Store     Location VoteCountDate  VotesYes  VotesNo  \\\n",
              "0      Camp Road Hamburg  Buffalo, NY     12/9/2021         8       12   \n",
              "1            Genessee St  Buffalo, NY     12/9/2021        15        9   \n",
              "2                Elmwood  Buffalo, NY     12/9/2021        19        8   \n",
              "3  Power & Baseline Road     Mesa, AZ     2/25/2022        25        3   \n",
              "4      Sheridan & Bailey  Buffalo, NY      3/9/2022        15       12   \n",
              "\n",
              "   VoteTotal  Margin Result  \n",
              "0         20   -0.20     No  \n",
              "1         24    0.25    Yes  \n",
              "2         27    0.41    Yes  \n",
              "3         28    0.79    Yes  \n",
              "4         27    0.11    Yes  "
            ],
            "text/html": [
              "\n",
              "  <div id=\"df-89efddbc-1236-4805-af02-21346e6af8dd\">\n",
              "    <div class=\"colab-df-container\">\n",
              "      <div>\n",
              "<style scoped>\n",
              "    .dataframe tbody tr th:only-of-type {\n",
              "        vertical-align: middle;\n",
              "    }\n",
              "\n",
              "    .dataframe tbody tr th {\n",
              "        vertical-align: top;\n",
              "    }\n",
              "\n",
              "    .dataframe thead th {\n",
              "        text-align: right;\n",
              "    }\n",
              "</style>\n",
              "<table border=\"1\" class=\"dataframe\">\n",
              "  <thead>\n",
              "    <tr style=\"text-align: right;\">\n",
              "      <th></th>\n",
              "      <th>Store</th>\n",
              "      <th>Location</th>\n",
              "      <th>VoteCountDate</th>\n",
              "      <th>VotesYes</th>\n",
              "      <th>VotesNo</th>\n",
              "      <th>VoteTotal</th>\n",
              "      <th>Margin</th>\n",
              "      <th>Result</th>\n",
              "    </tr>\n",
              "  </thead>\n",
              "  <tbody>\n",
              "    <tr>\n",
              "      <th>0</th>\n",
              "      <td>Camp Road Hamburg</td>\n",
              "      <td>Buffalo, NY</td>\n",
              "      <td>12/9/2021</td>\n",
              "      <td>8</td>\n",
              "      <td>12</td>\n",
              "      <td>20</td>\n",
              "      <td>-0.20</td>\n",
              "      <td>No</td>\n",
              "    </tr>\n",
              "    <tr>\n",
              "      <th>1</th>\n",
              "      <td>Genessee St</td>\n",
              "      <td>Buffalo, NY</td>\n",
              "      <td>12/9/2021</td>\n",
              "      <td>15</td>\n",
              "      <td>9</td>\n",
              "      <td>24</td>\n",
              "      <td>0.25</td>\n",
              "      <td>Yes</td>\n",
              "    </tr>\n",
              "    <tr>\n",
              "      <th>2</th>\n",
              "      <td>Elmwood</td>\n",
              "      <td>Buffalo, NY</td>\n",
              "      <td>12/9/2021</td>\n",
              "      <td>19</td>\n",
              "      <td>8</td>\n",
              "      <td>27</td>\n",
              "      <td>0.41</td>\n",
              "      <td>Yes</td>\n",
              "    </tr>\n",
              "    <tr>\n",
              "      <th>3</th>\n",
              "      <td>Power &amp; Baseline Road</td>\n",
              "      <td>Mesa, AZ</td>\n",
              "      <td>2/25/2022</td>\n",
              "      <td>25</td>\n",
              "      <td>3</td>\n",
              "      <td>28</td>\n",
              "      <td>0.79</td>\n",
              "      <td>Yes</td>\n",
              "    </tr>\n",
              "    <tr>\n",
              "      <th>4</th>\n",
              "      <td>Sheridan &amp; Bailey</td>\n",
              "      <td>Buffalo, NY</td>\n",
              "      <td>3/9/2022</td>\n",
              "      <td>15</td>\n",
              "      <td>12</td>\n",
              "      <td>27</td>\n",
              "      <td>0.11</td>\n",
              "      <td>Yes</td>\n",
              "    </tr>\n",
              "  </tbody>\n",
              "</table>\n",
              "</div>\n",
              "      <button class=\"colab-df-convert\" onclick=\"convertToInteractive('df-89efddbc-1236-4805-af02-21346e6af8dd')\"\n",
              "              title=\"Convert this dataframe to an interactive table.\"\n",
              "              style=\"display:none;\">\n",
              "        \n",
              "  <svg xmlns=\"http://www.w3.org/2000/svg\" height=\"24px\"viewBox=\"0 0 24 24\"\n",
              "       width=\"24px\">\n",
              "    <path d=\"M0 0h24v24H0V0z\" fill=\"none\"/>\n",
              "    <path d=\"M18.56 5.44l.94 2.06.94-2.06 2.06-.94-2.06-.94-.94-2.06-.94 2.06-2.06.94zm-11 1L8.5 8.5l.94-2.06 2.06-.94-2.06-.94L8.5 2.5l-.94 2.06-2.06.94zm10 10l.94 2.06.94-2.06 2.06-.94-2.06-.94-.94-2.06-.94 2.06-2.06.94z\"/><path d=\"M17.41 7.96l-1.37-1.37c-.4-.4-.92-.59-1.43-.59-.52 0-1.04.2-1.43.59L10.3 9.45l-7.72 7.72c-.78.78-.78 2.05 0 2.83L4 21.41c.39.39.9.59 1.41.59.51 0 1.02-.2 1.41-.59l7.78-7.78 2.81-2.81c.8-.78.8-2.07 0-2.86zM5.41 20L4 18.59l7.72-7.72 1.47 1.35L5.41 20z\"/>\n",
              "  </svg>\n",
              "      </button>\n",
              "      \n",
              "  <style>\n",
              "    .colab-df-container {\n",
              "      display:flex;\n",
              "      flex-wrap:wrap;\n",
              "      gap: 12px;\n",
              "    }\n",
              "\n",
              "    .colab-df-convert {\n",
              "      background-color: #E8F0FE;\n",
              "      border: none;\n",
              "      border-radius: 50%;\n",
              "      cursor: pointer;\n",
              "      display: none;\n",
              "      fill: #1967D2;\n",
              "      height: 32px;\n",
              "      padding: 0 0 0 0;\n",
              "      width: 32px;\n",
              "    }\n",
              "\n",
              "    .colab-df-convert:hover {\n",
              "      background-color: #E2EBFA;\n",
              "      box-shadow: 0px 1px 2px rgba(60, 64, 67, 0.3), 0px 1px 3px 1px rgba(60, 64, 67, 0.15);\n",
              "      fill: #174EA6;\n",
              "    }\n",
              "\n",
              "    [theme=dark] .colab-df-convert {\n",
              "      background-color: #3B4455;\n",
              "      fill: #D2E3FC;\n",
              "    }\n",
              "\n",
              "    [theme=dark] .colab-df-convert:hover {\n",
              "      background-color: #434B5C;\n",
              "      box-shadow: 0px 1px 3px 1px rgba(0, 0, 0, 0.15);\n",
              "      filter: drop-shadow(0px 1px 2px rgba(0, 0, 0, 0.3));\n",
              "      fill: #FFFFFF;\n",
              "    }\n",
              "  </style>\n",
              "\n",
              "      <script>\n",
              "        const buttonEl =\n",
              "          document.querySelector('#df-89efddbc-1236-4805-af02-21346e6af8dd button.colab-df-convert');\n",
              "        buttonEl.style.display =\n",
              "          google.colab.kernel.accessAllowed ? 'block' : 'none';\n",
              "\n",
              "        async function convertToInteractive(key) {\n",
              "          const element = document.querySelector('#df-89efddbc-1236-4805-af02-21346e6af8dd');\n",
              "          const dataTable =\n",
              "            await google.colab.kernel.invokeFunction('convertToInteractive',\n",
              "                                                     [key], {});\n",
              "          if (!dataTable) return;\n",
              "\n",
              "          const docLinkHtml = 'Like what you see? Visit the ' +\n",
              "            '<a target=\"_blank\" href=https://colab.research.google.com/notebooks/data_table.ipynb>data table notebook</a>'\n",
              "            + ' to learn more about interactive tables.';\n",
              "          element.innerHTML = '';\n",
              "          dataTable['output_type'] = 'display_data';\n",
              "          await google.colab.output.renderOutput(dataTable, element);\n",
              "          const docLink = document.createElement('div');\n",
              "          docLink.innerHTML = docLinkHtml;\n",
              "          element.appendChild(docLink);\n",
              "        }\n",
              "      </script>\n",
              "    </div>\n",
              "  </div>\n",
              "  "
            ]
          },
          "metadata": {},
          "execution_count": 17
        }
      ]
    },
    {
      "cell_type": "code",
      "source": [
        "cols = ['Result']"
      ],
      "metadata": {
        "id": "mGvDxxbeQo9a"
      },
      "execution_count": 62,
      "outputs": []
    },
    {
      "cell_type": "code",
      "source": [
        "#label encoding the data\n",
        "from sklearn.preprocessing import LabelEncoder\n",
        "df[cols] = df[cols].apply(LabelEncoder().fit_transform)"
      ],
      "metadata": {
        "id": "LsS_mFXASX40"
      },
      "execution_count": 63,
      "outputs": []
    },
    {
      "cell_type": "code",
      "source": [
        "X = newdf[['VotesYes','VotesNo','VoteTotal','Margin']]\n",
        "Y = newdf[['Result']]"
      ],
      "metadata": {
        "id": "IOhGjQkSG5ZG"
      },
      "execution_count": 64,
      "outputs": []
    },
    {
      "cell_type": "code",
      "source": [
        "X_train, X_test,Y_train, Y_test = train_test_split(X, Y, test_size=0.3, random_state=1)"
      ],
      "metadata": {
        "id": "FaWXsbJXIXV-"
      },
      "execution_count": 65,
      "outputs": []
    },
    {
      "cell_type": "code",
      "source": [
        "standard_scaler = StandardScaler()"
      ],
      "metadata": {
        "id": "TQks0-XAId0f"
      },
      "execution_count": 66,
      "outputs": []
    },
    {
      "cell_type": "code",
      "source": [
        "X_train_scaler = standard_scaler.fit(X_train)\n",
        "X_train_trans_scaler = standard_scaler.fit_transform(X_train)"
      ],
      "metadata": {
        "id": "cR4_sOgtIiTE"
      },
      "execution_count": 67,
      "outputs": []
    },
    {
      "cell_type": "code",
      "source": [
        "X_train_scaler"
      ],
      "metadata": {
        "colab": {
          "base_uri": "https://localhost:8080/"
        },
        "id": "cLVN_8uZIneW",
        "outputId": "a1a0f070-883e-4eac-bcc2-ffddad7284ba"
      },
      "execution_count": 68,
      "outputs": [
        {
          "output_type": "execute_result",
          "data": {
            "text/plain": [
              "StandardScaler()"
            ]
          },
          "metadata": {},
          "execution_count": 68
        }
      ]
    },
    {
      "cell_type": "code",
      "source": [
        "X_train_trans_scaler.size"
      ],
      "metadata": {
        "colab": {
          "base_uri": "https://localhost:8080/"
        },
        "id": "v51rqLfCIrIn",
        "outputId": "473f098a-970b-4b5f-a384-5a45806821d9"
      },
      "execution_count": 69,
      "outputs": [
        {
          "output_type": "execute_result",
          "data": {
            "text/plain": [
              "212"
            ]
          },
          "metadata": {},
          "execution_count": 69
        }
      ]
    },
    {
      "cell_type": "code",
      "source": [
        "X_test_trans_scaler = standard_scaler.transform(X_test)\n",
        "\n",
        "X_test_trans_scaler.size"
      ],
      "metadata": {
        "colab": {
          "base_uri": "https://localhost:8080/"
        },
        "id": "A7yZb6oCIvNX",
        "outputId": "7e1202f9-e4d7-4635-f41a-6839cc96ece8"
      },
      "execution_count": 70,
      "outputs": [
        {
          "output_type": "execute_result",
          "data": {
            "text/plain": [
              "92"
            ]
          },
          "metadata": {},
          "execution_count": 70
        }
      ]
    },
    {
      "cell_type": "code",
      "source": [
        "model= KNeighborsClassifier()"
      ],
      "metadata": {
        "id": "86DsMG6NIzCB"
      },
      "execution_count": 71,
      "outputs": []
    },
    {
      "cell_type": "code",
      "source": [
        "model.fit(X_train,Y_train)"
      ],
      "metadata": {
        "colab": {
          "base_uri": "https://localhost:8080/"
        },
        "id": "Kg7eb79aI2y-",
        "outputId": "62df0933-8d3a-4bd0-a4bc-50f3f4bfa8ef"
      },
      "execution_count": 72,
      "outputs": [
        {
          "output_type": "stream",
          "name": "stderr",
          "text": [
            "/usr/local/lib/python3.7/dist-packages/sklearn/neighbors/_classification.py:198: DataConversionWarning: A column-vector y was passed when a 1d array was expected. Please change the shape of y to (n_samples,), for example using ravel().\n",
            "  return self._fit(X, y)\n"
          ]
        },
        {
          "output_type": "execute_result",
          "data": {
            "text/plain": [
              "KNeighborsClassifier()"
            ]
          },
          "metadata": {},
          "execution_count": 72
        }
      ]
    },
    {
      "cell_type": "code",
      "source": [
        "Y_pred = model.predict(X_test)\n",
        "Z_pred = model.predict(X_train)"
      ],
      "metadata": {
        "id": "VZxQKsbQJnOA"
      },
      "execution_count": 73,
      "outputs": []
    },
    {
      "cell_type": "code",
      "source": [
        "acc_score = accuracy_score(Y_test, Y_pred)\n",
        "print(acc_score)"
      ],
      "metadata": {
        "colab": {
          "base_uri": "https://localhost:8080/"
        },
        "id": "roiTeK82Jtad",
        "outputId": "7e9598bc-c46c-45bc-ed69-8ccd9d6cfda8"
      },
      "execution_count": 74,
      "outputs": [
        {
          "output_type": "stream",
          "name": "stdout",
          "text": [
            "0.8695652173913043\n"
          ]
        }
      ]
    },
    {
      "cell_type": "code",
      "source": [
        "print(confusion_matrix(Y_test, Y_pred))"
      ],
      "metadata": {
        "colab": {
          "base_uri": "https://localhost:8080/"
        },
        "id": "MnFNUJvzJ_Hz",
        "outputId": "d6e5e115-d12e-4408-e002-e7fed0d08fde"
      },
      "execution_count": 76,
      "outputs": [
        {
          "output_type": "stream",
          "name": "stdout",
          "text": [
            "[[ 1  2]\n",
            " [ 1 19]]\n"
          ]
        }
      ]
    },
    {
      "cell_type": "code",
      "source": [
        "print(classification_report(Y_test,Y_pred))"
      ],
      "metadata": {
        "colab": {
          "base_uri": "https://localhost:8080/"
        },
        "id": "YzsVz0g6KEbW",
        "outputId": "0cd8a871-7927-4056-acc8-f273e8e7e65b"
      },
      "execution_count": 77,
      "outputs": [
        {
          "output_type": "stream",
          "name": "stdout",
          "text": [
            "              precision    recall  f1-score   support\n",
            "\n",
            "          No       0.50      0.33      0.40         3\n",
            "         Yes       0.90      0.95      0.93        20\n",
            "\n",
            "    accuracy                           0.87        23\n",
            "   macro avg       0.70      0.64      0.66        23\n",
            "weighted avg       0.85      0.87      0.86        23\n",
            "\n"
          ]
        }
      ]
    }
  ]
}