{
  "nbformat": 4,
  "nbformat_minor": 0,
  "metadata": {
    "colab": {
      "name": "10July.ipynb",
      "provenance": [],
      "collapsed_sections": []
    },
    "kernelspec": {
      "name": "python3",
      "display_name": "Python 3"
    },
    "language_info": {
      "name": "python"
    }
  },
  "cells": [
    {
      "cell_type": "code",
      "execution_count": null,
      "metadata": {
        "colab": {
          "base_uri": "https://localhost:8080/"
        },
        "id": "3cFj_Q31ghyz",
        "outputId": "e26aeb45-4098-4bdb-a0d5-432dcb73c3ed"
      },
      "outputs": [
        {
          "output_type": "stream",
          "name": "stdout",
          "text": [
            "     Company   Age  Salary     Place Country\n",
            "0        TCS  20.0     NaN   Chennai   India\n",
            "1    Infosys  30.0     NaN    Mumbai   India\n",
            "2        TCS  35.0  2300.0  Calcutta   India\n",
            "3    Infosys  40.0  3000.0     Delhi   India\n",
            "4        TCS  23.0  4000.0    Mumbai   India\n",
            "..       ...   ...     ...       ...     ...\n",
            "144  Infosys  22.0  8787.0  Calcutta   India\n",
            "145  Infosys  44.0  4034.0     Delhi   India\n",
            "146      TCS  33.0  5034.0    Mumbai   India\n",
            "147  Infosys  22.0  8202.0    Cochin   India\n",
            "148      NaN   NaN     NaN       NaN     NaN\n",
            "\n",
            "[149 rows x 5 columns]\n"
          ]
        }
      ],
      "source": [
        "import pandas as pd\n",
        "import io\n",
        "url = 'https://raw.githubusercontent.com/balaji2v/Inceptez_Batch19/main/company.csv'\n",
        "df = pd.read_csv(url)\n",
        "print(df)"
      ]
    },
    {
      "cell_type": "code",
      "source": [
        "df.shape"
      ],
      "metadata": {
        "colab": {
          "base_uri": "https://localhost:8080/"
        },
        "id": "Y7z0ZSRsisKm",
        "outputId": "6bb27c51-fec0-475a-c03f-249f61e8a029"
      },
      "execution_count": null,
      "outputs": [
        {
          "output_type": "execute_result",
          "data": {
            "text/plain": [
              "(149, 5)"
            ]
          },
          "metadata": {},
          "execution_count": 7
        }
      ]
    },
    {
      "cell_type": "code",
      "source": [
        "df.columns.values.tolist()"
      ],
      "metadata": {
        "colab": {
          "base_uri": "https://localhost:8080/"
        },
        "id": "rqlYMpvAjG0F",
        "outputId": "62ad9a75-b5b3-41a8-d778-baa1966920e0"
      },
      "execution_count": null,
      "outputs": [
        {
          "output_type": "execute_result",
          "data": {
            "text/plain": [
              "['Company', 'Age', 'Salary', 'Place', 'Country']"
            ]
          },
          "metadata": {},
          "execution_count": 8
        }
      ]
    },
    {
      "cell_type": "code",
      "source": [
        "Top = df.head(10)\n",
        "print(Top)"
      ],
      "metadata": {
        "colab": {
          "base_uri": "https://localhost:8080/"
        },
        "id": "CUSBPteAjSiM",
        "outputId": "213148c2-2c2e-41ae-c743-34f4d4078e0a"
      },
      "execution_count": null,
      "outputs": [
        {
          "output_type": "stream",
          "name": "stdout",
          "text": [
            "   Company   Age  Salary     Place Country\n",
            "0      TCS  20.0     NaN   Chennai   India\n",
            "1  Infosys  30.0     NaN    Mumbai   India\n",
            "2      TCS  35.0  2300.0  Calcutta   India\n",
            "3  Infosys  40.0  3000.0     Delhi   India\n",
            "4      TCS  23.0  4000.0    Mumbai   India\n",
            "5  Infosys   NaN  5000.0  Calcutta   India\n",
            "6      TCS   NaN  6000.0   Chennai   India\n",
            "7  Infosys  23.0  7000.0    Mumbai   India\n",
            "8      TCS  34.0  8000.0  Calcutta   India\n",
            "9      CTS  45.0  9000.0     Delhi   India\n"
          ]
        }
      ]
    },
    {
      "cell_type": "code",
      "source": [
        "Tail = df.tail(15)\n",
        "print(Tail)"
      ],
      "metadata": {
        "colab": {
          "base_uri": "https://localhost:8080/"
        },
        "id": "HCy9IfJ8jnrp",
        "outputId": "34e4c3dd-7b5f-4378-e8df-813e90f29560"
      },
      "execution_count": null,
      "outputs": [
        {
          "output_type": "stream",
          "name": "stdout",
          "text": [
            "                       Company   Age  Salary      Place Country\n",
            "134  Tata Consultancy Services  31.0  8345.0     Mumbai   India\n",
            "135                        CTS  40.0  9284.0   Calcutta   India\n",
            "136                        NaN   NaN     NaN      Delhi   India\n",
            "137                        CTS  31.0  2034.0     Mumbai   India\n",
            "138                        CTS  44.0  3033.0     Cochin   India\n",
            "139                 Congnizant  22.0  2934.0      Noida   India\n",
            "140                    Infosys  44.0  4034.0  Hyderabad   India\n",
            "141                        TCS  33.0  5034.0   Calcutta   India\n",
            "142            Infosys Pvt Lmt  22.0  8202.0     Mumbai   India\n",
            "143                        TCS  33.0  9024.0   Calcutta   India\n",
            "144                    Infosys  22.0  8787.0   Calcutta   India\n",
            "145                    Infosys  44.0  4034.0      Delhi   India\n",
            "146                        TCS  33.0  5034.0     Mumbai   India\n",
            "147                    Infosys  22.0  8202.0     Cochin   India\n",
            "148                        NaN   NaN     NaN        NaN     NaN\n"
          ]
        }
      ]
    },
    {
      "cell_type": "code",
      "source": [
        "Rows = len(df.index)\n",
        "print(\"\" + str(Rows))"
      ],
      "metadata": {
        "colab": {
          "base_uri": "https://localhost:8080/"
        },
        "id": "jGpZjSOckSVt",
        "outputId": "dc3dedc1-27df-4da9-cb37-d08a42c46920"
      },
      "execution_count": null,
      "outputs": [
        {
          "output_type": "stream",
          "name": "stdout",
          "text": [
            "149\n"
          ]
        }
      ]
    },
    {
      "cell_type": "code",
      "source": [
        "R = df[df.columns[0]].count()\n",
        "print(R)\n",
        " # non naN count"
      ],
      "metadata": {
        "colab": {
          "base_uri": "https://localhost:8080/"
        },
        "id": "E6Q5oMCEkvgC",
        "outputId": "f51e10ea-63b3-4fd9-994b-334dc3a7db5d"
      },
      "execution_count": null,
      "outputs": [
        {
          "output_type": "stream",
          "name": "stdout",
          "text": [
            "140\n"
          ]
        }
      ]
    },
    {
      "cell_type": "code",
      "source": [
        "df.info()"
      ],
      "metadata": {
        "colab": {
          "base_uri": "https://localhost:8080/"
        },
        "id": "n8veoyVblMCG",
        "outputId": "37db607b-4665-4c1a-bac6-2ed1d20014c2"
      },
      "execution_count": null,
      "outputs": [
        {
          "output_type": "stream",
          "name": "stdout",
          "text": [
            "<class 'pandas.core.frame.DataFrame'>\n",
            "RangeIndex: 149 entries, 0 to 148\n",
            "Data columns (total 5 columns):\n",
            " #   Column   Non-Null Count  Dtype  \n",
            "---  ------   --------------  -----  \n",
            " 0   Company  140 non-null    object \n",
            " 1   Age      130 non-null    float64\n",
            " 2   Salary   124 non-null    float64\n",
            " 3   Place    134 non-null    object \n",
            " 4   Country  148 non-null    object \n",
            "dtypes: float64(2), object(3)\n",
            "memory usage: 5.9+ KB\n"
          ]
        }
      ]
    },
    {
      "cell_type": "code",
      "source": [
        "S =df[\"Salary\"].mean()\n",
        "A =df[\"Age\"].mean()\n",
        "print(S)\n",
        "print(A)"
      ],
      "metadata": {
        "colab": {
          "base_uri": "https://localhost:8080/"
        },
        "id": "3uqJlasJloki",
        "outputId": "96c3002a-d00d-41cd-d646-abe25fef4c51"
      },
      "execution_count": null,
      "outputs": [
        {
          "output_type": "stream",
          "name": "stdout",
          "text": [
            "5312.467741935484\n",
            "30.484615384615385\n"
          ]
        }
      ]
    },
    {
      "cell_type": "code",
      "source": [
        "Med = df[[\"Age\",\"Salary\"]].median()\n",
        "print(Med)"
      ],
      "metadata": {
        "colab": {
          "base_uri": "https://localhost:8080/"
        },
        "id": "WpVSlG6Sm20s",
        "outputId": "6160c517-8c7c-4f4b-fb04-2f07d8080ff7"
      },
      "execution_count": null,
      "outputs": [
        {
          "output_type": "stream",
          "name": "stdout",
          "text": [
            "Age         32.5\n",
            "Salary    5000.0\n",
            "dtype: float64\n"
          ]
        }
      ]
    },
    {
      "cell_type": "code",
      "source": [
        "Desc = df[[\"Age\",\"Salary\"]].describe()\n",
        "print(Desc)"
      ],
      "metadata": {
        "colab": {
          "base_uri": "https://localhost:8080/"
        },
        "id": "2TDQ2S6tnsDL",
        "outputId": "b29aba88-3e9c-40b9-fa21-5fb221983614"
      },
      "execution_count": null,
      "outputs": [
        {
          "output_type": "stream",
          "name": "stdout",
          "text": [
            "              Age       Salary\n",
            "count  130.000000   124.000000\n",
            "mean    30.484615  5312.467742\n",
            "std     11.096640  2573.764683\n",
            "min      0.000000  1089.000000\n",
            "25%     22.000000  3030.000000\n",
            "50%     32.500000  5000.000000\n",
            "75%     37.750000  8000.000000\n",
            "max     54.000000  9876.000000\n"
          ]
        }
      ]
    },
    {
      "cell_type": "code",
      "source": [
        "BasStat = df.agg(\n",
        "    {\n",
        "        \"Age\": [\"min\", \"max\", \"median\", \"skew\"],\n",
        "        \"Salary\": [\"min\", \"max\", \"median\", \"mean\"],\n",
        "    }\n",
        ")#BasicStats\n",
        "print(BasStat)"
      ],
      "metadata": {
        "colab": {
          "base_uri": "https://localhost:8080/"
        },
        "id": "YvHtLeApoJHR",
        "outputId": "4ea9db29-5e1d-46e2-f28f-54a1d8d0c09a"
      },
      "execution_count": null,
      "outputs": [
        {
          "output_type": "stream",
          "name": "stdout",
          "text": [
            "              Age       Salary\n",
            "min      0.000000  1089.000000\n",
            "max     54.000000  9876.000000\n",
            "median  32.500000  5000.000000\n",
            "skew    -0.583808          NaN\n",
            "mean          NaN  5312.467742\n"
          ]
        }
      ]
    },
    {
      "cell_type": "code",
      "source": [
        "#specific from and to rows #doubt(80 rows and 81 rows)\n",
        "SR = df.iloc[20:100,:2]\n",
        "print(SR)"
      ],
      "metadata": {
        "colab": {
          "base_uri": "https://localhost:8080/"
        },
        "id": "Ju40BKkaqHXr",
        "outputId": "a11a10a9-46a4-4b2a-9149-b8a9480ad4a6"
      },
      "execution_count": null,
      "outputs": [
        {
          "output_type": "stream",
          "name": "stdout",
          "text": [
            "    Company   Age\n",
            "20      TCS  37.0\n",
            "21  Infosys  50.0\n",
            "22      TCS  21.0\n",
            "23  Infosys   NaN\n",
            "24      TCS   NaN\n",
            "..      ...   ...\n",
            "95  Infosys   NaN\n",
            "96      TCS   NaN\n",
            "97  Infosys  22.0\n",
            "98      TCS  33.0\n",
            "99      CTS  44.0\n",
            "\n",
            "[80 rows x 2 columns]\n"
          ]
        }
      ]
    },
    {
      "cell_type": "code",
      "source": [
        "#using loc\n",
        "SR1 = df.loc[20:100,['Company','Age']]\n",
        "print(SR1)"
      ],
      "metadata": {
        "colab": {
          "base_uri": "https://localhost:8080/"
        },
        "id": "qUdXW1AXtn0R",
        "outputId": "66fe7ef2-5274-4f4d-dbc5-e604e20ab074"
      },
      "execution_count": null,
      "outputs": [
        {
          "output_type": "stream",
          "name": "stdout",
          "text": [
            "     Company   Age\n",
            "20       TCS  37.0\n",
            "21   Infosys  50.0\n",
            "22       TCS  21.0\n",
            "23   Infosys   NaN\n",
            "24       TCS   NaN\n",
            "..       ...   ...\n",
            "96       TCS   NaN\n",
            "97   Infosys  22.0\n",
            "98       TCS  33.0\n",
            "99       CTS  44.0\n",
            "100      CTS  22.0\n",
            "\n",
            "[81 rows x 2 columns]\n"
          ]
        }
      ]
    },
    {
      "cell_type": "code",
      "source": [
        "#ChangeValue\n",
        "ChgVal = df.at[100,'Place']='Noida'\n",
        "print(df.iloc[100])\n",
        "print(ChgVal)\n"
      ],
      "metadata": {
        "colab": {
          "base_uri": "https://localhost:8080/"
        },
        "id": "UPYBiyN-vQS4",
        "outputId": "e7921473-ca00-486f-8735-cd75ab0c8409"
      },
      "execution_count": null,
      "outputs": [
        {
          "output_type": "stream",
          "name": "stdout",
          "text": [
            "Company      CTS\n",
            "Age         22.0\n",
            "Salary       NaN\n",
            "Place      Noida\n",
            "Country    India\n",
            "Name: 100, dtype: object\n",
            "Noida\n"
          ]
        }
      ]
    },
    {
      "cell_type": "code",
      "source": [
        "#Renaming\n",
        "df.rename(columns = {'Place':'City'}, inplace = True)"
      ],
      "metadata": {
        "id": "bMon_-ANyYpe"
      },
      "execution_count": null,
      "outputs": []
    },
    {
      "cell_type": "code",
      "source": [
        "#unique value\n",
        "U = df.nunique(axis=0)\n",
        "print(U)\n",
        "#n = len(pd.unique(df['height']))"
      ],
      "metadata": {
        "colab": {
          "base_uri": "https://localhost:8080/"
        },
        "id": "kz5tBSzAry9p",
        "outputId": "4e67e35f-d930-4bcf-8fbf-21d18325584b"
      },
      "execution_count": null,
      "outputs": [
        {
          "output_type": "stream",
          "name": "stdout",
          "text": [
            "Company     6\n",
            "Age        29\n",
            "Salary     40\n",
            "City       11\n",
            "Country     1\n",
            "dtype: int64\n"
          ]
        }
      ]
    },
    {
      "cell_type": "code",
      "source": [
        "print(df['Company'])"
      ],
      "metadata": {
        "colab": {
          "base_uri": "https://localhost:8080/"
        },
        "id": "QouS3VhB4L7g",
        "outputId": "f49e78aa-2f94-4d86-8bd1-a35b052f3ce8"
      },
      "execution_count": null,
      "outputs": [
        {
          "output_type": "stream",
          "name": "stdout",
          "text": [
            "0          TCS\n",
            "1      Infosys\n",
            "2          TCS\n",
            "3      Infosys\n",
            "4          TCS\n",
            "        ...   \n",
            "144    Infosys\n",
            "145    Infosys\n",
            "146        TCS\n",
            "147    Infosys\n",
            "148        NaN\n",
            "Name: Company, Length: 149, dtype: object\n"
          ]
        }
      ]
    },
    {
      "cell_type": "code",
      "source": [
        "#Replacing #doubt\n",
        "Rep = df.loc[(df.Company.isin (['Infosys','CTS','TCS']))] = 'Google'\n",
        "print(Rep)\n",
        "print(df['Company'])\n"
      ],
      "metadata": {
        "colab": {
          "base_uri": "https://localhost:8080/"
        },
        "id": "fgyXcDLY9B9_",
        "outputId": "e77081be-1925-499d-b6cc-18439649b573"
      },
      "execution_count": null,
      "outputs": [
        {
          "output_type": "stream",
          "name": "stdout",
          "text": [
            "Google\n",
            "0      Google\n",
            "1      Google\n",
            "2      Google\n",
            "3      Google\n",
            "4      Google\n",
            "        ...  \n",
            "144    Google\n",
            "145    Google\n",
            "146    Google\n",
            "147    Google\n",
            "148       NaN\n",
            "Name: Company, Length: 149, dtype: object\n"
          ]
        }
      ]
    },
    {
      "cell_type": "code",
      "source": [
        "print(df.duplicated())"
      ],
      "metadata": {
        "colab": {
          "base_uri": "https://localhost:8080/"
        },
        "id": "WfVBtJwp9ceS",
        "outputId": "cc828221-e3af-4f81-9ead-5a8cbfb2d179"
      },
      "execution_count": null,
      "outputs": [
        {
          "output_type": "stream",
          "name": "stdout",
          "text": [
            "0      False\n",
            "1      False\n",
            "2      False\n",
            "3      False\n",
            "4      False\n",
            "       ...  \n",
            "144     True\n",
            "145     True\n",
            "146     True\n",
            "147     True\n",
            "148    False\n",
            "Length: 149, dtype: bool\n"
          ]
        }
      ]
    },
    {
      "cell_type": "code",
      "source": [
        "df.drop_duplicates(keep=False)"
      ],
      "metadata": {
        "colab": {
          "base_uri": "https://localhost:8080/",
          "height": 424
        },
        "id": "9usK4eZ_9QSm",
        "outputId": "d8470466-bb61-4c7e-e15f-10b96ef4dd26"
      },
      "execution_count": null,
      "outputs": [
        {
          "output_type": "execute_result",
          "data": {
            "text/plain": [
              "             Company   Age  Salary      Place Country\n",
              "0                TCS  20.0     NaN    Chennai   India\n",
              "1            Infosys  30.0     NaN     Mumbai   India\n",
              "2                TCS  35.0  2300.0   Calcutta   India\n",
              "3            Infosys  40.0  3000.0      Delhi   India\n",
              "4                TCS  23.0  4000.0     Mumbai   India\n",
              "..               ...   ...     ...        ...     ...\n",
              "140          Infosys  44.0  4034.0  Hyderabad   India\n",
              "141              TCS  33.0  5034.0   Calcutta   India\n",
              "142  Infosys Pvt Lmt  22.0  8202.0     Mumbai   India\n",
              "143              TCS  33.0  9024.0   Calcutta   India\n",
              "148              NaN   NaN     NaN        NaN     NaN\n",
              "\n",
              "[134 rows x 5 columns]"
            ],
            "text/html": [
              "\n",
              "  <div id=\"df-296e6b6d-6fbe-4d30-9384-8e341cdb6eb3\">\n",
              "    <div class=\"colab-df-container\">\n",
              "      <div>\n",
              "<style scoped>\n",
              "    .dataframe tbody tr th:only-of-type {\n",
              "        vertical-align: middle;\n",
              "    }\n",
              "\n",
              "    .dataframe tbody tr th {\n",
              "        vertical-align: top;\n",
              "    }\n",
              "\n",
              "    .dataframe thead th {\n",
              "        text-align: right;\n",
              "    }\n",
              "</style>\n",
              "<table border=\"1\" class=\"dataframe\">\n",
              "  <thead>\n",
              "    <tr style=\"text-align: right;\">\n",
              "      <th></th>\n",
              "      <th>Company</th>\n",
              "      <th>Age</th>\n",
              "      <th>Salary</th>\n",
              "      <th>Place</th>\n",
              "      <th>Country</th>\n",
              "    </tr>\n",
              "  </thead>\n",
              "  <tbody>\n",
              "    <tr>\n",
              "      <th>0</th>\n",
              "      <td>TCS</td>\n",
              "      <td>20.0</td>\n",
              "      <td>NaN</td>\n",
              "      <td>Chennai</td>\n",
              "      <td>India</td>\n",
              "    </tr>\n",
              "    <tr>\n",
              "      <th>1</th>\n",
              "      <td>Infosys</td>\n",
              "      <td>30.0</td>\n",
              "      <td>NaN</td>\n",
              "      <td>Mumbai</td>\n",
              "      <td>India</td>\n",
              "    </tr>\n",
              "    <tr>\n",
              "      <th>2</th>\n",
              "      <td>TCS</td>\n",
              "      <td>35.0</td>\n",
              "      <td>2300.0</td>\n",
              "      <td>Calcutta</td>\n",
              "      <td>India</td>\n",
              "    </tr>\n",
              "    <tr>\n",
              "      <th>3</th>\n",
              "      <td>Infosys</td>\n",
              "      <td>40.0</td>\n",
              "      <td>3000.0</td>\n",
              "      <td>Delhi</td>\n",
              "      <td>India</td>\n",
              "    </tr>\n",
              "    <tr>\n",
              "      <th>4</th>\n",
              "      <td>TCS</td>\n",
              "      <td>23.0</td>\n",
              "      <td>4000.0</td>\n",
              "      <td>Mumbai</td>\n",
              "      <td>India</td>\n",
              "    </tr>\n",
              "    <tr>\n",
              "      <th>...</th>\n",
              "      <td>...</td>\n",
              "      <td>...</td>\n",
              "      <td>...</td>\n",
              "      <td>...</td>\n",
              "      <td>...</td>\n",
              "    </tr>\n",
              "    <tr>\n",
              "      <th>140</th>\n",
              "      <td>Infosys</td>\n",
              "      <td>44.0</td>\n",
              "      <td>4034.0</td>\n",
              "      <td>Hyderabad</td>\n",
              "      <td>India</td>\n",
              "    </tr>\n",
              "    <tr>\n",
              "      <th>141</th>\n",
              "      <td>TCS</td>\n",
              "      <td>33.0</td>\n",
              "      <td>5034.0</td>\n",
              "      <td>Calcutta</td>\n",
              "      <td>India</td>\n",
              "    </tr>\n",
              "    <tr>\n",
              "      <th>142</th>\n",
              "      <td>Infosys Pvt Lmt</td>\n",
              "      <td>22.0</td>\n",
              "      <td>8202.0</td>\n",
              "      <td>Mumbai</td>\n",
              "      <td>India</td>\n",
              "    </tr>\n",
              "    <tr>\n",
              "      <th>143</th>\n",
              "      <td>TCS</td>\n",
              "      <td>33.0</td>\n",
              "      <td>9024.0</td>\n",
              "      <td>Calcutta</td>\n",
              "      <td>India</td>\n",
              "    </tr>\n",
              "    <tr>\n",
              "      <th>148</th>\n",
              "      <td>NaN</td>\n",
              "      <td>NaN</td>\n",
              "      <td>NaN</td>\n",
              "      <td>NaN</td>\n",
              "      <td>NaN</td>\n",
              "    </tr>\n",
              "  </tbody>\n",
              "</table>\n",
              "<p>134 rows × 5 columns</p>\n",
              "</div>\n",
              "      <button class=\"colab-df-convert\" onclick=\"convertToInteractive('df-296e6b6d-6fbe-4d30-9384-8e341cdb6eb3')\"\n",
              "              title=\"Convert this dataframe to an interactive table.\"\n",
              "              style=\"display:none;\">\n",
              "        \n",
              "  <svg xmlns=\"http://www.w3.org/2000/svg\" height=\"24px\"viewBox=\"0 0 24 24\"\n",
              "       width=\"24px\">\n",
              "    <path d=\"M0 0h24v24H0V0z\" fill=\"none\"/>\n",
              "    <path d=\"M18.56 5.44l.94 2.06.94-2.06 2.06-.94-2.06-.94-.94-2.06-.94 2.06-2.06.94zm-11 1L8.5 8.5l.94-2.06 2.06-.94-2.06-.94L8.5 2.5l-.94 2.06-2.06.94zm10 10l.94 2.06.94-2.06 2.06-.94-2.06-.94-.94-2.06-.94 2.06-2.06.94z\"/><path d=\"M17.41 7.96l-1.37-1.37c-.4-.4-.92-.59-1.43-.59-.52 0-1.04.2-1.43.59L10.3 9.45l-7.72 7.72c-.78.78-.78 2.05 0 2.83L4 21.41c.39.39.9.59 1.41.59.51 0 1.02-.2 1.41-.59l7.78-7.78 2.81-2.81c.8-.78.8-2.07 0-2.86zM5.41 20L4 18.59l7.72-7.72 1.47 1.35L5.41 20z\"/>\n",
              "  </svg>\n",
              "      </button>\n",
              "      \n",
              "  <style>\n",
              "    .colab-df-container {\n",
              "      display:flex;\n",
              "      flex-wrap:wrap;\n",
              "      gap: 12px;\n",
              "    }\n",
              "\n",
              "    .colab-df-convert {\n",
              "      background-color: #E8F0FE;\n",
              "      border: none;\n",
              "      border-radius: 50%;\n",
              "      cursor: pointer;\n",
              "      display: none;\n",
              "      fill: #1967D2;\n",
              "      height: 32px;\n",
              "      padding: 0 0 0 0;\n",
              "      width: 32px;\n",
              "    }\n",
              "\n",
              "    .colab-df-convert:hover {\n",
              "      background-color: #E2EBFA;\n",
              "      box-shadow: 0px 1px 2px rgba(60, 64, 67, 0.3), 0px 1px 3px 1px rgba(60, 64, 67, 0.15);\n",
              "      fill: #174EA6;\n",
              "    }\n",
              "\n",
              "    [theme=dark] .colab-df-convert {\n",
              "      background-color: #3B4455;\n",
              "      fill: #D2E3FC;\n",
              "    }\n",
              "\n",
              "    [theme=dark] .colab-df-convert:hover {\n",
              "      background-color: #434B5C;\n",
              "      box-shadow: 0px 1px 3px 1px rgba(0, 0, 0, 0.15);\n",
              "      filter: drop-shadow(0px 1px 2px rgba(0, 0, 0, 0.3));\n",
              "      fill: #FFFFFF;\n",
              "    }\n",
              "  </style>\n",
              "\n",
              "      <script>\n",
              "        const buttonEl =\n",
              "          document.querySelector('#df-296e6b6d-6fbe-4d30-9384-8e341cdb6eb3 button.colab-df-convert');\n",
              "        buttonEl.style.display =\n",
              "          google.colab.kernel.accessAllowed ? 'block' : 'none';\n",
              "\n",
              "        async function convertToInteractive(key) {\n",
              "          const element = document.querySelector('#df-296e6b6d-6fbe-4d30-9384-8e341cdb6eb3');\n",
              "          const dataTable =\n",
              "            await google.colab.kernel.invokeFunction('convertToInteractive',\n",
              "                                                     [key], {});\n",
              "          if (!dataTable) return;\n",
              "\n",
              "          const docLinkHtml = 'Like what you see? Visit the ' +\n",
              "            '<a target=\"_blank\" href=https://colab.research.google.com/notebooks/data_table.ipynb>data table notebook</a>'\n",
              "            + ' to learn more about interactive tables.';\n",
              "          element.innerHTML = '';\n",
              "          dataTable['output_type'] = 'display_data';\n",
              "          await google.colab.output.renderOutput(dataTable, element);\n",
              "          const docLink = document.createElement('div');\n",
              "          docLink.innerHTML = docLinkHtml;\n",
              "          element.appendChild(docLink);\n",
              "        }\n",
              "      </script>\n",
              "    </div>\n",
              "  </div>\n",
              "  "
            ]
          },
          "metadata": {},
          "execution_count": 50
        }
      ]
    },
    {
      "cell_type": "code",
      "source": [
        "del df['Country']"
      ],
      "metadata": {
        "id": "4FxO7mmv_LLi"
      },
      "execution_count": null,
      "outputs": []
    },
    {
      "cell_type": "code",
      "source": [
        "print(df)"
      ],
      "metadata": {
        "colab": {
          "base_uri": "https://localhost:8080/"
        },
        "id": "Xqyd25tk_1im",
        "outputId": "5ec7ed33-1048-41ef-f692-cfc6faddba98"
      },
      "execution_count": null,
      "outputs": [
        {
          "output_type": "stream",
          "name": "stdout",
          "text": [
            "     Company   Age  Salary     Place\n",
            "0        TCS  20.0     NaN   Chennai\n",
            "1    Infosys  30.0     NaN    Mumbai\n",
            "2        TCS  35.0  2300.0  Calcutta\n",
            "3    Infosys  40.0  3000.0     Delhi\n",
            "4        TCS  23.0  4000.0    Mumbai\n",
            "..       ...   ...     ...       ...\n",
            "144  Infosys  22.0  8787.0  Calcutta\n",
            "145  Infosys  44.0  4034.0     Delhi\n",
            "146      TCS  33.0  5034.0    Mumbai\n",
            "147  Infosys  22.0  8202.0    Cochin\n",
            "148      NaN   NaN     NaN       NaN\n",
            "\n",
            "[149 rows x 4 columns]\n"
          ]
        }
      ]
    },
    {
      "cell_type": "code",
      "source": [
        "df.drop(137)"
      ],
      "metadata": {
        "colab": {
          "base_uri": "https://localhost:8080/",
          "height": 424
        },
        "id": "pW_OuYFt_5BU",
        "outputId": "00ce501e-cb2c-4979-8cca-806baf165496"
      },
      "execution_count": null,
      "outputs": [
        {
          "output_type": "execute_result",
          "data": {
            "text/plain": [
              "     Company   Age  Salary     Place\n",
              "0        TCS  20.0     NaN   Chennai\n",
              "1    Infosys  30.0     NaN    Mumbai\n",
              "2        TCS  35.0  2300.0  Calcutta\n",
              "3    Infosys  40.0  3000.0     Delhi\n",
              "4        TCS  23.0  4000.0    Mumbai\n",
              "..       ...   ...     ...       ...\n",
              "144  Infosys  22.0  8787.0  Calcutta\n",
              "145  Infosys  44.0  4034.0     Delhi\n",
              "146      TCS  33.0  5034.0    Mumbai\n",
              "147  Infosys  22.0  8202.0    Cochin\n",
              "148      NaN   NaN     NaN       NaN\n",
              "\n",
              "[148 rows x 4 columns]"
            ],
            "text/html": [
              "\n",
              "  <div id=\"df-4b261277-a17a-4e83-bcce-a742bb45d7e9\">\n",
              "    <div class=\"colab-df-container\">\n",
              "      <div>\n",
              "<style scoped>\n",
              "    .dataframe tbody tr th:only-of-type {\n",
              "        vertical-align: middle;\n",
              "    }\n",
              "\n",
              "    .dataframe tbody tr th {\n",
              "        vertical-align: top;\n",
              "    }\n",
              "\n",
              "    .dataframe thead th {\n",
              "        text-align: right;\n",
              "    }\n",
              "</style>\n",
              "<table border=\"1\" class=\"dataframe\">\n",
              "  <thead>\n",
              "    <tr style=\"text-align: right;\">\n",
              "      <th></th>\n",
              "      <th>Company</th>\n",
              "      <th>Age</th>\n",
              "      <th>Salary</th>\n",
              "      <th>Place</th>\n",
              "    </tr>\n",
              "  </thead>\n",
              "  <tbody>\n",
              "    <tr>\n",
              "      <th>0</th>\n",
              "      <td>TCS</td>\n",
              "      <td>20.0</td>\n",
              "      <td>NaN</td>\n",
              "      <td>Chennai</td>\n",
              "    </tr>\n",
              "    <tr>\n",
              "      <th>1</th>\n",
              "      <td>Infosys</td>\n",
              "      <td>30.0</td>\n",
              "      <td>NaN</td>\n",
              "      <td>Mumbai</td>\n",
              "    </tr>\n",
              "    <tr>\n",
              "      <th>2</th>\n",
              "      <td>TCS</td>\n",
              "      <td>35.0</td>\n",
              "      <td>2300.0</td>\n",
              "      <td>Calcutta</td>\n",
              "    </tr>\n",
              "    <tr>\n",
              "      <th>3</th>\n",
              "      <td>Infosys</td>\n",
              "      <td>40.0</td>\n",
              "      <td>3000.0</td>\n",
              "      <td>Delhi</td>\n",
              "    </tr>\n",
              "    <tr>\n",
              "      <th>4</th>\n",
              "      <td>TCS</td>\n",
              "      <td>23.0</td>\n",
              "      <td>4000.0</td>\n",
              "      <td>Mumbai</td>\n",
              "    </tr>\n",
              "    <tr>\n",
              "      <th>...</th>\n",
              "      <td>...</td>\n",
              "      <td>...</td>\n",
              "      <td>...</td>\n",
              "      <td>...</td>\n",
              "    </tr>\n",
              "    <tr>\n",
              "      <th>144</th>\n",
              "      <td>Infosys</td>\n",
              "      <td>22.0</td>\n",
              "      <td>8787.0</td>\n",
              "      <td>Calcutta</td>\n",
              "    </tr>\n",
              "    <tr>\n",
              "      <th>145</th>\n",
              "      <td>Infosys</td>\n",
              "      <td>44.0</td>\n",
              "      <td>4034.0</td>\n",
              "      <td>Delhi</td>\n",
              "    </tr>\n",
              "    <tr>\n",
              "      <th>146</th>\n",
              "      <td>TCS</td>\n",
              "      <td>33.0</td>\n",
              "      <td>5034.0</td>\n",
              "      <td>Mumbai</td>\n",
              "    </tr>\n",
              "    <tr>\n",
              "      <th>147</th>\n",
              "      <td>Infosys</td>\n",
              "      <td>22.0</td>\n",
              "      <td>8202.0</td>\n",
              "      <td>Cochin</td>\n",
              "    </tr>\n",
              "    <tr>\n",
              "      <th>148</th>\n",
              "      <td>NaN</td>\n",
              "      <td>NaN</td>\n",
              "      <td>NaN</td>\n",
              "      <td>NaN</td>\n",
              "    </tr>\n",
              "  </tbody>\n",
              "</table>\n",
              "<p>148 rows × 4 columns</p>\n",
              "</div>\n",
              "      <button class=\"colab-df-convert\" onclick=\"convertToInteractive('df-4b261277-a17a-4e83-bcce-a742bb45d7e9')\"\n",
              "              title=\"Convert this dataframe to an interactive table.\"\n",
              "              style=\"display:none;\">\n",
              "        \n",
              "  <svg xmlns=\"http://www.w3.org/2000/svg\" height=\"24px\"viewBox=\"0 0 24 24\"\n",
              "       width=\"24px\">\n",
              "    <path d=\"M0 0h24v24H0V0z\" fill=\"none\"/>\n",
              "    <path d=\"M18.56 5.44l.94 2.06.94-2.06 2.06-.94-2.06-.94-.94-2.06-.94 2.06-2.06.94zm-11 1L8.5 8.5l.94-2.06 2.06-.94-2.06-.94L8.5 2.5l-.94 2.06-2.06.94zm10 10l.94 2.06.94-2.06 2.06-.94-2.06-.94-.94-2.06-.94 2.06-2.06.94z\"/><path d=\"M17.41 7.96l-1.37-1.37c-.4-.4-.92-.59-1.43-.59-.52 0-1.04.2-1.43.59L10.3 9.45l-7.72 7.72c-.78.78-.78 2.05 0 2.83L4 21.41c.39.39.9.59 1.41.59.51 0 1.02-.2 1.41-.59l7.78-7.78 2.81-2.81c.8-.78.8-2.07 0-2.86zM5.41 20L4 18.59l7.72-7.72 1.47 1.35L5.41 20z\"/>\n",
              "  </svg>\n",
              "      </button>\n",
              "      \n",
              "  <style>\n",
              "    .colab-df-container {\n",
              "      display:flex;\n",
              "      flex-wrap:wrap;\n",
              "      gap: 12px;\n",
              "    }\n",
              "\n",
              "    .colab-df-convert {\n",
              "      background-color: #E8F0FE;\n",
              "      border: none;\n",
              "      border-radius: 50%;\n",
              "      cursor: pointer;\n",
              "      display: none;\n",
              "      fill: #1967D2;\n",
              "      height: 32px;\n",
              "      padding: 0 0 0 0;\n",
              "      width: 32px;\n",
              "    }\n",
              "\n",
              "    .colab-df-convert:hover {\n",
              "      background-color: #E2EBFA;\n",
              "      box-shadow: 0px 1px 2px rgba(60, 64, 67, 0.3), 0px 1px 3px 1px rgba(60, 64, 67, 0.15);\n",
              "      fill: #174EA6;\n",
              "    }\n",
              "\n",
              "    [theme=dark] .colab-df-convert {\n",
              "      background-color: #3B4455;\n",
              "      fill: #D2E3FC;\n",
              "    }\n",
              "\n",
              "    [theme=dark] .colab-df-convert:hover {\n",
              "      background-color: #434B5C;\n",
              "      box-shadow: 0px 1px 3px 1px rgba(0, 0, 0, 0.15);\n",
              "      filter: drop-shadow(0px 1px 2px rgba(0, 0, 0, 0.3));\n",
              "      fill: #FFFFFF;\n",
              "    }\n",
              "  </style>\n",
              "\n",
              "      <script>\n",
              "        const buttonEl =\n",
              "          document.querySelector('#df-4b261277-a17a-4e83-bcce-a742bb45d7e9 button.colab-df-convert');\n",
              "        buttonEl.style.display =\n",
              "          google.colab.kernel.accessAllowed ? 'block' : 'none';\n",
              "\n",
              "        async function convertToInteractive(key) {\n",
              "          const element = document.querySelector('#df-4b261277-a17a-4e83-bcce-a742bb45d7e9');\n",
              "          const dataTable =\n",
              "            await google.colab.kernel.invokeFunction('convertToInteractive',\n",
              "                                                     [key], {});\n",
              "          if (!dataTable) return;\n",
              "\n",
              "          const docLinkHtml = 'Like what you see? Visit the ' +\n",
              "            '<a target=\"_blank\" href=https://colab.research.google.com/notebooks/data_table.ipynb>data table notebook</a>'\n",
              "            + ' to learn more about interactive tables.';\n",
              "          element.innerHTML = '';\n",
              "          dataTable['output_type'] = 'display_data';\n",
              "          await google.colab.output.renderOutput(dataTable, element);\n",
              "          const docLink = document.createElement('div');\n",
              "          docLink.innerHTML = docLinkHtml;\n",
              "          element.appendChild(docLink);\n",
              "        }\n",
              "      </script>\n",
              "    </div>\n",
              "  </div>\n",
              "  "
            ]
          },
          "metadata": {},
          "execution_count": 57
        }
      ]
    },
    {
      "cell_type": "code",
      "source": [
        "df.Company.unique()"
      ],
      "metadata": {
        "colab": {
          "base_uri": "https://localhost:8080/"
        },
        "id": "lTVcdFh9AmTn",
        "outputId": "a7e74974-79b3-41f5-9d33-0a929ea5b388"
      },
      "execution_count": null,
      "outputs": [
        {
          "output_type": "execute_result",
          "data": {
            "text/plain": [
              "array(['TCS', 'Infosys', 'CTS', nan, 'Tata Consultancy Services',\n",
              "       'Congnizant', 'Infosys Pvt Lmt'], dtype=object)"
            ]
          },
          "metadata": {},
          "execution_count": 58
        }
      ]
    },
    {
      "cell_type": "code",
      "source": [
        "df.City.unique()"
      ],
      "metadata": {
        "colab": {
          "base_uri": "https://localhost:8080/"
        },
        "id": "awJD3H_sA2s2",
        "outputId": "8fe2ce72-650f-4e9f-df00-48df5c03889b"
      },
      "execution_count": null,
      "outputs": [
        {
          "output_type": "execute_result",
          "data": {
            "text/plain": [
              "array(['Chennai', 'Mumbai', 'Calcutta', 'Delhi', 'Podicherry', 'Cochin',\n",
              "       nan, 'Noida', 'Hyderabad', 'Bhopal', 'Nagpur', 'Pune'],\n",
              "      dtype=object)"
            ]
          },
          "metadata": {},
          "execution_count": 62
        }
      ]
    },
    {
      "cell_type": "code",
      "source": [
        "df.isna().sum().sum()"
      ],
      "metadata": {
        "colab": {
          "base_uri": "https://localhost:8080/"
        },
        "id": "xCRd95YIBgJ2",
        "outputId": "abfde01b-70ee-4a99-8255-393e37c0e182"
      },
      "execution_count": null,
      "outputs": [
        {
          "output_type": "execute_result",
          "data": {
            "text/plain": [
              "68"
            ]
          },
          "metadata": {},
          "execution_count": 63
        }
      ]
    },
    {
      "cell_type": "code",
      "source": [
        "df.dropna(subset=['Salary'])"
      ],
      "metadata": {
        "colab": {
          "base_uri": "https://localhost:8080/",
          "height": 424
        },
        "id": "bpIMB-euB4SV",
        "outputId": "a0cbb3ea-0daa-42ad-a671-dae232049427"
      },
      "execution_count": null,
      "outputs": [
        {
          "output_type": "execute_result",
          "data": {
            "text/plain": [
              "     Company   Age  Salary      City\n",
              "2        TCS  35.0  2300.0  Calcutta\n",
              "3    Infosys  40.0  3000.0     Delhi\n",
              "4        TCS  23.0  4000.0    Mumbai\n",
              "5    Infosys   NaN  5000.0  Calcutta\n",
              "6        TCS   NaN  6000.0   Chennai\n",
              "..       ...   ...     ...       ...\n",
              "143      TCS  33.0  9024.0  Calcutta\n",
              "144  Infosys  22.0  8787.0  Calcutta\n",
              "145  Infosys  44.0  4034.0     Delhi\n",
              "146      TCS  33.0  5034.0    Mumbai\n",
              "147  Infosys  22.0  8202.0    Cochin\n",
              "\n",
              "[124 rows x 4 columns]"
            ],
            "text/html": [
              "\n",
              "  <div id=\"df-f30c2aef-590c-4e4e-a262-5478d1715513\">\n",
              "    <div class=\"colab-df-container\">\n",
              "      <div>\n",
              "<style scoped>\n",
              "    .dataframe tbody tr th:only-of-type {\n",
              "        vertical-align: middle;\n",
              "    }\n",
              "\n",
              "    .dataframe tbody tr th {\n",
              "        vertical-align: top;\n",
              "    }\n",
              "\n",
              "    .dataframe thead th {\n",
              "        text-align: right;\n",
              "    }\n",
              "</style>\n",
              "<table border=\"1\" class=\"dataframe\">\n",
              "  <thead>\n",
              "    <tr style=\"text-align: right;\">\n",
              "      <th></th>\n",
              "      <th>Company</th>\n",
              "      <th>Age</th>\n",
              "      <th>Salary</th>\n",
              "      <th>City</th>\n",
              "    </tr>\n",
              "  </thead>\n",
              "  <tbody>\n",
              "    <tr>\n",
              "      <th>2</th>\n",
              "      <td>TCS</td>\n",
              "      <td>35.0</td>\n",
              "      <td>2300.0</td>\n",
              "      <td>Calcutta</td>\n",
              "    </tr>\n",
              "    <tr>\n",
              "      <th>3</th>\n",
              "      <td>Infosys</td>\n",
              "      <td>40.0</td>\n",
              "      <td>3000.0</td>\n",
              "      <td>Delhi</td>\n",
              "    </tr>\n",
              "    <tr>\n",
              "      <th>4</th>\n",
              "      <td>TCS</td>\n",
              "      <td>23.0</td>\n",
              "      <td>4000.0</td>\n",
              "      <td>Mumbai</td>\n",
              "    </tr>\n",
              "    <tr>\n",
              "      <th>5</th>\n",
              "      <td>Infosys</td>\n",
              "      <td>NaN</td>\n",
              "      <td>5000.0</td>\n",
              "      <td>Calcutta</td>\n",
              "    </tr>\n",
              "    <tr>\n",
              "      <th>6</th>\n",
              "      <td>TCS</td>\n",
              "      <td>NaN</td>\n",
              "      <td>6000.0</td>\n",
              "      <td>Chennai</td>\n",
              "    </tr>\n",
              "    <tr>\n",
              "      <th>...</th>\n",
              "      <td>...</td>\n",
              "      <td>...</td>\n",
              "      <td>...</td>\n",
              "      <td>...</td>\n",
              "    </tr>\n",
              "    <tr>\n",
              "      <th>143</th>\n",
              "      <td>TCS</td>\n",
              "      <td>33.0</td>\n",
              "      <td>9024.0</td>\n",
              "      <td>Calcutta</td>\n",
              "    </tr>\n",
              "    <tr>\n",
              "      <th>144</th>\n",
              "      <td>Infosys</td>\n",
              "      <td>22.0</td>\n",
              "      <td>8787.0</td>\n",
              "      <td>Calcutta</td>\n",
              "    </tr>\n",
              "    <tr>\n",
              "      <th>145</th>\n",
              "      <td>Infosys</td>\n",
              "      <td>44.0</td>\n",
              "      <td>4034.0</td>\n",
              "      <td>Delhi</td>\n",
              "    </tr>\n",
              "    <tr>\n",
              "      <th>146</th>\n",
              "      <td>TCS</td>\n",
              "      <td>33.0</td>\n",
              "      <td>5034.0</td>\n",
              "      <td>Mumbai</td>\n",
              "    </tr>\n",
              "    <tr>\n",
              "      <th>147</th>\n",
              "      <td>Infosys</td>\n",
              "      <td>22.0</td>\n",
              "      <td>8202.0</td>\n",
              "      <td>Cochin</td>\n",
              "    </tr>\n",
              "  </tbody>\n",
              "</table>\n",
              "<p>124 rows × 4 columns</p>\n",
              "</div>\n",
              "      <button class=\"colab-df-convert\" onclick=\"convertToInteractive('df-f30c2aef-590c-4e4e-a262-5478d1715513')\"\n",
              "              title=\"Convert this dataframe to an interactive table.\"\n",
              "              style=\"display:none;\">\n",
              "        \n",
              "  <svg xmlns=\"http://www.w3.org/2000/svg\" height=\"24px\"viewBox=\"0 0 24 24\"\n",
              "       width=\"24px\">\n",
              "    <path d=\"M0 0h24v24H0V0z\" fill=\"none\"/>\n",
              "    <path d=\"M18.56 5.44l.94 2.06.94-2.06 2.06-.94-2.06-.94-.94-2.06-.94 2.06-2.06.94zm-11 1L8.5 8.5l.94-2.06 2.06-.94-2.06-.94L8.5 2.5l-.94 2.06-2.06.94zm10 10l.94 2.06.94-2.06 2.06-.94-2.06-.94-.94-2.06-.94 2.06-2.06.94z\"/><path d=\"M17.41 7.96l-1.37-1.37c-.4-.4-.92-.59-1.43-.59-.52 0-1.04.2-1.43.59L10.3 9.45l-7.72 7.72c-.78.78-.78 2.05 0 2.83L4 21.41c.39.39.9.59 1.41.59.51 0 1.02-.2 1.41-.59l7.78-7.78 2.81-2.81c.8-.78.8-2.07 0-2.86zM5.41 20L4 18.59l7.72-7.72 1.47 1.35L5.41 20z\"/>\n",
              "  </svg>\n",
              "      </button>\n",
              "      \n",
              "  <style>\n",
              "    .colab-df-container {\n",
              "      display:flex;\n",
              "      flex-wrap:wrap;\n",
              "      gap: 12px;\n",
              "    }\n",
              "\n",
              "    .colab-df-convert {\n",
              "      background-color: #E8F0FE;\n",
              "      border: none;\n",
              "      border-radius: 50%;\n",
              "      cursor: pointer;\n",
              "      display: none;\n",
              "      fill: #1967D2;\n",
              "      height: 32px;\n",
              "      padding: 0 0 0 0;\n",
              "      width: 32px;\n",
              "    }\n",
              "\n",
              "    .colab-df-convert:hover {\n",
              "      background-color: #E2EBFA;\n",
              "      box-shadow: 0px 1px 2px rgba(60, 64, 67, 0.3), 0px 1px 3px 1px rgba(60, 64, 67, 0.15);\n",
              "      fill: #174EA6;\n",
              "    }\n",
              "\n",
              "    [theme=dark] .colab-df-convert {\n",
              "      background-color: #3B4455;\n",
              "      fill: #D2E3FC;\n",
              "    }\n",
              "\n",
              "    [theme=dark] .colab-df-convert:hover {\n",
              "      background-color: #434B5C;\n",
              "      box-shadow: 0px 1px 3px 1px rgba(0, 0, 0, 0.15);\n",
              "      filter: drop-shadow(0px 1px 2px rgba(0, 0, 0, 0.3));\n",
              "      fill: #FFFFFF;\n",
              "    }\n",
              "  </style>\n",
              "\n",
              "      <script>\n",
              "        const buttonEl =\n",
              "          document.querySelector('#df-f30c2aef-590c-4e4e-a262-5478d1715513 button.colab-df-convert');\n",
              "        buttonEl.style.display =\n",
              "          google.colab.kernel.accessAllowed ? 'block' : 'none';\n",
              "\n",
              "        async function convertToInteractive(key) {\n",
              "          const element = document.querySelector('#df-f30c2aef-590c-4e4e-a262-5478d1715513');\n",
              "          const dataTable =\n",
              "            await google.colab.kernel.invokeFunction('convertToInteractive',\n",
              "                                                     [key], {});\n",
              "          if (!dataTable) return;\n",
              "\n",
              "          const docLinkHtml = 'Like what you see? Visit the ' +\n",
              "            '<a target=\"_blank\" href=https://colab.research.google.com/notebooks/data_table.ipynb>data table notebook</a>'\n",
              "            + ' to learn more about interactive tables.';\n",
              "          element.innerHTML = '';\n",
              "          dataTable['output_type'] = 'display_data';\n",
              "          await google.colab.output.renderOutput(dataTable, element);\n",
              "          const docLink = document.createElement('div');\n",
              "          docLink.innerHTML = docLinkHtml;\n",
              "          element.appendChild(docLink);\n",
              "        }\n",
              "      </script>\n",
              "    </div>\n",
              "  </div>\n",
              "  "
            ]
          },
          "metadata": {},
          "execution_count": 64
        }
      ]
    },
    {
      "cell_type": "code",
      "source": [
        "print(df['Company'])"
      ],
      "metadata": {
        "colab": {
          "base_uri": "https://localhost:8080/"
        },
        "id": "jln5Jn1gB_EV",
        "outputId": "e1abbf01-3d2e-4fc3-aed5-67656058f994"
      },
      "execution_count": null,
      "outputs": [
        {
          "output_type": "stream",
          "name": "stdout",
          "text": [
            "0          TCS\n",
            "1      Infosys\n",
            "2          TCS\n",
            "3      Infosys\n",
            "4          TCS\n",
            "        ...   \n",
            "144    Infosys\n",
            "145    Infosys\n",
            "146        TCS\n",
            "147    Infosys\n",
            "148        NaN\n",
            "Name: Company, Length: 149, dtype: object\n"
          ]
        }
      ]
    },
    {
      "cell_type": "code",
      "source": [
        "#Mode\n",
        "df['Company'].fillna(df['Company'].mode()[0])\n",
        "print(df['Company'])\n"
      ],
      "metadata": {
        "colab": {
          "base_uri": "https://localhost:8080/"
        },
        "id": "YSyyMgnaCnuh",
        "outputId": "7223d4d5-ad73-442d-88f3-2641fe19a2b7"
      },
      "execution_count": null,
      "outputs": [
        {
          "output_type": "stream",
          "name": "stdout",
          "text": [
            "0          TCS\n",
            "1      Infosys\n",
            "2          TCS\n",
            "3      Infosys\n",
            "4          TCS\n",
            "        ...   \n",
            "144    Infosys\n",
            "145    Infosys\n",
            "146        TCS\n",
            "147    Infosys\n",
            "148        NaN\n",
            "Name: Company, Length: 149, dtype: object\n"
          ]
        }
      ]
    },
    {
      "cell_type": "code",
      "source": [
        "df['Salary'] = df['Salary'].fillna(df['Salary'].mode()[0])\n",
        "print(df['Salary'])"
      ],
      "metadata": {
        "colab": {
          "base_uri": "https://localhost:8080/"
        },
        "id": "SgBm_kzrEjLl",
        "outputId": "a0abfdd9-50ae-403b-c0a4-7b6db47a928e"
      },
      "execution_count": null,
      "outputs": [
        {
          "output_type": "stream",
          "name": "stdout",
          "text": [
            "0      3000.0\n",
            "1      3000.0\n",
            "2      2300.0\n",
            "3      3000.0\n",
            "4      4000.0\n",
            "        ...  \n",
            "144    8787.0\n",
            "145    4034.0\n",
            "146    5034.0\n",
            "147    8202.0\n",
            "148    3000.0\n",
            "Name: Salary, Length: 149, dtype: float64\n"
          ]
        }
      ]
    },
    {
      "cell_type": "code",
      "source": [
        "df['Age'] = df['Age'].fillna(df['Age'].mode()[0])\n",
        "print(df['Age'])"
      ],
      "metadata": {
        "colab": {
          "base_uri": "https://localhost:8080/"
        },
        "id": "pZmMUIR4EuWK",
        "outputId": "7f27a849-1da8-44c6-88fa-f1b72ac3a342"
      },
      "execution_count": null,
      "outputs": [
        {
          "output_type": "stream",
          "name": "stdout",
          "text": [
            "0      20.0\n",
            "1      30.0\n",
            "2      35.0\n",
            "3      40.0\n",
            "4      23.0\n",
            "       ... \n",
            "144    22.0\n",
            "145    44.0\n",
            "146    33.0\n",
            "147    22.0\n",
            "148    22.0\n",
            "Name: Age, Length: 149, dtype: float64\n"
          ]
        }
      ]
    },
    {
      "cell_type": "code",
      "source": [
        "rslt = df.loc[(df['Age'] > 40) & df['Salary'] < 5000]\n",
        "print(rslt)\n",
        "\n",
        "      "
      ],
      "metadata": {
        "colab": {
          "base_uri": "https://localhost:8080/"
        },
        "id": "UClCz7EQFLKS",
        "outputId": "2d645636-4da0-4341-b58d-da6c5a980f5a"
      },
      "execution_count": null,
      "outputs": [
        {
          "output_type": "stream",
          "name": "stdout",
          "text": [
            "     Company   Age  Salary      City\n",
            "0        TCS  20.0  3000.0   Chennai\n",
            "1    Infosys  30.0  3000.0    Mumbai\n",
            "2        TCS  35.0  2300.0  Calcutta\n",
            "3    Infosys  40.0  3000.0     Delhi\n",
            "4        TCS  23.0  4000.0    Mumbai\n",
            "..       ...   ...     ...       ...\n",
            "144  Infosys  22.0  8787.0  Calcutta\n",
            "145  Infosys  44.0  4034.0     Delhi\n",
            "146      TCS  33.0  5034.0    Mumbai\n",
            "147  Infosys  22.0  8202.0    Cochin\n",
            "148      NaN  22.0  3000.0       NaN\n",
            "\n",
            "[149 rows x 4 columns]\n"
          ]
        }
      ]
    },
    {
      "cell_type": "code",
      "source": [
        "#df.groupby(['Company']).sum().plot(kind='pie', y='City')\n",
        "#df.plot(['Company','City'])\n"
      ],
      "metadata": {
        "id": "zFtl1HczI0jT"
      },
      "execution_count": null,
      "outputs": []
    },
    {
      "cell_type": "code",
      "source": [
        "df.hist(['Age','Salary'])"
      ],
      "metadata": {
        "colab": {
          "base_uri": "https://localhost:8080/",
          "height": 333
        },
        "id": "aAZ46ns9LtSt",
        "outputId": "81bd0c1a-713f-4418-e5dd-cd5bd4aa3c4b"
      },
      "execution_count": null,
      "outputs": [
        {
          "output_type": "execute_result",
          "data": {
            "text/plain": [
              "array([[<matplotlib.axes._subplots.AxesSubplot object at 0x7ff7fa293b90>,\n",
              "        <matplotlib.axes._subplots.AxesSubplot object at 0x7ff7fa37f5d0>]],\n",
              "      dtype=object)"
            ]
          },
          "metadata": {},
          "execution_count": 83
        },
        {
          "output_type": "display_data",
          "data": {
            "text/plain": [
              "<Figure size 432x288 with 2 Axes>"
            ],
            "image/png": "[encoded data removed]"
          },
          "metadata": {
            "needs_background": "light"
          }
        }
      ]
    },
    {
      "cell_type": "code",
      "source": [
        "df.groupby('Company')['Age'].mean()"
      ],
      "metadata": {
        "colab": {
          "base_uri": "https://localhost:8080/"
        },
        "id": "_ZTt0aCyMGsl",
        "outputId": "33d7369f-d7e9-4a37-f217-ffb1584348b8"
      },
      "execution_count": null,
      "outputs": [
        {
          "output_type": "execute_result",
          "data": {
            "text/plain": [
              "Company\n",
              "CTS                          32.194444\n",
              "Congnizant                   21.500000\n",
              "Infosys                      30.733333\n",
              "Infosys Pvt Lmt              21.500000\n",
              "TCS                          27.471698\n",
              "Tata Consultancy Services    33.500000\n",
              "Name: Age, dtype: float64"
            ]
          },
          "metadata": {},
          "execution_count": 87
        }
      ]
    },
    {
      "cell_type": "code",
      "source": [
        "df.groupby('Salary')['Age'].median()"
      ],
      "metadata": {
        "id": "zA1_DvfUN4wd",
        "colab": {
          "base_uri": "https://localhost:8080/"
        },
        "outputId": "c1a26621-2b4e-4d5f-f42a-220f0d91c452"
      },
      "execution_count": 90,
      "outputs": [
        {
          "output_type": "execute_result",
          "data": {
            "text/plain": [
              "Salary\n",
              "1089.0    33.0\n",
              "1234.0    17.5\n",
              "2034.0    31.0\n",
              "2300.0    34.5\n",
              "2934.0    21.5\n",
              "3000.0    32.5\n",
              "3030.0    21.0\n",
              "3033.0    44.0\n",
              "3045.0    35.0\n",
              "3184.0    50.5\n",
              "3234.0    22.0\n",
              "3454.0    22.0\n",
              "4000.0    27.5\n",
              "4034.0    44.0\n",
              "4324.0    22.0\n",
              "4345.0    24.0\n",
              "4824.0    21.5\n",
              "5000.0    28.0\n",
              "5009.0    20.0\n",
              "5034.0    33.0\n",
              "5098.0    30.0\n",
              "5435.0    22.0\n",
              "5555.0    22.0\n",
              "5654.0    33.0\n",
              "5835.0    22.0\n",
              "6000.0    22.0\n",
              "6543.0    25.0\n",
              "6544.0    21.0\n",
              "7000.0    25.0\n",
              "7084.0    22.0\n",
              "7654.0    39.0\n",
              "8000.0    34.0\n",
              "8202.0    22.0\n",
              "8345.0    33.5\n",
              "8787.0    22.0\n",
              "8943.0    22.5\n",
              "9000.0    45.0\n",
              "9024.0    33.5\n",
              "9284.0    42.5\n",
              "9876.0    33.5\n",
              "Name: Age, dtype: float64"
            ]
          },
          "metadata": {},
          "execution_count": 90
        }
      ]
    },
    {
      "cell_type": "code",
      "source": [
        "df.groupby('Salary')['Age'].count()"
      ],
      "metadata": {
        "colab": {
          "base_uri": "https://localhost:8080/"
        },
        "id": "W7CSFecnPYX_",
        "outputId": "c2e9050b-0453-441e-e42f-22f3049bbfdf"
      },
      "execution_count": 91,
      "outputs": [
        {
          "output_type": "execute_result",
          "data": {
            "text/plain": [
              "Salary\n",
              "1089.0     4\n",
              "1234.0     4\n",
              "2034.0     4\n",
              "2300.0     4\n",
              "2934.0     4\n",
              "3000.0    34\n",
              "3030.0     3\n",
              "3033.0     1\n",
              "3045.0     4\n",
              "3184.0     4\n",
              "3234.0     2\n",
              "3454.0     1\n",
              "4000.0     2\n",
              "4034.0     5\n",
              "4324.0     1\n",
              "4345.0     1\n",
              "4824.0     4\n",
              "5000.0     6\n",
              "5009.0     1\n",
              "5034.0     5\n",
              "5098.0     1\n",
              "5435.0     1\n",
              "5555.0     1\n",
              "5654.0     1\n",
              "5835.0     4\n",
              "6000.0     3\n",
              "6543.0     1\n",
              "6544.0     1\n",
              "7000.0     3\n",
              "7084.0     4\n",
              "7654.0     2\n",
              "8000.0     3\n",
              "8202.0     5\n",
              "8345.0     4\n",
              "8787.0     4\n",
              "8943.0     4\n",
              "9000.0     3\n",
              "9024.0     4\n",
              "9284.0     4\n",
              "9876.0     2\n",
              "Name: Age, dtype: int64"
            ]
          },
          "metadata": {},
          "execution_count": 91
        }
      ]
    }
  ]
}