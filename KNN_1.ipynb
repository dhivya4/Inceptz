{
 "cells": [
  {
   "cell_type": "code",
   "execution_count": 4,
   "id": "0ef380f5",
   "metadata": {},
   "outputs": [],
   "source": [
    "import numpy as np\n",
    "import pandas as pd\n",
    "from sklearn.model_selection import train_test_split\n",
    "from sklearn.neighbors import KNeighborsClassifier\n",
    "from sklearn.preprocessing import StandardScaler\n",
    "from sklearn.metrics import accuracy_score, precision_score, confusion_matrix, classification_report\n"
   ]
  },
  {
   "cell_type": "code",
   "execution_count": 5,
   "id": "c6214e0b",
   "metadata": {},
   "outputs": [],
   "source": [
    "df = pd.read_csv(\"https://raw.githubusercontent.com/balaji2v/Inceptez_Batch19/main/teleCust1000t.csv\")"
   ]
  },
  {
   "cell_type": "code",
   "execution_count": 6,
   "id": "953f95f7",
   "metadata": {},
   "outputs": [
    {
     "data": {
      "text/plain": [
       "(1000, 12)"
      ]
     },
     "execution_count": 6,
     "metadata": {},
     "output_type": "execute_result"
    }
   ],
   "source": [
    "df.shape"
   ]
  },
  {
   "cell_type": "code",
   "execution_count": 7,
   "id": "65ad63fd",
   "metadata": {},
   "outputs": [
    {
     "data": {
      "text/html": [
       "<div>\n",
       "<style scoped>\n",
       "    .dataframe tbody tr th:only-of-type {\n",
       "        vertical-align: middle;\n",
       "    }\n",
       "\n",
       "    .dataframe tbody tr th {\n",
       "        vertical-align: top;\n",
       "    }\n",
       "\n",
       "    .dataframe thead th {\n",
       "        text-align: right;\n",
       "    }\n",
       "</style>\n",
       "<table border=\"1\" class=\"dataframe\">\n",
       "  <thead>\n",
       "    <tr style=\"text-align: right;\">\n",
       "      <th></th>\n",
       "      <th>count</th>\n",
       "      <th>mean</th>\n",
       "      <th>std</th>\n",
       "      <th>min</th>\n",
       "      <th>25%</th>\n",
       "      <th>50%</th>\n",
       "      <th>75%</th>\n",
       "      <th>max</th>\n",
       "    </tr>\n",
       "  </thead>\n",
       "  <tbody>\n",
       "    <tr>\n",
       "      <th>region</th>\n",
       "      <td>1000.0</td>\n",
       "      <td>2.022</td>\n",
       "      <td>0.816200</td>\n",
       "      <td>1.0</td>\n",
       "      <td>1.0</td>\n",
       "      <td>2.0</td>\n",
       "      <td>3.0</td>\n",
       "      <td>3.0</td>\n",
       "    </tr>\n",
       "    <tr>\n",
       "      <th>tenure</th>\n",
       "      <td>1000.0</td>\n",
       "      <td>35.526</td>\n",
       "      <td>21.359812</td>\n",
       "      <td>1.0</td>\n",
       "      <td>17.0</td>\n",
       "      <td>34.0</td>\n",
       "      <td>54.0</td>\n",
       "      <td>72.0</td>\n",
       "    </tr>\n",
       "    <tr>\n",
       "      <th>age</th>\n",
       "      <td>1000.0</td>\n",
       "      <td>41.684</td>\n",
       "      <td>12.558816</td>\n",
       "      <td>18.0</td>\n",
       "      <td>32.0</td>\n",
       "      <td>40.0</td>\n",
       "      <td>51.0</td>\n",
       "      <td>77.0</td>\n",
       "    </tr>\n",
       "    <tr>\n",
       "      <th>marital</th>\n",
       "      <td>1000.0</td>\n",
       "      <td>0.495</td>\n",
       "      <td>0.500225</td>\n",
       "      <td>0.0</td>\n",
       "      <td>0.0</td>\n",
       "      <td>0.0</td>\n",
       "      <td>1.0</td>\n",
       "      <td>1.0</td>\n",
       "    </tr>\n",
       "    <tr>\n",
       "      <th>address</th>\n",
       "      <td>1000.0</td>\n",
       "      <td>11.551</td>\n",
       "      <td>10.086681</td>\n",
       "      <td>0.0</td>\n",
       "      <td>3.0</td>\n",
       "      <td>9.0</td>\n",
       "      <td>18.0</td>\n",
       "      <td>55.0</td>\n",
       "    </tr>\n",
       "    <tr>\n",
       "      <th>income</th>\n",
       "      <td>1000.0</td>\n",
       "      <td>77.535</td>\n",
       "      <td>107.044165</td>\n",
       "      <td>9.0</td>\n",
       "      <td>29.0</td>\n",
       "      <td>47.0</td>\n",
       "      <td>83.0</td>\n",
       "      <td>1668.0</td>\n",
       "    </tr>\n",
       "    <tr>\n",
       "      <th>ed</th>\n",
       "      <td>1000.0</td>\n",
       "      <td>2.671</td>\n",
       "      <td>1.222397</td>\n",
       "      <td>1.0</td>\n",
       "      <td>2.0</td>\n",
       "      <td>3.0</td>\n",
       "      <td>4.0</td>\n",
       "      <td>5.0</td>\n",
       "    </tr>\n",
       "    <tr>\n",
       "      <th>employ</th>\n",
       "      <td>1000.0</td>\n",
       "      <td>10.987</td>\n",
       "      <td>10.082087</td>\n",
       "      <td>0.0</td>\n",
       "      <td>3.0</td>\n",
       "      <td>8.0</td>\n",
       "      <td>17.0</td>\n",
       "      <td>47.0</td>\n",
       "    </tr>\n",
       "    <tr>\n",
       "      <th>retire</th>\n",
       "      <td>1000.0</td>\n",
       "      <td>0.047</td>\n",
       "      <td>0.211745</td>\n",
       "      <td>0.0</td>\n",
       "      <td>0.0</td>\n",
       "      <td>0.0</td>\n",
       "      <td>0.0</td>\n",
       "      <td>1.0</td>\n",
       "    </tr>\n",
       "    <tr>\n",
       "      <th>gender</th>\n",
       "      <td>1000.0</td>\n",
       "      <td>0.517</td>\n",
       "      <td>0.499961</td>\n",
       "      <td>0.0</td>\n",
       "      <td>0.0</td>\n",
       "      <td>1.0</td>\n",
       "      <td>1.0</td>\n",
       "      <td>1.0</td>\n",
       "    </tr>\n",
       "    <tr>\n",
       "      <th>reside</th>\n",
       "      <td>1000.0</td>\n",
       "      <td>2.331</td>\n",
       "      <td>1.435793</td>\n",
       "      <td>1.0</td>\n",
       "      <td>1.0</td>\n",
       "      <td>2.0</td>\n",
       "      <td>3.0</td>\n",
       "      <td>8.0</td>\n",
       "    </tr>\n",
       "    <tr>\n",
       "      <th>custcat</th>\n",
       "      <td>1000.0</td>\n",
       "      <td>2.487</td>\n",
       "      <td>1.120306</td>\n",
       "      <td>1.0</td>\n",
       "      <td>1.0</td>\n",
       "      <td>3.0</td>\n",
       "      <td>3.0</td>\n",
       "      <td>4.0</td>\n",
       "    </tr>\n",
       "  </tbody>\n",
       "</table>\n",
       "</div>"
      ],
      "text/plain": [
       "          count    mean         std   min   25%   50%   75%     max\n",
       "region   1000.0   2.022    0.816200   1.0   1.0   2.0   3.0     3.0\n",
       "tenure   1000.0  35.526   21.359812   1.0  17.0  34.0  54.0    72.0\n",
       "age      1000.0  41.684   12.558816  18.0  32.0  40.0  51.0    77.0\n",
       "marital  1000.0   0.495    0.500225   0.0   0.0   0.0   1.0     1.0\n",
       "address  1000.0  11.551   10.086681   0.0   3.0   9.0  18.0    55.0\n",
       "income   1000.0  77.535  107.044165   9.0  29.0  47.0  83.0  1668.0\n",
       "ed       1000.0   2.671    1.222397   1.0   2.0   3.0   4.0     5.0\n",
       "employ   1000.0  10.987   10.082087   0.0   3.0   8.0  17.0    47.0\n",
       "retire   1000.0   0.047    0.211745   0.0   0.0   0.0   0.0     1.0\n",
       "gender   1000.0   0.517    0.499961   0.0   0.0   1.0   1.0     1.0\n",
       "reside   1000.0   2.331    1.435793   1.0   1.0   2.0   3.0     8.0\n",
       "custcat  1000.0   2.487    1.120306   1.0   1.0   3.0   3.0     4.0"
      ]
     },
     "execution_count": 7,
     "metadata": {},
     "output_type": "execute_result"
    }
   ],
   "source": [
    "df.describe(include='all').T"
   ]
  },
  {
   "cell_type": "code",
   "execution_count": 8,
   "id": "4ed14c4b",
   "metadata": {},
   "outputs": [
    {
     "name": "stdout",
     "output_type": "stream",
     "text": [
      "     region  tenure  age  marital  address  income  ed  employ  retire  \\\n",
      "0         2      13   44        1        9    64.0   4       5     0.0   \n",
      "1         3      11   33        1        7   136.0   5       5     0.0   \n",
      "2         3      68   52        1       24   116.0   1      29     0.0   \n",
      "3         2      33   33        0       12    33.0   2       0     0.0   \n",
      "4         2      23   30        1        9    30.0   1       2     0.0   \n",
      "..      ...     ...  ...      ...      ...     ...  ..     ...     ...   \n",
      "995       3      10   39        0        0    27.0   3       0     0.0   \n",
      "996       1       7   34        0        2    22.0   5       5     0.0   \n",
      "997       3      67   59        0       40   944.0   5      33     0.0   \n",
      "998       3      70   49        0       18    87.0   2      22     0.0   \n",
      "999       3      50   36        1        7    39.0   3       3     0.0   \n",
      "\n",
      "     gender  reside  \n",
      "0         0       2  \n",
      "1         0       6  \n",
      "2         1       2  \n",
      "3         1       1  \n",
      "4         0       4  \n",
      "..      ...     ...  \n",
      "995       1       3  \n",
      "996       1       1  \n",
      "997       1       1  \n",
      "998       1       1  \n",
      "999       1       3  \n",
      "\n",
      "[1000 rows x 11 columns]\n"
     ]
    }
   ],
   "source": [
    "X = df.iloc[:,:-1]\n",
    "print(X)"
   ]
  },
  {
   "cell_type": "code",
   "execution_count": 9,
   "id": "0d617661",
   "metadata": {},
   "outputs": [
    {
     "name": "stdout",
     "output_type": "stream",
     "text": [
      "0      1\n",
      "1      4\n",
      "2      3\n",
      "3      1\n",
      "4      3\n",
      "      ..\n",
      "995    1\n",
      "996    1\n",
      "997    4\n",
      "998    3\n",
      "999    2\n",
      "Name: custcat, Length: 1000, dtype: int64\n"
     ]
    }
   ],
   "source": [
    "Y = df.iloc[:,-1]\n",
    "print(Y)"
   ]
  },
  {
   "cell_type": "code",
   "execution_count": 10,
   "id": "8481f4ef",
   "metadata": {},
   "outputs": [],
   "source": [
    "X_train, X_test,Y_train, Y_test = train_test_split(X, Y, test_size=0.3, random_state=1)"
   ]
  },
  {
   "cell_type": "code",
   "execution_count": 11,
   "id": "024fd0b6",
   "metadata": {},
   "outputs": [],
   "source": [
    "standard_scaler = StandardScaler()"
   ]
  },
  {
   "cell_type": "code",
   "execution_count": 23,
   "id": "c86ca04e",
   "metadata": {},
   "outputs": [
    {
     "data": {
      "text/plain": [
       "StandardScaler()"
      ]
     },
     "execution_count": 23,
     "metadata": {},
     "output_type": "execute_result"
    }
   ],
   "source": [
    "X_train_scaler = standard_scaler.fit(X_train)\n",
    "X_train_trans_scaler = standard_scaler.fit_transform(X_train)\n",
    "\n",
    "\n",
    "X_train_scaler"
   ]
  },
  {
   "cell_type": "code",
   "execution_count": 24,
   "id": "45db2d12",
   "metadata": {},
   "outputs": [
    {
     "data": {
      "text/plain": [
       "7700"
      ]
     },
     "execution_count": 24,
     "metadata": {},
     "output_type": "execute_result"
    }
   ],
   "source": [
    "X_train_trans_scaler.size"
   ]
  },
  {
   "cell_type": "code",
   "execution_count": 13,
   "id": "e34aa487",
   "metadata": {},
   "outputs": [
    {
     "data": {
      "text/plain": [
       "3300"
      ]
     },
     "execution_count": 13,
     "metadata": {},
     "output_type": "execute_result"
    }
   ],
   "source": [
    "X_test_trans_scaler = standard_scaler.transform(X_test)\n",
    "\n",
    "X_test_trans_scaler.size\n"
   ]
  },
  {
   "cell_type": "code",
   "execution_count": 14,
   "id": "743ab49e",
   "metadata": {},
   "outputs": [],
   "source": [
    "model= KNeighborsClassifier()"
   ]
  },
  {
   "cell_type": "code",
   "execution_count": 15,
   "id": "3854f297",
   "metadata": {},
   "outputs": [
    {
     "data": {
      "text/plain": [
       "KNeighborsClassifier()"
      ]
     },
     "execution_count": 15,
     "metadata": {},
     "output_type": "execute_result"
    }
   ],
   "source": [
    "model.fit(X_train,Y_train)"
   ]
  },
  {
   "cell_type": "code",
   "execution_count": 16,
   "id": "a1861867",
   "metadata": {},
   "outputs": [],
   "source": [
    "Y_pred = model.predict(X_test)\n",
    "Z_pred = model.predict(X_train)"
   ]
  },
  {
   "cell_type": "code",
   "execution_count": 17,
   "id": "a9770bc0",
   "metadata": {},
   "outputs": [
    {
     "name": "stdout",
     "output_type": "stream",
     "text": [
      "0.35\n"
     ]
    }
   ],
   "source": [
    "acc_score = accuracy_score(Y_test, Y_pred)\n",
    "print(acc_score)"
   ]
  },
  {
   "cell_type": "code",
   "execution_count": 18,
   "id": "d5625882",
   "metadata": {},
   "outputs": [],
   "source": [
    "acc_score = accuracy_score(Y_test, Y_pred)"
   ]
  },
  {
   "cell_type": "code",
   "execution_count": 19,
   "id": "f40d7432",
   "metadata": {},
   "outputs": [
    {
     "name": "stdout",
     "output_type": "stream",
     "text": [
      "[[44 16 20 10]\n",
      " [13 19 18  9]\n",
      " [21 21 30  8]\n",
      " [27 17 15 12]]\n"
     ]
    }
   ],
   "source": [
    "print(confusion_matrix(Y_test, Y_pred))"
   ]
  },
  {
   "cell_type": "code",
   "execution_count": 20,
   "id": "294063cf",
   "metadata": {},
   "outputs": [
    {
     "name": "stdout",
     "output_type": "stream",
     "text": [
      "              precision    recall  f1-score   support\n",
      "\n",
      "           1       0.42      0.49      0.45        90\n",
      "           2       0.26      0.32      0.29        59\n",
      "           3       0.36      0.38      0.37        80\n",
      "           4       0.31      0.17      0.22        71\n",
      "\n",
      "    accuracy                           0.35       300\n",
      "   macro avg       0.34      0.34      0.33       300\n",
      "weighted avg       0.35      0.35      0.34       300\n",
      "\n"
     ]
    }
   ],
   "source": [
    "print(classification_report(Y_test,Y_pred))"
   ]
  },
  {
   "cell_type": "code",
   "execution_count": 21,
   "id": "0d401fd9",
   "metadata": {},
   "outputs": [],
   "source": [
    "def knn_model(k, X_train, X_test, Y_train, Y_test, weights='uniform', metric='minkowski'):\n",
    "    # weights: uniform, distance ; metric: minkowski, euclidean, manhattan, cosine\n",
    "    knn = KNeighborsClassifier(n_neighbors = k, weights=weights, metric=metric)\n",
    "    print(\"Weights :\", weights)\n",
    "    print(\"Metric : \", metric)\n",
    "   \n"
   ]
  },
  {
   "cell_type": "code",
   "execution_count": 27,
   "id": "578be53d",
   "metadata": {},
   "outputs": [
    {
     "data": {
      "text/plain": [
       "KNeighborsClassifier()"
      ]
     },
     "execution_count": 27,
     "metadata": {},
     "output_type": "execute_result"
    }
   ],
   "source": [
    "   knn.fit(X_train, Y_train)"
   ]
  },
  {
   "cell_type": "code",
   "execution_count": 31,
   "id": "3f3185ca",
   "metadata": {},
   "outputs": [],
   "source": [
    "Y_pred_test = knn.predict(X_test)"
   ]
  },
  {
   "cell_type": "code",
   "execution_count": 32,
   "id": "bacad1fa",
   "metadata": {},
   "outputs": [
    {
     "data": {
      "text/plain": [
       "array([1, 1, 1, 1, 3, 1, 2, 2, 4, 1, 3, 4, 2, 1, 1, 3, 1, 1, 1, 1, 2, 2,\n",
       "       1, 3, 2, 1, 1, 2, 3, 4, 1, 3, 2, 3, 3, 1, 3, 1, 2, 3, 1, 2, 1, 4,\n",
       "       1, 1, 3, 1, 1, 1, 4, 3, 3, 1, 3, 1, 3, 1, 1, 4, 3, 2, 1, 2, 2, 1,\n",
       "       4, 1, 4, 2, 4, 3, 3, 3, 3, 3, 1, 3, 2, 2, 2, 3, 1, 1, 2, 3, 3, 1,\n",
       "       1, 3, 1, 2, 1, 3, 3, 3, 3, 4, 2, 4, 3, 3, 3, 1, 1, 2, 3, 1, 3, 2,\n",
       "       3, 3, 1, 3, 3, 1, 1, 3, 3, 1, 2, 4, 3, 1, 2, 2, 4, 2, 3, 1, 2, 3,\n",
       "       1, 2, 3, 3, 1, 1, 2, 3, 3, 2, 1, 2, 2, 4, 2, 2, 2, 3, 1, 4, 3, 2,\n",
       "       2, 1, 4, 2, 1, 1, 3, 1, 2, 2, 1, 4, 2, 1, 1, 1, 2, 1, 1, 1, 1, 1,\n",
       "       4, 1, 3, 4, 3, 2, 2, 2, 1, 1, 4, 3, 2, 1, 3, 1, 1, 2, 3, 4, 1, 4,\n",
       "       1, 3, 2, 1, 1, 2, 3, 2, 4, 3, 1, 2, 1, 1, 1, 2, 1, 1, 2, 1, 1, 1,\n",
       "       1, 4, 1, 1, 1, 1, 1, 2, 4, 4, 3, 4, 3, 3, 3, 3, 2, 4, 1, 2, 4, 2,\n",
       "       2, 3, 2, 4, 1, 1, 1, 2, 4, 2, 3, 2, 1, 1, 3, 2, 1, 2, 1, 3, 2, 3,\n",
       "       1, 3, 2, 2, 2, 3, 1, 1, 4, 3, 4, 3, 3, 4, 1, 2, 3, 3, 3, 2, 3, 3,\n",
       "       3, 4, 4, 4, 3, 4, 1, 2, 1, 2, 2, 3, 3, 4], dtype=int64)"
      ]
     },
     "execution_count": 32,
     "metadata": {},
     "output_type": "execute_result"
    }
   ],
   "source": [
    "Y_pred_test"
   ]
  },
  {
   "cell_type": "code",
   "execution_count": 33,
   "id": "132950a8",
   "metadata": {},
   "outputs": [],
   "source": [
    "Y_pred_train = knn.predict(X_train)"
   ]
  },
  {
   "cell_type": "code",
   "execution_count": 34,
   "id": "9d12634c",
   "metadata": {},
   "outputs": [
    {
     "data": {
      "text/plain": [
       "array([2, 4, 4, 2, 1, 1, 2, 3, 2, 2, 3, 1, 4, 3, 1, 1, 3, 3, 3, 4, 3, 1,\n",
       "       2, 2, 1, 2, 2, 3, 3, 1, 1, 2, 3, 3, 2, 4, 3, 3, 3, 2, 2, 1, 2, 1,\n",
       "       3, 1, 3, 3, 3, 3, 2, 2, 2, 3, 2, 1, 1, 3, 3, 3, 1, 3, 2, 2, 2, 1,\n",
       "       3, 4, 4, 4, 2, 2, 1, 1, 1, 1, 1, 3, 1, 4, 4, 1, 4, 2, 4, 1, 1, 1,\n",
       "       1, 3, 4, 1, 4, 2, 1, 4, 1, 2, 2, 1, 3, 2, 2, 2, 1, 2, 3, 3, 2, 3,\n",
       "       1, 1, 4, 2, 1, 3, 2, 1, 4, 1, 3, 2, 4, 1, 2, 1, 4, 2, 4, 1, 2, 3,\n",
       "       3, 1, 1, 1, 1, 2, 2, 1, 1, 1, 4, 3, 1, 4, 1, 3, 3, 4, 3, 3, 1, 3,\n",
       "       2, 2, 2, 1, 2, 1, 1, 1, 1, 3, 1, 4, 3, 3, 3, 2, 3, 4, 3, 2, 3, 3,\n",
       "       2, 1, 3, 2, 3, 1, 2, 1, 4, 3, 3, 3, 1, 3, 2, 3, 1, 3, 1, 4, 2, 4,\n",
       "       3, 4, 2, 1, 3, 2, 3, 1, 3, 1, 3, 3, 3, 3, 2, 1, 4, 1, 4, 2, 1, 2,\n",
       "       2, 3, 1, 3, 3, 1, 2, 1, 2, 3, 1, 3, 1, 2, 3, 1, 1, 4, 1, 4, 1, 3,\n",
       "       3, 3, 1, 2, 1, 1, 1, 1, 1, 3, 1, 1, 3, 3, 1, 3, 2, 3, 1, 3, 2, 1,\n",
       "       1, 4, 3, 3, 2, 3, 3, 2, 4, 1, 3, 4, 3, 2, 2, 3, 2, 1, 2, 1, 1, 2,\n",
       "       3, 3, 3, 1, 3, 1, 3, 3, 3, 1, 1, 2, 1, 2, 2, 1, 4, 1, 4, 1, 4, 2,\n",
       "       3, 1, 3, 2, 1, 4, 1, 1, 3, 1, 1, 4, 3, 2, 2, 2, 4, 3, 2, 3, 3, 1,\n",
       "       3, 2, 4, 1, 2, 4, 4, 1, 1, 2, 1, 1, 1, 2, 1, 1, 3, 2, 1, 3, 2, 1,\n",
       "       3, 1, 4, 1, 1, 3, 1, 1, 2, 4, 3, 3, 1, 2, 2, 3, 2, 3, 3, 3, 2, 1,\n",
       "       3, 4, 2, 1, 2, 4, 2, 3, 3, 2, 4, 3, 2, 3, 2, 2, 2, 2, 2, 3, 3, 2,\n",
       "       4, 3, 1, 2, 1, 3, 2, 1, 3, 2, 3, 3, 4, 2, 3, 2, 4, 4, 2, 1, 2, 2,\n",
       "       1, 1, 3, 2, 1, 1, 1, 2, 4, 2, 2, 1, 3, 3, 1, 3, 4, 2, 1, 3, 3, 2,\n",
       "       4, 2, 2, 2, 3, 4, 2, 4, 1, 1, 3, 4, 3, 2, 2, 4, 1, 1, 1, 1, 1, 1,\n",
       "       1, 3, 3, 1, 1, 1, 1, 4, 4, 3, 4, 3, 2, 1, 1, 1, 1, 1, 2, 1, 2, 2,\n",
       "       3, 3, 1, 2, 1, 4, 3, 2, 3, 1, 3, 4, 1, 3, 2, 1, 1, 1, 2, 2, 1, 1,\n",
       "       4, 1, 3, 3, 2, 1, 4, 1, 2, 1, 3, 1, 1, 1, 3, 3, 2, 1, 1, 3, 3, 1,\n",
       "       2, 2, 2, 1, 2, 1, 4, 1, 1, 4, 1, 3, 1, 1, 1, 3, 2, 2, 3, 1, 3, 2,\n",
       "       4, 2, 4, 1, 1, 1, 2, 3, 1, 3, 3, 2, 2, 3, 3, 2, 3, 1, 1, 4, 3, 2,\n",
       "       1, 2, 1, 4, 1, 1, 3, 1, 4, 2, 3, 1, 2, 1, 2, 3, 2, 2, 1, 1, 4, 2,\n",
       "       3, 2, 3, 3, 1, 1, 3, 3, 1, 1, 4, 3, 1, 2, 3, 1, 3, 2, 3, 3, 1, 1,\n",
       "       1, 3, 1, 1, 3, 1, 1, 3, 4, 1, 3, 1, 3, 3, 1, 2, 1, 1, 2, 2, 1, 3,\n",
       "       4, 3, 1, 2, 2, 1, 2, 1, 4, 3, 1, 1, 1, 2, 2, 2, 1, 1, 3, 2, 2, 4,\n",
       "       1, 1, 4, 2, 1, 1, 1, 2, 1, 1, 2, 2, 2, 1, 1, 3, 2, 2, 1, 1, 2, 2,\n",
       "       4, 3, 2, 1, 1, 3, 3, 3, 1, 4, 2, 1, 1, 1, 1, 1, 2, 3], dtype=int64)"
      ]
     },
     "execution_count": 34,
     "metadata": {},
     "output_type": "execute_result"
    }
   ],
   "source": [
    "Y_pred_train"
   ]
  },
  {
   "cell_type": "code",
   "execution_count": 35,
   "id": "6d4db665",
   "metadata": {},
   "outputs": [
    {
     "data": {
      "text/plain": [
       "0.5214285714285715"
      ]
     },
     "execution_count": 35,
     "metadata": {},
     "output_type": "execute_result"
    }
   ],
   "source": [
    "accuracy_score(Y_pred_train,Y_train)"
   ]
  },
  {
   "cell_type": "code",
   "execution_count": 36,
   "id": "d66e4001",
   "metadata": {},
   "outputs": [
    {
     "data": {
      "text/plain": [
       "0.35"
      ]
     },
     "execution_count": 36,
     "metadata": {},
     "output_type": "execute_result"
    }
   ],
   "source": [
    "accuracy_score(Y_pred_test,Y_test)"
   ]
  },
  {
   "cell_type": "code",
   "execution_count": 37,
   "id": "f05aad3c",
   "metadata": {},
   "outputs": [
    {
     "data": {
      "text/plain": [
       "0.3751945240179306"
      ]
     },
     "execution_count": 37,
     "metadata": {},
     "output_type": "execute_result"
    }
   ],
   "source": [
    "precision_score(Y_pred_test, Y_test, average='weighted')"
   ]
  },
  {
   "cell_type": "code",
   "execution_count": 38,
   "id": "125200b6",
   "metadata": {},
   "outputs": [
    {
     "data": {
      "text/plain": [
       "0.5657108322435169"
      ]
     },
     "execution_count": 38,
     "metadata": {},
     "output_type": "execute_result"
    }
   ],
   "source": [
    "precision_score(Y_pred_train, Y_train, average='weighted')"
   ]
  },
  {
   "cell_type": "code",
   "execution_count": 39,
   "id": "db8912d3",
   "metadata": {},
   "outputs": [
    {
     "data": {
      "text/plain": [
       "array([[122,  27,  48,  49],\n",
       "       [ 13,  91,  43,  32],\n",
       "       [ 29,  26, 102,  34],\n",
       "       [ 12,  14,   8,  50]], dtype=int64)"
      ]
     },
     "execution_count": 39,
     "metadata": {},
     "output_type": "execute_result"
    }
   ],
   "source": [
    "confusion_matrix(Y_pred_train, Y_train)"
   ]
  },
  {
   "cell_type": "code",
   "execution_count": 40,
   "id": "00351735",
   "metadata": {},
   "outputs": [
    {
     "data": {
      "text/plain": [
       "array([[44, 13, 21, 27],\n",
       "       [16, 19, 21, 17],\n",
       "       [20, 18, 30, 15],\n",
       "       [10,  9,  8, 12]], dtype=int64)"
      ]
     },
     "execution_count": 40,
     "metadata": {},
     "output_type": "execute_result"
    }
   ],
   "source": [
    "confusion_matrix(Y_pred_test, Y_test)"
   ]
  },
  {
   "cell_type": "code",
   "execution_count": 41,
   "id": "0886e775",
   "metadata": {},
   "outputs": [
    {
     "name": "stdout",
     "output_type": "stream",
     "text": [
      "              precision    recall  f1-score   support\n",
      "\n",
      "           1       0.69      0.50      0.58       246\n",
      "           2       0.58      0.51      0.54       179\n",
      "           3       0.51      0.53      0.52       191\n",
      "           4       0.30      0.60      0.40        84\n",
      "\n",
      "    accuracy                           0.52       700\n",
      "   macro avg       0.52      0.53      0.51       700\n",
      "weighted avg       0.57      0.52      0.53       700\n",
      "\n"
     ]
    }
   ],
   "source": [
    "print(classification_report(Y_pred_train, Y_train))"
   ]
  },
  {
   "cell_type": "code",
   "execution_count": 42,
   "id": "e7e13f7d",
   "metadata": {},
   "outputs": [
    {
     "name": "stdout",
     "output_type": "stream",
     "text": [
      "              precision    recall  f1-score   support\n",
      "\n",
      "           1       0.49      0.42      0.45       105\n",
      "           2       0.32      0.26      0.29        73\n",
      "           3       0.38      0.36      0.37        83\n",
      "           4       0.17      0.31      0.22        39\n",
      "\n",
      "    accuracy                           0.35       300\n",
      "   macro avg       0.34      0.34      0.33       300\n",
      "weighted avg       0.38      0.35      0.36       300\n",
      "\n"
     ]
    }
   ],
   "source": [
    "print(classification_report(Y_pred_test, Y_test))"
   ]
  },
  {
   "cell_type": "code",
   "execution_count": null,
   "id": "ecd5fd3c",
   "metadata": {},
   "outputs": [],
   "source": []
  }
 ],
 "metadata": {
  "kernelspec": {
   "display_name": "Python 3 (ipykernel)",
   "language": "python",
   "name": "python3"
  },
  "language_info": {
   "codemirror_mode": {
    "name": "ipython",
    "version": 3
   },
   "file_extension": ".py",
   "mimetype": "text/x-python",
   "name": "python",
   "nbconvert_exporter": "python",
   "pygments_lexer": "ipython3",
   "version": "3.9.12"
  }
 },
 "nbformat": 4,
 "nbformat_minor": 5
}
