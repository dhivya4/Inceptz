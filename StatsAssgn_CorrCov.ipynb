{
 "cells": [
  {
   "cell_type": "code",
   "execution_count": 20,
   "id": "e7e09d25",
   "metadata": {},
   "outputs": [
    {
     "name": "stdout",
     "output_type": "stream",
     "text": [
      "Requirement already satisfied: xlrd in c:\\users\\varadharajan b\\anaconda3\\lib\\site-packages (2.0.1)\n"
     ]
    }
   ],
   "source": [
    "# 1.\tIn a Sound and stereo store in Chicago the manager wants to know \n",
    "# is there any relationship between the number of weekend television commercials & sales at the store at the following week. \n",
    "# The sample data of the store is provided in the spread sheet tab. Use that to solve the below problem\n",
    "\n",
    "import numpy as np\n",
    "import pandas as pd\n",
    "!pip install xlrd\n",
    "import xlrd"
   ]
  },
  {
   "cell_type": "code",
   "execution_count": 21,
   "id": "20d05a92",
   "metadata": {},
   "outputs": [
    {
     "name": "stdout",
     "output_type": "stream",
     "text": [
      "   No of Commercials (x)  Sales Volume (K$) (y)\n",
      "0                      2                     50\n",
      "1                      5                     57\n",
      "2                      1                     41\n",
      "3                      3                     54\n",
      "4                      4                     54\n",
      "5                      1                     38\n",
      "6                      5                     63\n",
      "7                      3                     48\n",
      "8                      4                     59\n",
      "9                      2                     46\n"
     ]
    }
   ],
   "source": [
    "df = pd.read_excel('Descrip_Stats_problem_data_v1.xlsx',sheet_name='Problem1')\n",
    "print(df)\n"
   ]
  },
  {
   "cell_type": "code",
   "execution_count": 22,
   "id": "524dea1d",
   "metadata": {},
   "outputs": [
    {
     "name": "stdout",
     "output_type": "stream",
     "text": [
      "0.9304905807411791\n",
      "                       No of Commercials (x)  Sales Volume (K$) (y)\n",
      "No of Commercials (x)               1.000000               0.930491\n",
      "Sales Volume (K$) (y)               0.930491               1.000000\n"
     ]
    }
   ],
   "source": [
    "col1,col2 = 'No of Commercials (x)','Sales Volume (K$) (y)'\n",
    "print(df[col1].corr(df[col2]))\n",
    "print(df.corr())"
   ]
  },
  {
   "cell_type": "code",
   "execution_count": 23,
   "id": "af634900",
   "metadata": {},
   "outputs": [
    {
     "name": "stdout",
     "output_type": "stream",
     "text": [
      "                       No of Commercials (x)  Sales Volume (K$) (y)\n",
      "No of Commercials (x)               2.222222              11.000000\n",
      "Sales Volume (K$) (y)              11.000000              62.888889\n"
     ]
    }
   ],
   "source": [
    "# 1.\tFind the covariance between the variables and tell us is there any relationship between them\n",
    "print(df.cov())"
   ]
  },
  {
   "cell_type": "code",
   "execution_count": 24,
   "id": "9d72011a",
   "metadata": {},
   "outputs": [],
   "source": [
    "import matplotlib.pyplot as plt\n",
    "x=[2,5,1,3,4,1,5,3,4,2]\n",
    "y=[50,57,41,54,54,38,63,48,59,46]"
   ]
  },
  {
   "cell_type": "code",
   "execution_count": 25,
   "id": "66c0676d",
   "metadata": {},
   "outputs": [
    {
     "data": {
      "text/plain": [
       "<matplotlib.collections.PathCollection at 0x1d35b3956d0>"
      ]
     },
     "execution_count": 25,
     "metadata": {},
     "output_type": "execute_result"
    },
    {
     "data": {
      "image/png": "[encoded data removed]",
      "text/plain": [
       "<Figure size 432x288 with 1 Axes>"
      ]
     },
     "metadata": {
      "needs_background": "light"
     },
     "output_type": "display_data"
    }
   ],
   "source": [
    "plt.scatter(x,y,c=\"pink\")"
   ]
  },
  {
   "cell_type": "code",
   "execution_count": 26,
   "id": "d9050b64",
   "metadata": {},
   "outputs": [
    {
     "name": "stdout",
     "output_type": "stream",
     "text": [
      "   No of Commercials (x)  Sales Volume ($) (y)\n",
      "0                      2                 50000\n",
      "1                      5                 57000\n",
      "2                      1                 41000\n",
      "3                      3                 54000\n",
      "4                      4                 54000\n",
      "5                      1                 38000\n",
      "6                      5                 63000\n",
      "7                      3                 48000\n",
      "8                      4                 59000\n",
      "9                      2                 46000\n"
     ]
    }
   ],
   "source": [
    "# 2.\tIn the above problem the Manager has been provided the data with the sales amount measured in Kilo $ (1000$).\n",
    "# But now the sales team provides a new data in Tab 2 with the amount in $.\n",
    "# Does this unit of measurement impact the covariance and correlation calculated in problem1.\n",
    "#The data is in Tab2\n",
    "# Calculate the new covariance and correlation and confirm \n",
    "\n",
    "df2 = pd.read_excel('Descrip_Stats_problem_data_v1.xlsx',sheet_name='Problem2')\n",
    "print(df2)\n",
    "\n"
   ]
  },
  {
   "cell_type": "code",
   "execution_count": 27,
   "id": "458c3e19",
   "metadata": {},
   "outputs": [
    {
     "name": "stdout",
     "output_type": "stream",
     "text": [
      "                       No of Commercials (x)  Sales Volume (K$) (y)\n",
      "No of Commercials (x)               1.000000               0.930491\n",
      "Sales Volume (K$) (y)               0.930491               1.000000\n",
      "                       No of Commercials (x)  Sales Volume (K$) (y)\n",
      "No of Commercials (x)               2.222222              11.000000\n",
      "Sales Volume (K$) (y)              11.000000              62.888889\n"
     ]
    }
   ],
   "source": [
    "# The Correlation and Covariance for both the tabs are same\n",
    "print(df.corr())\n",
    "print(df.cov())"
   ]
  },
  {
   "cell_type": "code",
   "execution_count": 28,
   "id": "b7a31890",
   "metadata": {},
   "outputs": [
    {
     "name": "stdout",
     "output_type": "stream",
     "text": [
      "             State  Sales\n",
      "0         Arizona    8408\n",
      "1      California    1374\n",
      "2        Colorado    1872\n",
      "3         Florida    8879\n",
      "4         Georgia    2459\n",
      "5          Kansas   11413\n",
      "6        Kentucky     608\n",
      "7             Ohio  14138\n",
      "8        Maryland    6452\n",
      "9   Massachusetts    1850\n",
      "10       Michigan    2818\n",
      "11    Mississippi    1356\n",
      "12       Missouri   10498\n",
      "13     New Jersey    7478\n",
      "14      Louisiana    4019\n",
      "15       Oklahoma    4341\n",
      "16      Tennessee     739\n",
      "17          Texas    2127\n",
      "18       Virginia    3653\n",
      "19     Washington    5794\n",
      "20  West Virginia    8305\n"
     ]
    }
   ],
   "source": [
    "# 3.\tThe sales report about the pharmaceutical company  in million $ for the 21 states in US has been provided in spreadsheet\n",
    "# 1.\tProvide the five number summary of the box plot\n",
    "df3 = pd.read_excel('Descrip_Stats_problem_data_v1.xlsx',sheet_name='Problem3')\n",
    "print(df3)\n"
   ]
  },
  {
   "cell_type": "code",
   "execution_count": 29,
   "id": "4c4c7b01",
   "metadata": {},
   "outputs": [
    {
     "data": {
      "text/html": [
       "<div>\n",
       "<style scoped>\n",
       "    .dataframe tbody tr th:only-of-type {\n",
       "        vertical-align: middle;\n",
       "    }\n",
       "\n",
       "    .dataframe tbody tr th {\n",
       "        vertical-align: top;\n",
       "    }\n",
       "\n",
       "    .dataframe thead th {\n",
       "        text-align: right;\n",
       "    }\n",
       "</style>\n",
       "<table border=\"1\" class=\"dataframe\">\n",
       "  <thead>\n",
       "    <tr style=\"text-align: right;\">\n",
       "      <th></th>\n",
       "      <th>State</th>\n",
       "      <th>Sales</th>\n",
       "    </tr>\n",
       "  </thead>\n",
       "  <tbody>\n",
       "    <tr>\n",
       "      <th>0</th>\n",
       "      <td>Arizona</td>\n",
       "      <td>8408</td>\n",
       "    </tr>\n",
       "    <tr>\n",
       "      <th>1</th>\n",
       "      <td>California</td>\n",
       "      <td>1374</td>\n",
       "    </tr>\n",
       "    <tr>\n",
       "      <th>2</th>\n",
       "      <td>Colorado</td>\n",
       "      <td>1872</td>\n",
       "    </tr>\n",
       "    <tr>\n",
       "      <th>3</th>\n",
       "      <td>Florida</td>\n",
       "      <td>8879</td>\n",
       "    </tr>\n",
       "    <tr>\n",
       "      <th>4</th>\n",
       "      <td>Georgia</td>\n",
       "      <td>2459</td>\n",
       "    </tr>\n",
       "  </tbody>\n",
       "</table>\n",
       "</div>"
      ],
      "text/plain": [
       "         State  Sales\n",
       "0     Arizona    8408\n",
       "1  California    1374\n",
       "2    Colorado    1872\n",
       "3     Florida    8879\n",
       "4     Georgia    2459"
      ]
     },
     "execution_count": 29,
     "metadata": {},
     "output_type": "execute_result"
    }
   ],
   "source": [
    "df3.head()"
   ]
  },
  {
   "cell_type": "code",
   "execution_count": 30,
   "id": "31f0dde1",
   "metadata": {},
   "outputs": [
    {
     "data": {
      "text/html": [
       "<div>\n",
       "<style scoped>\n",
       "    .dataframe tbody tr th:only-of-type {\n",
       "        vertical-align: middle;\n",
       "    }\n",
       "\n",
       "    .dataframe tbody tr th {\n",
       "        vertical-align: top;\n",
       "    }\n",
       "\n",
       "    .dataframe thead th {\n",
       "        text-align: right;\n",
       "    }\n",
       "</style>\n",
       "<table border=\"1\" class=\"dataframe\">\n",
       "  <thead>\n",
       "    <tr style=\"text-align: right;\">\n",
       "      <th></th>\n",
       "      <th>Sales</th>\n",
       "    </tr>\n",
       "  </thead>\n",
       "  <tbody>\n",
       "    <tr>\n",
       "      <th>count</th>\n",
       "      <td>21.000000</td>\n",
       "    </tr>\n",
       "    <tr>\n",
       "      <th>mean</th>\n",
       "      <td>5170.523810</td>\n",
       "    </tr>\n",
       "    <tr>\n",
       "      <th>std</th>\n",
       "      <td>3917.732707</td>\n",
       "    </tr>\n",
       "    <tr>\n",
       "      <th>min</th>\n",
       "      <td>608.000000</td>\n",
       "    </tr>\n",
       "    <tr>\n",
       "      <th>25%</th>\n",
       "      <td>1872.000000</td>\n",
       "    </tr>\n",
       "    <tr>\n",
       "      <th>50%</th>\n",
       "      <td>4019.000000</td>\n",
       "    </tr>\n",
       "    <tr>\n",
       "      <th>75%</th>\n",
       "      <td>8305.000000</td>\n",
       "    </tr>\n",
       "    <tr>\n",
       "      <th>max</th>\n",
       "      <td>14138.000000</td>\n",
       "    </tr>\n",
       "  </tbody>\n",
       "</table>\n",
       "</div>"
      ],
      "text/plain": [
       "              Sales\n",
       "count     21.000000\n",
       "mean    5170.523810\n",
       "std     3917.732707\n",
       "min      608.000000\n",
       "25%     1872.000000\n",
       "50%     4019.000000\n",
       "75%     8305.000000\n",
       "max    14138.000000"
      ]
     },
     "execution_count": 30,
     "metadata": {},
     "output_type": "execute_result"
    }
   ],
   "source": [
    "df3.describe()\n",
    "# minimum value after sorting\n",
    "# (25/100 * (n+1)) => 5.5 => 6th data in the column => 1872\n",
    "# (50/100 * (n+1)) => 11 => 11th data in the column => 4019\n",
    "# (75/100 * (n+1)) => 5.75 => 16.5th data in the column => 8305\n",
    "# maximum value after sorting"
   ]
  },
  {
   "cell_type": "code",
   "execution_count": 31,
   "id": "f52d6a09",
   "metadata": {},
   "outputs": [
    {
     "data": {
      "image/png": "[encoded data removed]",
      "text/plain": [
       "<Figure size 432x288 with 1 Axes>"
      ]
     },
     "metadata": {
      "needs_background": "light"
     },
     "output_type": "display_data"
    }
   ],
   "source": [
    "import seaborn as sns\n",
    "sns.boxplot(x = df3['Sales'])\n",
    "plt.show()\n"
   ]
  },
  {
   "cell_type": "code",
   "execution_count": 32,
   "id": "aacd0340",
   "metadata": {},
   "outputs": [
    {
     "name": "stdout",
     "output_type": "stream",
     "text": [
      "1872.0\n",
      "8305.0\n",
      "6433.0\n"
     ]
    }
   ],
   "source": [
    "Q1 = df3['Sales'].quantile(0.25)\n",
    "Q3 = df3['Sales'].quantile(0.75)\n",
    "IQR = Q3-Q1\n",
    "print(Q1)\n",
    "print(Q3)\n",
    "print(IQR)\n",
    "\n",
    "\n",
    "#print(df3['Sales'] < (Q1 - 1.5 * IQR)) | (df3['Sales'] > (Q3 + 1.5 * IQR))"
   ]
  },
  {
   "cell_type": "code",
   "execution_count": 33,
   "id": "41b31fab",
   "metadata": {},
   "outputs": [
    {
     "name": "stdout",
     "output_type": "stream",
     "text": [
      "-7777.5\n",
      "17954.5\n"
     ]
    }
   ],
   "source": [
    "# 2.\tCompute the lower and upper limits\n",
    "lower_lim = Q1 - 1.5 * IQR\n",
    "upper_lim = Q3 + 1.5 * IQR\n",
    "print(lower_lim)\n",
    "print(upper_lim)\n",
    "#3 There are no values beyond the upper limit and lowe limit and no outliers will be seen\n",
    "#4 As the value 41318 for Ohio falls beyond the upper_lim value => 17,954 , it is considered as an potential outlier"
   ]
  },
  {
   "cell_type": "code",
   "execution_count": 36,
   "id": "a49b5a25",
   "metadata": {},
   "outputs": [
    {
     "data": {
      "text/plain": [
       "State    Washington \n",
       "Sales           5794\n",
       "Name: 19, dtype: object"
      ]
     },
     "metadata": {},
     "output_type": "display_data"
    }
   ],
   "source": [
    "display(df3.iloc[19])"
   ]
  },
  {
   "cell_type": "code",
   "execution_count": 59,
   "id": "4481946d",
   "metadata": {},
   "outputs": [
    {
     "name": "stdout",
     "output_type": "stream",
     "text": [
      "             State  Sales  Percentile Rank\n",
      "0         Arizona    8408         0.809524\n",
      "1      California    1374         0.190476\n",
      "2        Colorado    1872         0.285714\n",
      "3         Florida    8879         0.857143\n",
      "4         Georgia    2459         0.380952\n",
      "5          Kansas   11413         0.952381\n",
      "6        Kentucky     608         0.047619\n",
      "7             Ohio  14138         1.000000\n",
      "8        Maryland    6452         0.666667\n",
      "9   Massachusetts    1850         0.238095\n",
      "10       Michigan    2818         0.428571\n",
      "11    Mississippi    1356         0.142857\n",
      "12       Missouri   10498         0.904762\n",
      "13     New Jersey    7478         0.714286\n",
      "14      Louisiana    4019         0.523810\n",
      "15       Oklahoma    4341         0.571429\n",
      "16      Tennessee     739         0.095238\n",
      "17          Texas    2127         0.333333\n",
      "18       Virginia    3653         0.476190\n",
      "19     Washington    5794         0.619048\n",
      "20  West Virginia    8305         0.761905\n"
     ]
    }
   ],
   "source": [
    "#5 Washington Percentile\n",
    "Result = df3['Percentile Rank'] = df3.Sales.rank(pct = True)\n",
    "print(df3)"
   ]
  },
  {
   "cell_type": "code",
   "execution_count": 46,
   "id": "42e1d450",
   "metadata": {},
   "outputs": [
    {
     "name": "stdout",
     "output_type": "stream",
     "text": [
      "6044.671680000001\n"
     ]
    }
   ],
   "source": [
    "print(df3['Sales'].quantile(q=0.619048))"
   ]
  },
  {
   "cell_type": "code",
   "execution_count": 73,
   "id": "4cf722a9",
   "metadata": {},
   "outputs": [
    {
     "name": "stdout",
     "output_type": "stream",
     "text": [
      "             State    Sales  Percentile Rank\n",
      "0         Arizona    8408.0         0.809524\n",
      "1              NaN      NaN              NaN\n",
      "2              NaN      NaN              NaN\n",
      "3         Florida    8879.0         0.857143\n",
      "4              NaN      NaN              NaN\n",
      "5          Kansas   11413.0         0.952381\n",
      "6              NaN      NaN              NaN\n",
      "7             Ohio  14138.0         1.000000\n",
      "8        Maryland    6452.0         0.666667\n",
      "9              NaN      NaN              NaN\n",
      "10             NaN      NaN              NaN\n",
      "11             NaN      NaN              NaN\n",
      "12       Missouri   10498.0         0.904762\n",
      "13     New Jersey    7478.0         0.714286\n",
      "14             NaN      NaN              NaN\n",
      "15             NaN      NaN              NaN\n",
      "16             NaN      NaN              NaN\n",
      "17             NaN      NaN              NaN\n",
      "18             NaN      NaN              NaN\n",
      "19     Washington    5794.0         0.619048\n",
      "20  West Virginia    8305.0         0.761905\n"
     ]
    }
   ],
   "source": [
    "df4 = print(df3.where((df3['Percentile Rank'] >= 0.61)))"
   ]
  },
  {
   "cell_type": "code",
   "execution_count": 74,
   "id": "368ac878",
   "metadata": {},
   "outputs": [
    {
     "name": "stdout",
     "output_type": "stream",
     "text": [
      "8879.0\n"
     ]
    }
   ],
   "source": [
    "# 6.\tWhat is the 85th percentile ?\n",
    "print(df3['Sales'].quantile(q=0.85))"
   ]
  },
  {
   "cell_type": "code",
   "execution_count": 77,
   "id": "4b7cc741",
   "metadata": {},
   "outputs": [
    {
     "name": "stdout",
     "output_type": "stream",
     "text": [
      "    Player A  Player B\n",
      "0         25         0\n",
      "1         40        25\n",
      "2         38        22\n",
      "3         48        38\n",
      "4         51        25\n",
      "5         35        45\n",
      "6        100        51\n",
      "7         25        60\n",
      "8         15        62\n",
      "9         20        93\n",
      "10        21        68\n",
      "11        25        63\n",
      "12        35        42\n",
      "13        40         9\n",
      "14         7         3\n",
      "15        12         5\n",
      "16        25        20\n",
      "17        40        14\n",
      "18        42        18\n",
      "19        56        37\n"
     ]
    },
    {
     "data": {
      "text/html": [
       "<div>\n",
       "<style scoped>\n",
       "    .dataframe tbody tr th:only-of-type {\n",
       "        vertical-align: middle;\n",
       "    }\n",
       "\n",
       "    .dataframe tbody tr th {\n",
       "        vertical-align: top;\n",
       "    }\n",
       "\n",
       "    .dataframe thead th {\n",
       "        text-align: right;\n",
       "    }\n",
       "</style>\n",
       "<table border=\"1\" class=\"dataframe\">\n",
       "  <thead>\n",
       "    <tr style=\"text-align: right;\">\n",
       "      <th></th>\n",
       "      <th>Player A</th>\n",
       "      <th>Player B</th>\n",
       "    </tr>\n",
       "  </thead>\n",
       "  <tbody>\n",
       "    <tr>\n",
       "      <th>count</th>\n",
       "      <td>20.000000</td>\n",
       "      <td>20.000000</td>\n",
       "    </tr>\n",
       "    <tr>\n",
       "      <th>mean</th>\n",
       "      <td>35.000000</td>\n",
       "      <td>35.000000</td>\n",
       "    </tr>\n",
       "    <tr>\n",
       "      <th>std</th>\n",
       "      <td>20.206825</td>\n",
       "      <td>25.296141</td>\n",
       "    </tr>\n",
       "    <tr>\n",
       "      <th>min</th>\n",
       "      <td>7.000000</td>\n",
       "      <td>0.000000</td>\n",
       "    </tr>\n",
       "    <tr>\n",
       "      <th>25%</th>\n",
       "      <td>24.000000</td>\n",
       "      <td>17.000000</td>\n",
       "    </tr>\n",
       "    <tr>\n",
       "      <th>50%</th>\n",
       "      <td>35.000000</td>\n",
       "      <td>31.000000</td>\n",
       "    </tr>\n",
       "    <tr>\n",
       "      <th>75%</th>\n",
       "      <td>40.500000</td>\n",
       "      <td>53.250000</td>\n",
       "    </tr>\n",
       "    <tr>\n",
       "      <th>max</th>\n",
       "      <td>100.000000</td>\n",
       "      <td>93.000000</td>\n",
       "    </tr>\n",
       "  </tbody>\n",
       "</table>\n",
       "</div>"
      ],
      "text/plain": [
       "         Player A   Player B\n",
       "count   20.000000  20.000000\n",
       "mean    35.000000  35.000000\n",
       "std     20.206825  25.296141\n",
       "min      7.000000   0.000000\n",
       "25%     24.000000  17.000000\n",
       "50%     35.000000  31.000000\n",
       "75%     40.500000  53.250000\n",
       "max    100.000000  93.000000"
      ]
     },
     "execution_count": 77,
     "metadata": {},
     "output_type": "execute_result"
    }
   ],
   "source": [
    "# 4.\tIn an IPL auction a team wants to buy a foreign player who is an all-rounder to balance their side. \n",
    "#The team has the budget to spend on only one player and they are looking for a player who could help them \n",
    "#in their batting department. The franchise now has the data with the runs scored by player A and player B \n",
    "#in their last 20 matches and are confused on their selection\n",
    "Player = pd.read_excel('Descrip_Stats_problem_data_v1.xlsx',sheet_name='Problem4')\n",
    "print(Player)\n",
    "Player.describe()\n",
    "\n",
    "#Player A has outlier \n"
   ]
  },
  {
   "cell_type": "code",
   "execution_count": 78,
   "id": "47234ba4",
   "metadata": {},
   "outputs": [
    {
     "data": {
      "text/plain": [
       "<AxesSubplot:>"
      ]
     },
     "execution_count": 78,
     "metadata": {},
     "output_type": "execute_result"
    },
    {
     "data": {
      "image/png": "[encoded data removed]",
      "text/plain": [
       "<Figure size 432x288 with 1 Axes>"
      ]
     },
     "metadata": {
      "needs_background": "light"
     },
     "output_type": "display_data"
    }
   ],
   "source": [
    "Player.plot.box()"
   ]
  },
  {
   "cell_type": "code",
   "execution_count": 83,
   "id": "e6d1264c",
   "metadata": {},
   "outputs": [
    {
     "name": "stdout",
     "output_type": "stream",
     "text": [
      "0      25\n",
      "1      40\n",
      "2      38\n",
      "3      48\n",
      "4      51\n",
      "5      35\n",
      "6     100\n",
      "7      25\n",
      "8      15\n",
      "9      20\n",
      "10     21\n",
      "11     25\n",
      "12     35\n",
      "13     40\n",
      "14      7\n",
      "15     12\n",
      "16     25\n",
      "17     40\n",
      "18     42\n",
      "19     56\n",
      "Name: Player A, dtype: int64\n"
     ]
    }
   ],
   "source": [
    "P = Player['Player A'].copy()\n",
    "print(P)"
   ]
  },
  {
   "cell_type": "code",
   "execution_count": 93,
   "id": "28a484b9",
   "metadata": {},
   "outputs": [
    {
     "name": "stdout",
     "output_type": "stream",
     "text": [
      "[25, 40, 38, 48, 51, 35, 100, 25, 15, 20, 21, 25, 35, 40, 7, 12, 25, 40, 42, 56]\n"
     ]
    }
   ],
   "source": [
    "P = P.to_list()\n",
    "print(P)"
   ]
  },
  {
   "cell_type": "code",
   "execution_count": null,
   "id": "1e4e6579",
   "metadata": {},
   "outputs": [],
   "source": []
  }
 ],
 "metadata": {
  "kernelspec": {
   "display_name": "Python 3 (ipykernel)",
   "language": "python",
   "name": "python3"
  },
  "language_info": {
   "codemirror_mode": {
    "name": "ipython",
    "version": 3
   },
   "file_extension": ".py",
   "mimetype": "text/x-python",
   "name": "python",
   "nbconvert_exporter": "python",
   "pygments_lexer": "ipython3",
   "version": "3.9.12"
  }
 },
 "nbformat": 4,
 "nbformat_minor": 5
}
