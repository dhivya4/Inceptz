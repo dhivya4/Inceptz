{
 "cells": [
  {
   "cell_type": "code",
   "execution_count": 1,
   "id": "fe46d74b",
   "metadata": {
    "_cell_guid": "b1076dfc-b9ad-4769-8c92-a6c4dae69d19",
    "_uuid": "8f2839f25d086af736a60e9eeb907d3b93b6e0e5",
    "execution": {
     "iopub.execute_input": "2022-08-28T02:33:20.024427Z",
     "iopub.status.busy": "2022-08-28T02:33:20.023937Z",
     "iopub.status.idle": "2022-08-28T02:33:21.285811Z",
     "shell.execute_reply": "2022-08-28T02:33:21.284867Z"
    },
    "papermill": {
     "duration": 1.27197,
     "end_time": "2022-08-28T02:33:21.288469",
     "exception": false,
     "start_time": "2022-08-28T02:33:20.016499",
     "status": "completed"
    },
    "tags": []
   },
   "outputs": [],
   "source": [
    "import pandas as pd\n",
    "import numpy as np\n",
    "import matplotlib.pyplot as plt\n",
    "import seaborn as sns\n"
   ]
  },
  {
   "cell_type": "code",
   "execution_count": 2,
   "id": "4bc4ab97",
   "metadata": {
    "execution": {
     "iopub.execute_input": "2022-08-28T02:33:21.299614Z",
     "iopub.status.busy": "2022-08-28T02:33:21.298913Z",
     "iopub.status.idle": "2022-08-28T02:33:21.335029Z",
     "shell.execute_reply": "2022-08-28T02:33:21.333801Z"
    },
    "papermill": {
     "duration": 0.044871,
     "end_time": "2022-08-28T02:33:21.338099",
     "exception": false,
     "start_time": "2022-08-28T02:33:21.293228",
     "status": "completed"
    },
    "tags": []
   },
   "outputs": [
    {
     "name": "stdout",
     "output_type": "stream",
     "text": [
      "    Unnamed: 0                    Company Name       Job Title  \\\n",
      "0            0                        Mu Sigma  Data Scientist   \n",
      "1            1                             IBM  Data Scientist   \n",
      "2            2       Tata Consultancy Services  Data Scientist   \n",
      "3            3                Impact Analytics  Data Scientist   \n",
      "4            4                       Accenture  Data Scientist   \n",
      "5            5                         Infosys  Data Scientist   \n",
      "6            6                       Capgemini  Data Scientist   \n",
      "7            7  Cognizant Technology Solutions  Data Scientist   \n",
      "8            8            Anheuser-Busch InBev  Data Scientist   \n",
      "9            9                         Fractal  Data Scientist   \n",
      "10          10                          Embibe  Data Scientist   \n",
      "11          11                          Amazon  Data Scientist   \n",
      "12          12                          Google  Data Scientist   \n",
      "13          13                        Flipkart  Data Scientist   \n",
      "14          14                         HP Inc.  Data Scientist   \n",
      "\n",
      "    Salaries Reported   Location     Salary  \n",
      "0                 105  Bangalore   648573.0  \n",
      "1                  95  Bangalore  1191950.0  \n",
      "2                  66  Bangalore   836874.0  \n",
      "3                  40  Bangalore   669578.0  \n",
      "4                  32  Bangalore   944110.0  \n",
      "5                  30  Bangalore   908764.0  \n",
      "6                  28  Bangalore   926124.0  \n",
      "7                  26  Bangalore   736708.0  \n",
      "8                  25  Bangalore  1646721.0  \n",
      "9                  22  Bangalore  1392960.0  \n",
      "10                 20  Bangalore  1404773.0  \n",
      "11                 19  Bangalore  1507343.0  \n",
      "12                 19  Bangalore  1558095.0  \n",
      "13                 18  Bangalore  2557843.0  \n",
      "14                 16  Bangalore  1510081.0  \n"
     ]
    }
   ],
   "source": [
    "DS_Salary_df = pd.read_csv(\"../input/analytics-salary-data/Partially Cleaned Salary Dataset.csv\")\n",
    "print(DS_Salary_df.head(15))"
   ]
  },
  {
   "cell_type": "code",
   "execution_count": 3,
   "id": "950227d6",
   "metadata": {
    "execution": {
     "iopub.execute_input": "2022-08-28T02:33:21.350182Z",
     "iopub.status.busy": "2022-08-28T02:33:21.349721Z",
     "iopub.status.idle": "2022-08-28T02:33:21.359674Z",
     "shell.execute_reply": "2022-08-28T02:33:21.358371Z"
    },
    "papermill": {
     "duration": 0.018772,
     "end_time": "2022-08-28T02:33:21.361986",
     "exception": false,
     "start_time": "2022-08-28T02:33:21.343214",
     "status": "completed"
    },
    "tags": []
   },
   "outputs": [
    {
     "data": {
      "text/plain": [
       "(4339, 6)"
      ]
     },
     "execution_count": 3,
     "metadata": {},
     "output_type": "execute_result"
    }
   ],
   "source": [
    "DS_Salary_df.shape"
   ]
  },
  {
   "cell_type": "code",
   "execution_count": 4,
   "id": "0fef9290",
   "metadata": {
    "execution": {
     "iopub.execute_input": "2022-08-28T02:33:21.373578Z",
     "iopub.status.busy": "2022-08-28T02:33:21.373193Z",
     "iopub.status.idle": "2022-08-28T02:33:21.380928Z",
     "shell.execute_reply": "2022-08-28T02:33:21.379513Z"
    },
    "papermill": {
     "duration": 0.016357,
     "end_time": "2022-08-28T02:33:21.383377",
     "exception": false,
     "start_time": "2022-08-28T02:33:21.367020",
     "status": "completed"
    },
    "tags": []
   },
   "outputs": [
    {
     "data": {
      "text/plain": [
       "Unnamed: 0             int64\n",
       "Company Name          object\n",
       "Job Title             object\n",
       "Salaries Reported      int64\n",
       "Location              object\n",
       "Salary               float64\n",
       "dtype: object"
      ]
     },
     "execution_count": 4,
     "metadata": {},
     "output_type": "execute_result"
    }
   ],
   "source": [
    "DS_Salary_df.dtypes"
   ]
  },
  {
   "cell_type": "code",
   "execution_count": 5,
   "id": "d10d84a5",
   "metadata": {
    "execution": {
     "iopub.execute_input": "2022-08-28T02:33:21.395267Z",
     "iopub.status.busy": "2022-08-28T02:33:21.394769Z",
     "iopub.status.idle": "2022-08-28T02:33:21.432318Z",
     "shell.execute_reply": "2022-08-28T02:33:21.431090Z"
    },
    "papermill": {
     "duration": 0.046549,
     "end_time": "2022-08-28T02:33:21.435033",
     "exception": false,
     "start_time": "2022-08-28T02:33:21.388484",
     "status": "completed"
    },
    "tags": []
   },
   "outputs": [
    {
     "data": {
      "text/html": [
       "<div>\n",
       "<style scoped>\n",
       "    .dataframe tbody tr th:only-of-type {\n",
       "        vertical-align: middle;\n",
       "    }\n",
       "\n",
       "    .dataframe tbody tr th {\n",
       "        vertical-align: top;\n",
       "    }\n",
       "\n",
       "    .dataframe thead th {\n",
       "        text-align: right;\n",
       "    }\n",
       "</style>\n",
       "<table border=\"1\" class=\"dataframe\">\n",
       "  <thead>\n",
       "    <tr style=\"text-align: right;\">\n",
       "      <th></th>\n",
       "      <th>Unnamed: 0</th>\n",
       "      <th>Salaries Reported</th>\n",
       "      <th>Salary</th>\n",
       "    </tr>\n",
       "  </thead>\n",
       "  <tbody>\n",
       "    <tr>\n",
       "      <th>count</th>\n",
       "      <td>4339.000000</td>\n",
       "      <td>4339.000000</td>\n",
       "      <td>4.339000e+03</td>\n",
       "    </tr>\n",
       "    <tr>\n",
       "      <th>mean</th>\n",
       "      <td>2169.900899</td>\n",
       "      <td>2.777138</td>\n",
       "      <td>1.119885e+06</td>\n",
       "    </tr>\n",
       "    <tr>\n",
       "      <th>std</th>\n",
       "      <td>1253.742778</td>\n",
       "      <td>5.148095</td>\n",
       "      <td>4.300905e+06</td>\n",
       "    </tr>\n",
       "    <tr>\n",
       "      <th>min</th>\n",
       "      <td>0.000000</td>\n",
       "      <td>1.000000</td>\n",
       "      <td>1.081400e+04</td>\n",
       "    </tr>\n",
       "    <tr>\n",
       "      <th>25%</th>\n",
       "      <td>1084.500000</td>\n",
       "      <td>1.000000</td>\n",
       "      <td>4.199380e+05</td>\n",
       "    </tr>\n",
       "    <tr>\n",
       "      <th>50%</th>\n",
       "      <td>2169.000000</td>\n",
       "      <td>1.000000</td>\n",
       "      <td>7.062830e+05</td>\n",
       "    </tr>\n",
       "    <tr>\n",
       "      <th>75%</th>\n",
       "      <td>3255.500000</td>\n",
       "      <td>3.000000</td>\n",
       "      <td>1.196675e+06</td>\n",
       "    </tr>\n",
       "    <tr>\n",
       "      <th>max</th>\n",
       "      <td>4343.000000</td>\n",
       "      <td>105.000000</td>\n",
       "      <td>1.661404e+08</td>\n",
       "    </tr>\n",
       "  </tbody>\n",
       "</table>\n",
       "</div>"
      ],
      "text/plain": [
       "        Unnamed: 0  Salaries Reported        Salary\n",
       "count  4339.000000        4339.000000  4.339000e+03\n",
       "mean   2169.900899           2.777138  1.119885e+06\n",
       "std    1253.742778           5.148095  4.300905e+06\n",
       "min       0.000000           1.000000  1.081400e+04\n",
       "25%    1084.500000           1.000000  4.199380e+05\n",
       "50%    2169.000000           1.000000  7.062830e+05\n",
       "75%    3255.500000           3.000000  1.196675e+06\n",
       "max    4343.000000         105.000000  1.661404e+08"
      ]
     },
     "execution_count": 5,
     "metadata": {},
     "output_type": "execute_result"
    }
   ],
   "source": [
    "DS_Salary_df.describe()"
   ]
  },
  {
   "cell_type": "code",
   "execution_count": 6,
   "id": "b6db7d69",
   "metadata": {
    "execution": {
     "iopub.execute_input": "2022-08-28T02:33:21.447423Z",
     "iopub.status.busy": "2022-08-28T02:33:21.446452Z",
     "iopub.status.idle": "2022-08-28T02:33:21.456742Z",
     "shell.execute_reply": "2022-08-28T02:33:21.455393Z"
    },
    "papermill": {
     "duration": 0.019964,
     "end_time": "2022-08-28T02:33:21.460165",
     "exception": false,
     "start_time": "2022-08-28T02:33:21.440201",
     "status": "completed"
    },
    "tags": []
   },
   "outputs": [
    {
     "name": "stdout",
     "output_type": "stream",
     "text": [
      "Maximun Salary = ₹ 166140358\n",
      "Minimum Salary = ₹ 10814\n"
     ]
    }
   ],
   "source": [
    "print(\"Maximun Salary = ₹\", round(DS_Salary_df[\"Salary\"].max()))\n",
    "print(\"Minimum Salary = ₹\", round(DS_Salary_df[\"Salary\"].min()))"
   ]
  },
  {
   "cell_type": "code",
   "execution_count": 7,
   "id": "80d76290",
   "metadata": {
    "execution": {
     "iopub.execute_input": "2022-08-28T02:33:21.472988Z",
     "iopub.status.busy": "2022-08-28T02:33:21.472171Z",
     "iopub.status.idle": "2022-08-28T02:33:21.484799Z",
     "shell.execute_reply": "2022-08-28T02:33:21.482836Z"
    },
    "papermill": {
     "duration": 0.022158,
     "end_time": "2022-08-28T02:33:21.487676",
     "exception": false,
     "start_time": "2022-08-28T02:33:21.465518",
     "status": "completed"
    },
    "tags": []
   },
   "outputs": [
    {
     "name": "stdout",
     "output_type": "stream",
     "text": [
      "Unnamed: 0           4339\n",
      "Company Name         2528\n",
      "Job Title              25\n",
      "Salaries Reported      49\n",
      "Location                5\n",
      "Salary               3071\n",
      "dtype: int64\n"
     ]
    }
   ],
   "source": [
    "\n",
    "print(DS_Salary_df.nunique())"
   ]
  },
  {
   "cell_type": "code",
   "execution_count": 8,
   "id": "6f9c3374",
   "metadata": {
    "execution": {
     "iopub.execute_input": "2022-08-28T02:33:21.500377Z",
     "iopub.status.busy": "2022-08-28T02:33:21.499923Z",
     "iopub.status.idle": "2022-08-28T02:33:21.512350Z",
     "shell.execute_reply": "2022-08-28T02:33:21.510838Z"
    },
    "papermill": {
     "duration": 0.023078,
     "end_time": "2022-08-28T02:33:21.516013",
     "exception": false,
     "start_time": "2022-08-28T02:33:21.492935",
     "status": "completed"
    },
    "tags": []
   },
   "outputs": [
    {
     "name": "stdout",
     "output_type": "stream",
     "text": [
      "                                    Company Name  Salaries Reported     Salary\n",
      "0                                       Mu Sigma                105   648573.0\n",
      "1                                            IBM                 95  1191950.0\n",
      "2                      Tata Consultancy Services                 66   836874.0\n",
      "3                               Impact Analytics                 40   669578.0\n",
      "4                                      Accenture                 32   944110.0\n",
      "5                                        Infosys                 30   908764.0\n",
      "6                                      Capgemini                 28   926124.0\n",
      "7                 Cognizant Technology Solutions                 26   736708.0\n",
      "8                           Anheuser-Busch InBev                 25  1646721.0\n",
      "9                                        Fractal                 22  1392960.0\n",
      "10                                        Embibe                 20  1404773.0\n",
      "11                                        Amazon                 19  1507343.0\n",
      "12                                        Google                 19  1558095.0\n",
      "13                                      Flipkart                 18  2557843.0\n",
      "14                                       HP Inc.                 16  1510081.0\n",
      "15                                         Wipro                 15   732821.0\n",
      "16                            Ericsson-Worldwide                 15  1221750.0\n",
      "17                                           MiQ                 15  1739484.0\n",
      "18                                      Deloitte                 14  1124939.0\n",
      "19                                     Microsoft                 14  1630396.0\n",
      "20                                       Genpact                 14  1009436.0\n",
      "21                                       Fresher                 14   550980.0\n",
      "22                              Société Générale                 13  1870000.0\n",
      "23                                       Flutura                 13   758376.0\n",
      "24                                   Fuzzy Logix                 13  1556575.0\n",
      "25                                DXC Technology                 12  1194327.0\n",
      "26                                           Jio                 11  1470000.0\n",
      "27                                     Honeywell                 10  1549942.0\n",
      "28                                        Affine                 10  1009436.0\n",
      "29                                       Philips                  9  1541572.0\n",
      "30                          Bharat Light & Power                  9   811182.0\n",
      "31                                        Antuit                  9  1205874.0\n",
      "32                                       Nielsen                  9   727111.0\n",
      "33                                      [24]7.ai                  9  1923257.0\n",
      "34                          Fidelity Investments                  9  2143501.0\n",
      "35                                        Myntra                  9  1926965.0\n",
      "36                                 First Student                  9   495252.0\n",
      "37                                        Oracle                  8  1294984.0\n",
      "38                                           Ola                  8  2334960.0\n",
      "39                           Walmart Global Tech                  8  2267616.0\n",
      "40                                      Tredence                  8  1366992.0\n",
      "41                             Intel Corporation                  8  1453427.0\n",
      "42  Mercedes-Benz Research and Development India                  8  1458032.0\n",
      "43                                           SAP                  8  1730166.0\n",
      "44                            Wipro Technologies                  8   658109.0\n",
      "45                                   Thoucentric                  8   794460.0\n",
      "46                                       Walmart                  8  2567381.0\n",
      "47                                       Brillio                  8  1637231.0\n",
      "48                                Great Learning                  7   900000.0\n",
      "49                                      Gramener                  7   902935.0\n"
     ]
    }
   ],
   "source": [
    "\n",
    "print(DS_Salary_df[['Company Name', 'Salaries Reported','Salary']].head(50))"
   ]
  },
  {
   "cell_type": "code",
   "execution_count": 9,
   "id": "f884d84c",
   "metadata": {
    "execution": {
     "iopub.execute_input": "2022-08-28T02:33:21.529254Z",
     "iopub.status.busy": "2022-08-28T02:33:21.528331Z",
     "iopub.status.idle": "2022-08-28T02:33:21.541085Z",
     "shell.execute_reply": "2022-08-28T02:33:21.539829Z"
    },
    "papermill": {
     "duration": 0.022507,
     "end_time": "2022-08-28T02:33:21.543933",
     "exception": false,
     "start_time": "2022-08-28T02:33:21.521426",
     "status": "completed"
    },
    "tags": []
   },
   "outputs": [
    {
     "name": "stdout",
     "output_type": "stream",
     "text": [
      "      Unnamed: 0 Company Name                  Job Title  Salaries Reported  \\\n",
      "12            12       Google             Data Scientist                 19   \n",
      "214          214          TCS             Data Scientist                  2   \n",
      "631          631       Google             Data Scientist                  1   \n",
      "658          658      Infosys             Data Scientist                  1   \n",
      "1064        1064       Google             Data Scientist                  1   \n",
      "1273        1273      Infosys        Lead Data Scientist                  2   \n",
      "1859        1859       Google             Data Scientist                  1   \n",
      "2362        2363       Google               Data Analyst                 11   \n",
      "3441        3443       Google              Data Engineer                  1   \n",
      "3958        3960       Google  Machine Learning Engineer                  1   \n",
      "\n",
      "       Location       Salary  \n",
      "12    Bangalore   1558095.00  \n",
      "214   Bangalore   3532356.00  \n",
      "631   Bangalore   5000000.00  \n",
      "658   Bangalore  38851891.22  \n",
      "1064       Pune   7571032.00  \n",
      "1273       Pune   1653998.00  \n",
      "1859     Mumbai   9449517.96  \n",
      "2362  Hyderabad   1532909.00  \n",
      "3441  Hyderabad   2239808.00  \n",
      "3958       Pune   2480112.00  \n"
     ]
    }
   ],
   "source": [
    "print(DS_Salary_df[(DS_Salary_df.Salary > 1500000) & (DS_Salary_df['Company Name'].isin(['Infosys','CTS','TCS','Google']))])                                                                                             "
   ]
  },
  {
   "cell_type": "code",
   "execution_count": 10,
   "id": "a0c2a3ce",
   "metadata": {
    "execution": {
     "iopub.execute_input": "2022-08-28T02:33:21.557060Z",
     "iopub.status.busy": "2022-08-28T02:33:21.556411Z",
     "iopub.status.idle": "2022-08-28T02:33:21.567150Z",
     "shell.execute_reply": "2022-08-28T02:33:21.565959Z"
    },
    "papermill": {
     "duration": 0.020145,
     "end_time": "2022-08-28T02:33:21.569640",
     "exception": false,
     "start_time": "2022-08-28T02:33:21.549495",
     "status": "completed"
    },
    "tags": []
   },
   "outputs": [
    {
     "data": {
      "text/plain": [
       "Bangalore    1584\n",
       "Pune          814\n",
       "Hyderabad     669\n",
       "New Delhi     655\n",
       "Mumbai        617\n",
       "Name: Location, dtype: int64"
      ]
     },
     "execution_count": 10,
     "metadata": {},
     "output_type": "execute_result"
    }
   ],
   "source": [
    "DS_Salary_df[\"Location\"].value_counts()  "
   ]
  },
  {
   "cell_type": "code",
   "execution_count": 11,
   "id": "ba823980",
   "metadata": {
    "execution": {
     "iopub.execute_input": "2022-08-28T02:33:21.583090Z",
     "iopub.status.busy": "2022-08-28T02:33:21.582235Z",
     "iopub.status.idle": "2022-08-28T02:33:21.592066Z",
     "shell.execute_reply": "2022-08-28T02:33:21.591127Z"
    },
    "papermill": {
     "duration": 0.018922,
     "end_time": "2022-08-28T02:33:21.594229",
     "exception": false,
     "start_time": "2022-08-28T02:33:21.575307",
     "status": "completed"
    },
    "tags": []
   },
   "outputs": [
    {
     "data": {
      "text/plain": [
       "Data Scientist                          1844\n",
       "Data Analyst                             988\n",
       "Data Engineer                            804\n",
       "Machine Learning Engineer                568\n",
       "Data Science                              43\n",
       "Senior Data Scientist                     39\n",
       "Junior Data Scientist                     18\n",
       "Senior Machine Learning Engineer           9\n",
       "Lead Data Scientist                        6\n",
       "Machine Learning Scientist                 2\n",
       "Machine Learning Consultant                2\n",
       "Software Engineer - Machine Learning       2\n",
       "Machine Learning Developer                 2\n",
       "Data Science Associate                     1\n",
       "Machine Learning Software Engineer         1\n",
       "Data Science Consultant                    1\n",
       "Data Science Lead                          1\n",
       "Machine Learning Data Associate            1\n",
       "Machine Learning Data Associate I          1\n",
       "Machine Learning Associate                 1\n",
       "Machine Learning Data Associate II         1\n",
       "Associate Machine Learning Engineer        1\n",
       "Machine Learning Data Analyst              1\n",
       "Data Scientist - Trainee                   1\n",
       "Data Science Manager                       1\n",
       "Name: Job Title, dtype: int64"
      ]
     },
     "execution_count": 11,
     "metadata": {},
     "output_type": "execute_result"
    }
   ],
   "source": [
    "DS_Salary_df[\"Job Title\"].value_counts()"
   ]
  },
  {
   "cell_type": "code",
   "execution_count": 12,
   "id": "02e61965",
   "metadata": {
    "execution": {
     "iopub.execute_input": "2022-08-28T02:33:21.609137Z",
     "iopub.status.busy": "2022-08-28T02:33:21.608332Z",
     "iopub.status.idle": "2022-08-28T02:33:21.620075Z",
     "shell.execute_reply": "2022-08-28T02:33:21.618722Z"
    },
    "papermill": {
     "duration": 0.021781,
     "end_time": "2022-08-28T02:33:21.622649",
     "exception": false,
     "start_time": "2022-08-28T02:33:21.600868",
     "status": "completed"
    },
    "tags": []
   },
   "outputs": [
    {
     "name": "stdout",
     "output_type": "stream",
     "text": [
      "      Unnamed: 0               Company Name                  Job Title  \\\n",
      "0              0                   Mu Sigma             Data Scientist   \n",
      "1              1                        IBM             Data Scientist   \n",
      "2              2  Tata Consultancy Services             Data Scientist   \n",
      "1954        1954                  Accenture               Data Analyst   \n",
      "2547        2548                GlobalLogic               Data Analyst   \n",
      "4240        4245                  Quantiphi  Machine Learning Engineer   \n",
      "\n",
      "      Salaries Reported   Location     Salary  \n",
      "0                   105  Bangalore   648573.0  \n",
      "1                    95  Bangalore  1191950.0  \n",
      "2                    66  Bangalore   836874.0  \n",
      "1954                 62  Bangalore   608077.0  \n",
      "2547                 86  New Delhi   230043.0  \n",
      "4240                 81     Mumbai   839303.0  \n"
     ]
    }
   ],
   "source": [
    "rslt = DS_Salary_df.loc[(DS_Salary_df['Salaries Reported'] >= 50)]\n",
    "print(rslt)"
   ]
  },
  {
   "cell_type": "code",
   "execution_count": 13,
   "id": "d53c6034",
   "metadata": {
    "execution": {
     "iopub.execute_input": "2022-08-28T02:33:21.636423Z",
     "iopub.status.busy": "2022-08-28T02:33:21.635694Z",
     "iopub.status.idle": "2022-08-28T02:33:22.089082Z",
     "shell.execute_reply": "2022-08-28T02:33:22.087466Z"
    },
    "papermill": {
     "duration": 0.464036,
     "end_time": "2022-08-28T02:33:22.092475",
     "exception": false,
     "start_time": "2022-08-28T02:33:21.628439",
     "status": "completed"
    },
    "tags": []
   },
   "outputs": [
    {
     "data": {
      "image/png": "[encoded data removed]",
      "text/plain": [
       "<Figure size 1440x432 with 1 Axes>"
      ]
     },
     "metadata": {
      "needs_background": "light"
     },
     "output_type": "display_data"
    }
   ],
   "source": [
    "plt.figure(figsize = (20, 6))\n",
    "plt.ticklabel_format(style = 'plain')\n",
    "sns.barplot(x = DS_Salary_df[\"Salary\"], y = DS_Salary_df[\"Location\"], palette = \"tab20\");"
   ]
  },
  {
   "cell_type": "code",
   "execution_count": 14,
   "id": "f1614b39",
   "metadata": {
    "execution": {
     "iopub.execute_input": "2022-08-28T02:33:22.107281Z",
     "iopub.status.busy": "2022-08-28T02:33:22.106820Z",
     "iopub.status.idle": "2022-08-28T02:33:22.369308Z",
     "shell.execute_reply": "2022-08-28T02:33:22.367789Z"
    },
    "papermill": {
     "duration": 0.273013,
     "end_time": "2022-08-28T02:33:22.371840",
     "exception": false,
     "start_time": "2022-08-28T02:33:22.098827",
     "status": "completed"
    },
    "tags": []
   },
   "outputs": [
    {
     "data": {
      "text/plain": [
       "<AxesSubplot:ylabel='Salary'>"
      ]
     },
     "execution_count": 14,
     "metadata": {},
     "output_type": "execute_result"
    },
    {
     "data": {
      "image/png": "[encoded data removed]",
      "text/plain": [
       "<Figure size 432x288 with 1 Axes>"
      ]
     },
     "metadata": {},
     "output_type": "display_data"
    }
   ],
   "source": [
    "rslt.groupby(['Job Title']).sum().plot(\n",
    "    kind='pie', y='Salary', autopct='%1.0f%%')"
   ]
  },
  {
   "cell_type": "code",
   "execution_count": 15,
   "id": "3f7eb281",
   "metadata": {
    "execution": {
     "iopub.execute_input": "2022-08-28T02:33:22.388473Z",
     "iopub.status.busy": "2022-08-28T02:33:22.387704Z",
     "iopub.status.idle": "2022-08-28T02:34:27.961255Z",
     "shell.execute_reply": "2022-08-28T02:34:27.960211Z"
    },
    "papermill": {
     "duration": 65.585015,
     "end_time": "2022-08-28T02:34:27.963961",
     "exception": false,
     "start_time": "2022-08-28T02:33:22.378946",
     "status": "completed"
    },
    "tags": []
   },
   "outputs": [
    {
     "name": "stderr",
     "output_type": "stream",
     "text": [
      "/opt/conda/lib/python3.7/site-packages/seaborn/_decorators.py:43: FutureWarning: Pass the following variables as keyword args: x, y. From version 0.12, the only valid positional argument will be `data`, and passing other arguments without an explicit keyword will result in an error or misinterpretation.\n",
      "  FutureWarning\n",
      "/opt/conda/lib/python3.7/site-packages/seaborn/categorical.py:1296: UserWarning: 89.5% of the points cannot be placed; you may want to decrease the size of the markers or use stripplot.\n",
      "  warnings.warn(msg, UserWarning)\n",
      "/opt/conda/lib/python3.7/site-packages/seaborn/categorical.py:1296: UserWarning: 88.7% of the points cannot be placed; you may want to decrease the size of the markers or use stripplot.\n",
      "  warnings.warn(msg, UserWarning)\n",
      "/opt/conda/lib/python3.7/site-packages/seaborn/categorical.py:1296: UserWarning: 85.2% of the points cannot be placed; you may want to decrease the size of the markers or use stripplot.\n",
      "  warnings.warn(msg, UserWarning)\n",
      "/opt/conda/lib/python3.7/site-packages/seaborn/categorical.py:1296: UserWarning: 81.7% of the points cannot be placed; you may want to decrease the size of the markers or use stripplot.\n",
      "  warnings.warn(msg, UserWarning)\n",
      "/opt/conda/lib/python3.7/site-packages/seaborn/categorical.py:1296: UserWarning: 84.9% of the points cannot be placed; you may want to decrease the size of the markers or use stripplot.\n",
      "  warnings.warn(msg, UserWarning)\n"
     ]
    },
    {
     "data": {
      "image/png": "[encoded data removed]",
      "text/plain": [
       "<Figure size 1080x432 with 1 Axes>"
      ]
     },
     "metadata": {
      "needs_background": "light"
     },
     "output_type": "display_data"
    }
   ],
   "source": [
    "plt.figure(figsize = (15, 6))\n",
    "plt.grid()\n",
    "sns.swarmplot(DS_Salary_df['Salaries Reported'], DS_Salary_df['Location'], hue = DS_Salary_df['Location']);"
   ]
  }
 ],
 "metadata": {
  "kernelspec": {
   "display_name": "Python 3",
   "language": "python",
   "name": "python3"
  },
  "language_info": {
   "codemirror_mode": {
    "name": "ipython",
    "version": 3
   },
   "file_extension": ".py",
   "mimetype": "text/x-python",
   "name": "python",
   "nbconvert_exporter": "python",
   "pygments_lexer": "ipython3",
   "version": "3.7.12"
  },
  "papermill": {
   "default_parameters": {},
   "duration": 79.49564,
   "end_time": "2022-08-28T02:34:28.699672",
   "environment_variables": {},
   "exception": null,
   "input_path": "__notebook__.ipynb",
   "output_path": "__notebook__.ipynb",
   "parameters": {},
   "start_time": "2022-08-28T02:33:09.204032",
   "version": "2.3.4"
  }
 },
 "nbformat": 4,
 "nbformat_minor": 5
}
